{
  "cells": [
    {
      "cell_type": "markdown",
      "metadata": {},
      "source": [
        "# Meta"
      ]
    },
    {
      "cell_type": "code",
      "execution_count": 3,
      "metadata": {
        "pycharm": {
          "name": "#%%\n"
        }
      },
      "outputs": [],
      "source": [
        "#import sys\n",
        "#sys.path.insert(1, \"..\\\\\")\n",
        "\n",
        "# Autoreload modules without having to restart the notebook kernel.\n",
        "%load_ext autoreload\n",
        "%autoreload 2\n",
        "\n",
        "\n",
        "# Plotting code from Georg's notebook.\n",
        "import matplotlib.pyplot as plt\n",
        "\n",
        "%matplotlib inline\n",
        "font = {'family': 'DejaVu Sans',\n",
        "        'weight': 'bold',\n",
        "        'size': 32}\n",
        "plt.rc('font', **font)\n",
        "\n",
        "import networkx as nx\n",
        "import pandas as pd\n",
        "\n",
        "# Personal libraries\n",
        "import lib.graph\n",
        "import lib.files\n",
        "import lib.cluster\n",
        "import lib.constants"
      ]
    },
    {
      "cell_type": "markdown",
      "metadata": {},
      "source": [
        "# Constants"
      ]
    },
    {
      "cell_type": "code",
      "execution_count": 5,
      "metadata": {
        "pycharm": {
          "name": "#%%\n"
        }
      },
      "outputs": [],
      "source": [
        "ICP55 = '4932.YER078C'\n",
        "THRESHOLD = 900"
      ]
    },
    {
      "cell_type": "markdown",
      "metadata": {
        "pycharm": {
          "name": "#%% md\n"
        }
      },
      "source": [
        "### ICP55 cc 900 inv\n",
        "ICP55's largest connected component with edge threshold 900 and inviable proteins included."
      ]
    },
    {
      "cell_type": "code",
      "execution_count": 4,
      "metadata": {
        "pycharm": {
          "name": "#%%\n"
        }
      },
      "outputs": [],
      "source": [
        "n0 = lib.graph.read_STRING()\n",
        "n0 = lib.graph.remove_edges_below_threshold(n0, THRESHOLD)\n",
        "n0 = lib.graph.remove_nodes_with_degree_lte(n0, 0)\n",
        "n0 = lib.graph.get_largest_cc_with_node(n0, ICP55)\n",
        "lib.graph.write_weighted_edgelist(n0, lib.files.make_filepath_to_networks('icp55-cc-900-inv.txt'))"
      ]
    },
    {
      "cell_type": "markdown",
      "metadata": {
        "pycharm": {
          "name": "#%% md\n"
        }
      },
      "source": [
        "### ICP55 cc 900 noInv\n",
        "ICP55's largest connected component with edge threshold 900 and invialbe proteins exlcuded."
      ]
    },
    {
      "cell_type": "code",
      "execution_count": 7,
      "metadata": {
        "pycharm": {
          "name": "#%%\n"
        }
      },
      "outputs": [],
      "source": [
        "# Read in inviable_proteins as a list.\n",
        "inviable_proteins = lib.graph.read_inviable_proteins(as_graph=False)\n",
        "\n",
        "# Preprocess the network\n",
        "n1 = lib.graph.read_STRING()\n",
        "n1 = lib.graph.remove_edges_below_threshold(n1, THRESHOLD)\n",
        "n1 = lib.graph.remove_nodes_from_list(n1, inviable_proteins)\n",
        "n1 = lib.graph.remove_nodes_with_degree_lte(n1, 0)\n",
        "n1 = lib.graph.get_largest_cc_with_node(n1, ICP55)\n",
        "\n",
        "# Write to file\n",
        "lib.graph.write_weighted_edgelist(n1, lib.files.make_filepath_to_networks('icp55-cc-900-noInv.txt'))"
      ]
    },
    {
      "cell_type": "markdown",
      "metadata": {
        "pycharm": {
          "name": "#%% md\n"
        }
      },
      "source": [
        "### ICP55 cc 900 inv mcl cluster-shorpl<=3\n",
        "Connected component of ICP55 including inviable proteins.\n",
        "\n",
        "Cutoff = 900\n",
        "\n",
        "Markov clustering\n",
        "\n",
        "Restricted to nodes with shortest path length <= 3 to icp55 or pim1 and nodes belonging to clusters with\n",
        "shortest path length <= 3 to icp55 or pim1."
      ]
    },
    {
      "cell_type": "code",
      "execution_count": null,
      "metadata": {
        "pycharm": {
          "name": "#%%\n"
        }
      },
      "outputs": [],
      "source": [
        "SHORPL_CUTOFF = 3\n",
        "\n",
        "network_name = 'icp55-cc-900-inv'\n",
        "network_filepath = lib.files.make_filepath_to_networks(f'{network_name}.txt')\n",
        "cluster_filepath = lib.files.make_filepath_to_clusters(f'mcl.{network_name}.nodes.csv')\n",
        "cluster_df_filepath = lib.files.make_filepath_to_clusters(f'mcl.{network_name}.dataframe.csv')\n",
        "\n",
        "network = lib.graph.read_weighted_edgelist(network_filepath)\n",
        "clusters = lib.cluster.read_csv(cluster_filepath)\n",
        "cluster_df = pd.read_csv(cluster_df_filepath, header=0, index_col=0)\n",
        "\n",
        "condition_1 = cluster_df['size'] > 5\n",
        "condition_2 = (cluster_df['icp55_shorpl'] <= SHORPL_CUTOFF) | (cluster_df['pim1_shorpl'] <= SHORPL_CUTOFF)\n",
        "relevant_cluster_df = cluster_df[condition_1 & condition_2]\n",
        "relevant_clusters = [clusters[idx] for idx in relevant_cluster_df['cluster']]\n",
        "\n",
        "relevant_proteins = set()\n",
        "relevant_proteins.update(lib.cluster.proteins(relevant_clusters))\n",
        "relevant_proteins.update(lib.graph.get_neighbourhood(network, lib.constants.ICP55, SHORPL_CUTOFF))\n",
        "relevant_proteins.update(lib.graph.get_neighbourhood(network, lib.constants.PIM1, SHORPL_CUTOFF))\n",
        "relevant_cluster_network = lib.graph.get_largest_connected_component(network.subgraph(relevant_proteins))\n",
        "\n",
        "filepath = lib.files.make_filepath_to_networks('mcl_shorpl_lte_3.icp55-cc-900-inv.csv')\n",
        "# UNCOMMENTING BELOW WILL OVERWRITE FILE\n",
        "# lib.graph.write_weighted_edgelist(relevant_cluster_network, filepath)"
      ]
    }
  ],
  "metadata": {
    "kernelspec": {
      "display_name": "Python 3",
      "language": "python",
      "name": "python3"
    },
    "language_info": {
      "codemirror_mode": {
        "name": "ipython",
        "version": 3
      },
      "file_extension": ".py",
      "mimetype": "text/x-python",
      "name": "python",
      "nbconvert_exporter": "python",
      "pygments_lexer": "ipython3",
      "version": "3.9.5"
    }
  },
  "nbformat": 4,
  "nbformat_minor": 1
}

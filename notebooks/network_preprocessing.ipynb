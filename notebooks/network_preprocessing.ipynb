{
 "cells": [
  {
   "cell_type": "markdown",
   "source": [
    "# Meta"
   ],
   "metadata": {
    "collapsed": false
   }
  },
  {
   "cell_type": "code",
   "execution_count": 3,
   "outputs": [
    {
     "name": "stderr",
     "output_type": "stream",
     "text": [
      "UsageError: Line magic function `%` not found.\n"
     ]
    }
   ],
   "source": [
    "# Autoreload modules without having to restart the notebook kernel.\n",
    "% load_ext autoreload\n",
    "% autoreload 2\n",
    "\n",
    "\n",
    "# Plotting code from Georg's notebook.\n",
    "import matplotlib.pyplot as plt\n",
    "\n",
    "% matplotlib inline\n",
    "font = {'family': 'DejaVu Sans',\n",
    "        'weight': 'bold',\n",
    "        'size': 32}\n",
    "plt.rc('font', **font)"
   ],
   "metadata": {
    "collapsed": false,
    "pycharm": {
     "name": "#%%\n"
    }
   }
  },
  {
   "cell_type": "markdown",
   "source": [
    "# Imports"
   ],
   "metadata": {
    "collapsed": false
   }
  },
  {
   "cell_type": "code",
   "execution_count": 8,
   "outputs": [],
   "source": [
    "# Make the source directory available on all machines.\n",
    "import sys\n",
    "\n",
    "# This must be executed before importing any files from the 'lib' module which exists in the src directory.\n",
    "sys.path.insert(1, \"..\\\\\")\n",
    "\n",
    "import networkx as nx\n",
    "\n",
    "# Personal libraries\n",
    "import lib.graph\n",
    "import lib.files"
   ],
   "metadata": {
    "collapsed": false,
    "pycharm": {
     "name": "#%%\n"
    }
   }
  },
  {
   "cell_type": "markdown",
   "source": [
    "# Constants"
   ],
   "metadata": {
    "collapsed": false
   }
  },
  {
   "cell_type": "code",
   "execution_count": 5,
   "outputs": [],
   "source": [
    "ICP55 = '4932.YER078C'\n",
    "THRESHOLD = 900"
   ],
   "metadata": {
    "collapsed": false,
    "pycharm": {
     "name": "#%%\n"
    }
   }
  },
  {
   "cell_type": "markdown",
   "source": [
    "### ICP55 cc 900 inv\n",
    "ICP55's largest connected component with edge threshold 900 and inviable proteins included."
   ],
   "metadata": {
    "collapsed": false,
    "pycharm": {
     "name": "#%% md\n"
    }
   }
  },
  {
   "cell_type": "code",
   "execution_count": 4,
   "outputs": [],
   "source": [
    "n0 = lib.graph.read_STRING()\n",
    "n0 = lib.graph.remove_edges_below_threshold(n0, THRESHOLD)\n",
    "n0 = lib.graph.remove_nodes_with_degree_lte(n0, 0)\n",
    "n0 = lib.graph.get_largest_cc_with_node(n0, ICP55)\n",
    "lib.graph.write_weighted_edgelist(n0, lib.files.make_filepath_to_networks('icp55-cc-900-inv.txt'))"
   ],
   "metadata": {
    "collapsed": false,
    "pycharm": {
     "name": "#%%\n"
    }
   }
  },
  {
   "cell_type": "markdown",
   "source": [
    "### ICP55 cc 900 noInv\n",
    "ICP55's largest connected component with edge threshold 900 and invialbe proteins exlcuded."
   ],
   "metadata": {
    "collapsed": false,
    "pycharm": {
     "name": "#%% md\n"
    }
   }
  },
  {
   "cell_type": "code",
   "execution_count": 7,
   "outputs": [],
   "source": [
    "# Read in inviable_proteins as a list.\n",
    "inviable_proteins = lib.graph.read_inviable_proteins(as_graph=False)\n",
    "\n",
    "# Preprocess the network\n",
    "n1 = lib.graph.read_STRING()\n",
    "n1 = lib.graph.remove_edges_below_threshold(n1, THRESHOLD)\n",
    "n1 = lib.graph.remove_nodes_from_list(n1, inviable_proteins)\n",
    "n1 = lib.graph.remove_nodes_with_degree_lte(n1, 0)\n",
    "n1 = lib.graph.get_largest_cc_with_node(n1, ICP55)\n",
    "\n",
    "# Write to file\n",
    "lib.graph.write_weighted_edgelist(n1, lib.files.make_filepath_to_networks('icp55-cc-900-noInv.txt'))"
   ],
   "metadata": {
    "collapsed": false,
    "pycharm": {
     "name": "#%%\n"
    }
   }
  }
 ],
 "metadata": {
  "kernelspec": {
   "name": "pycharm-8a1eea31",
   "language": "python",
   "display_name": "PyCharm (math3888)"
  },
  "language_info": {
   "codemirror_mode": {
    "name": "ipython",
    "version": 2
   },
   "file_extension": ".py",
   "mimetype": "text/x-python",
   "name": "python",
   "nbconvert_exporter": "python",
   "pygments_lexer": "ipython2",
   "version": "2.7.6"
  }
 },
 "nbformat": 4,
 "nbformat_minor": 0
}
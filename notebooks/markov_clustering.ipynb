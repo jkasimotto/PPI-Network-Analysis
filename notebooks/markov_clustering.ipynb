{
 "cells": [
  {
   "cell_type": "markdown",
   "metadata": {
    "collapsed": true,
    "pycharm": {
     "name": "#%% md\n"
    }
   },
   "source": [
    "# Meta"
   ]
  },
  {
   "cell_type": "code",
   "execution_count": null,
   "outputs": [],
   "source": [
    "# Autoreload modules without having to restart the notebook kernel.\n",
    "% load_ext autoreload\n",
    "% autoreload 2\n",
    "\n",
    "\n",
    "# Plotting code from Georg's notebook.\n",
    "import matplotlib.pyplot as plt\n",
    "\n",
    "% matplotlib inline\n",
    "font = {'family': 'DejaVu Sans',\n",
    "        'weight': 'bold',\n",
    "        'size': 32}\n",
    "plt.rc('font', **font)"
   ],
   "metadata": {
    "collapsed": false,
    "pycharm": {
     "name": "#%%\n"
    }
   }
  },
  {
   "cell_type": "markdown",
   "source": [
    "# Imports"
   ],
   "metadata": {
    "collapsed": false
   }
  },
  {
   "cell_type": "code",
   "execution_count": null,
   "outputs": [],
   "source": [
    "# Make the source directory available on all machines.\n",
    "import sys\n",
    "\n",
    "# This must be executed before importing any files from the 'lib' module which exists in the src directory.\n",
    "sys.path.insert(1, \"..\\\\\")\n",
    "\n",
    "# Personal libraries\n",
    "import lib.cluster\n",
    "import lib.graph\n",
    "import lib.files"
   ],
   "metadata": {
    "collapsed": false,
    "pycharm": {
     "name": "#%%\n"
    }
   }
  },
  {
   "cell_type": "markdown",
   "source": [
    "# Constants"
   ],
   "metadata": {
    "collapsed": false,
    "pycharm": {
     "name": "#%% md\n"
    }
   }
  },
  {
   "cell_type": "code",
   "execution_count": null,
   "outputs": [],
   "source": [
    "ICP55 = '4932.YER078C'\n",
    "THRESHOLD = 900\n",
    "INFLATION = 2  # The parameter controlling Markov Clustering"
   ],
   "metadata": {
    "collapsed": false,
    "pycharm": {
     "name": "#%%\n"
    }
   }
  },
  {
   "cell_type": "markdown",
   "source": [
    "# Analysis\n",
    "\n",
    "### ICP55 connected component with inviable proteins"
   ],
   "metadata": {
    "collapsed": false,
    "pycharm": {
     "name": "#%% md\n"
    }
   }
  },
  {
   "cell_type": "code",
   "execution_count": null,
   "outputs": [],
   "source": [
    "# Preprocess the network\n",
    "n0 = lib.graph.read_STRING()\n",
    "n0 = lib.graph.remove_edges_below_threshold(n0, THRESHOLD)\n",
    "n0 = lib.graph.remove_nodes_with_degree_lte(n0, 0)\n",
    "n0 = lib.graph.get_largest_cc_with_node(n0, ICP55)\n",
    "\n",
    "# Run MCL and save to file\n",
    "filepath = lib.files.make_filepath_to_mcl_clusters(\"icp55-cc-inviable.csv\")\n",
    "lib.cluster.run_mcl_write_to_file(n0, filepath, inflation=INFLATION)"
   ],
   "metadata": {
    "collapsed": false,
    "pycharm": {
     "name": "#%%\n"
    }
   }
  },
  {
   "cell_type": "markdown",
   "source": [
    "### ICP55 connected component no inviable proteins"
   ],
   "metadata": {
    "collapsed": false,
    "pycharm": {
     "name": "#%% md\n"
    }
   }
  },
  {
   "cell_type": "code",
   "execution_count": null,
   "outputs": [],
   "source": [
    "# Read in inviable_proteins as a list.\n",
    "inviable_proteins = lib.graph.read_inviable_proteins(as_graph=False)\n",
    "\n",
    "# Preprocess the network\n",
    "n1 = lib.graph.read_STRING()\n",
    "n1 = lib.graph.remove_edges_below_threshold(n1, THRESHOLD)\n",
    "n1 = lib.graph.remove_nodes_from_list(n1, inviable_proteins)\n",
    "n1 = lib.graph.remove_nodes_with_degree_lte(n1, 0)\n",
    "n1 = lib.graph.get_largest_cc_with_node(n1, ICP55)\n",
    "\n",
    "# Run MCL and save to file\n",
    "filepath = lib.files.make_filepath_to_mcl_clusters(\"icp55-cc-no-inviable.csv\")\n",
    "lib.cluster.run_mcl_write_to_file(n0, filepath, inflation=INFLATION)"
   ],
   "metadata": {
    "collapsed": false,
    "pycharm": {
     "name": "#%%\n"
    }
   }
  }
 ],
 "metadata": {
  "kernelspec": {
   "display_name": "Python 3",
   "language": "python",
   "name": "python3"
  },
  "language_info": {
   "codemirror_mode": {
    "name": "ipython",
    "version": 2
   },
   "file_extension": ".py",
   "mimetype": "text/x-python",
   "name": "python",
   "nbconvert_exporter": "python",
   "pygments_lexer": "ipython2",
   "version": "2.7.6"
  }
 },
 "nbformat": 4,
 "nbformat_minor": 0
}
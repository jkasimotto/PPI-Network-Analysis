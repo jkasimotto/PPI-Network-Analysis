{
 "cells": [
  {
   "cell_type": "markdown",
   "metadata": {
    "collapsed": true,
    "pycharm": {
     "name": "#%% md\n"
    }
   },
   "source": [
    "# Meta"
   ]
  },
  {
   "cell_type": "code",
   "execution_count": 1,
   "outputs": [],
   "source": [
    "# Autoreload modules without having to restart the notebook kernel.\n",
    "%load_ext autoreload\n",
    "%autoreload 2\n",
    "\n",
    "\n",
    "# Plotting code from Georg's notebook.\n",
    "import matplotlib.pyplot as plt\n",
    "\n",
    "%matplotlib inline\n",
    "font = {'family': 'DejaVu Sans',\n",
    "        'weight': 'bold',\n",
    "        'size': 32}\n",
    "plt.rc('font', **font)\n",
    "\n",
    "# Personal libraries\n",
    "import lib.cluster\n",
    "import lib.graph\n",
    "import lib.files\n",
    "import lib.constants"
   ],
   "metadata": {
    "collapsed": false,
    "pycharm": {
     "name": "#%%\n"
    }
   }
  },
  {
   "cell_type": "markdown",
   "source": [
    "# Constants"
   ],
   "metadata": {
    "collapsed": false,
    "pycharm": {
     "name": "#%% md\n"
    }
   }
  },
  {
   "cell_type": "code",
   "execution_count": 2,
   "outputs": [],
   "source": [
    "INFLATION = 2  # The parameter controlling Markov Clustering"
   ],
   "metadata": {
    "collapsed": false,
    "pycharm": {
     "name": "#%%\n"
    }
   }
  },
  {
   "cell_type": "markdown",
   "source": [
    "# Analysis\n",
    "\n",
    "### MCL of ICP55-cc-900-inv"
   ],
   "metadata": {
    "collapsed": false,
    "pycharm": {
     "name": "#%% md\n"
    }
   }
  },
  {
   "cell_type": "code",
   "execution_count": 3,
   "outputs": [],
   "source": [
    "network_name = 'icp55-cc-900-inv'\n",
    "network_filepath = lib.files.make_filepath_to_networks(f'{network_name}.txt')\n",
    "cluster_filepath = lib.files.make_filepath_to_clusters(f'mcl.{network_name}.nodes.csv')\n",
    "cluster_df_filepath = lib.files.make_filepath_to_clusters(f'mcl.{network_name}.dataframe.csv')\n",
    "\n",
    "network = lib.graph.read_weighted_edgelist(network_filepath)\n",
    "mcl_data = lib.cluster.run_mcl(network, INFLATION)"
   ],
   "metadata": {
    "collapsed": false,
    "pycharm": {
     "name": "#%%\n"
    }
   }
  },
  {
   "cell_type": "code",
   "execution_count": 7,
   "outputs": [],
   "source": [
    "# UNCOMMENTING BELOW WILL OVERWRITE THE EXISTING FILES\n",
    "lib.cluster.generate_and_save_dataframe(network, mcl_data.clusters, cluster_df_filepath)\n",
    "lib.cluster.write_to_file(cluster_filepath, mcl_data.clusters)"
   ],
   "metadata": {
    "collapsed": false,
    "pycharm": {
     "name": "#%%\n"
    }
   }
  },
  {
   "cell_type": "markdown",
   "source": [
    "### ICP55 connected component no inviable proteins"
   ],
   "metadata": {
    "collapsed": false,
    "pycharm": {
     "name": "#%% md\n"
    }
   }
  },
  {
   "cell_type": "code",
   "execution_count": null,
   "outputs": [],
   "source": [
    "lib.cluster.run_mcl_and_write_to_file(\n",
    "    graph=lib.graph.read_edgelist(lib.files.make_filepath_to_networks('icp55-cc-900-noInv.txt')),\n",
    "    filepath=lib.files.make_filepath_to_mcl_clusters(\"icp55-cc-inviable.csv\"),\n",
    "    inflation=INFLATION\n",
    ")"
   ],
   "metadata": {
    "collapsed": false,
    "pycharm": {
     "name": "#%%\n"
    }
   }
  }
 ],
 "metadata": {
  "kernelspec": {
   "name": "pycharm-8a1eea31",
   "language": "python",
   "display_name": "PyCharm (math3888)"
  },
  "language_info": {
   "codemirror_mode": {
    "name": "ipython",
    "version": 2
   },
   "file_extension": ".py",
   "mimetype": "text/x-python",
   "name": "python",
   "nbconvert_exporter": "python",
   "pygments_lexer": "ipython2",
   "version": "2.7.6"
  }
 },
 "nbformat": 4,
 "nbformat_minor": 0
}
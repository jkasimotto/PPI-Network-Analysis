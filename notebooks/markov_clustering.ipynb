{
 "cells": [
  {
   "cell_type": "markdown",
   "metadata": {
    "collapsed": true,
    "pycharm": {
     "name": "#%% md\n"
    }
   },
   "source": [
    "# Meta"
   ]
  },
  {
   "cell_type": "code",
   "execution_count": 2,
   "outputs": [],
   "source": [
    "# Autoreload modules without having to restart the notebook kernel.\n",
    "import networkx as nx\n",
    "% load_ext autoreload\n",
    "% autoreload 2\n",
    "\n",
    "\n",
    "# Plotting code from Georg's notebook.\n",
    "import matplotlib.pyplot as plt\n",
    "\n",
    "% matplotlib inline\n",
    "font = {'family': 'DejaVu Sans',\n",
    "        'weight': 'bold',\n",
    "        'size': 32}\n",
    "plt.rc('font', **font)\n",
    "\n",
    "# Personal libraries\n",
    "import lib.cluster\n",
    "import lib.graph\n",
    "import lib.files\n",
    "import lib.constants"
   ],
   "metadata": {
    "collapsed": false,
    "pycharm": {
     "name": "#%%\n"
    }
   }
  },
  {
   "cell_type": "markdown",
   "metadata": {
    "pycharm": {
     "name": "#%% md\n"
    }
   },
   "source": [
    "# Constants"
   ]
  },
  {
   "cell_type": "code",
   "execution_count": null,
   "metadata": {
    "pycharm": {
     "name": "#%%\n"
    }
   },
   "outputs": [],
   "source": [
    "INFLATION = 2  # The parameter controlling Markov Clustering"
   ]
  },
  {
   "cell_type": "markdown",
   "metadata": {
    "pycharm": {
     "name": "#%% md\n"
    }
   },
   "source": [
    "# Analysis\n",
    "\n",
    "### ICP55 connected component with inviable proteins with inflation = 2"
   ]
  },
  {
   "cell_type": "code",
   "execution_count": 3,
   "outputs": [],
   "source": [
    "network_name = 'icp55-cc-900-inv'\n",
    "network_filepath = lib.files.make_filepath_to_networks(f'{network_name}.txt')\n",
    "cluster_filepath = lib.files.make_filepath_to_clusters(f'mcl.{network_name}.nodes.csv')\n",
    "cluster_df_filepath = lib.files.make_filepath_to_clusters(f'mcl.{network_name}.dataframe.csv')\n",
    "\n",
    "network = lib.graph.read_weighted_edgelist(network_filepath)\n",
    "mcl_data = lib.cluster.run_mcl(network, INFLATION)\n",
    "\n",
    "# UNCOMMENTING BELOW WILL OVERWRITE THE EXISTING FILES\n",
    "# lib.cluster.generate_and_save_dataframe(network, mcl_data.clusters, cluster_df_filepath)\n",
    "# lib.cluster.write_to_file(cluster_filepath, mcl_data.clusters)"
   ],
   "metadata": {
    "collapsed": false,
    "pycharm": {
     "name": "#%%\n"
    }
   }
  },
  {
   "cell_type": "markdown",
   "source": [
    "### ICP55 connected component with inviable proteins with inflation = 1.4\n",
    "When inflation = 2, ICP55 exists in a disconnected cluster of size 2.\n",
    "One method of handling this was to \"uncluster\" nodes like this (i.e. assign them singleton clusters)\n",
    "Another method is to coarsen the clusters."
   ],
   "metadata": {
    "collapsed": false,
    "pycharm": {
     "name": "#%% md\n"
    }
   }
  },
  {
   "cell_type": "code",
   "execution_count": 2,
   "outputs": [
    {
     "name": "stdout",
     "output_type": "stream",
     "text": [
      "Time taken 1605751980.4159539\n"
     ]
    }
   ],
   "source": [
    "network_name = 'icp55-cc-900-inv'\n",
    "network_filepath = lib.files.make_filepath_to_networks(f'{network_name}.txt')\n",
    "cluster_filepath = lib.files.make_filepath_to_clusters(f'mcl.{network_name}.nodes.csv')\n",
    "cluster_df_filepath = lib.files.make_filepath_to_clusters(f'mcl.{network_name}.dataframe.csv')\n",
    "\n",
    "network = lib.graph.read_weighted_edgelist(network_filepath)\n",
    "import time\n",
    "\n",
    "start = time.time()\n",
    "mcl_data = lib.cluster.run_mcl(network, inflation=1.4)\n",
    "end = time.time()\n",
    "print(f\"Time taken {end - start / 60}\")"
   ],
   "metadata": {
    "collapsed": false,
    "pycharm": {
     "name": "#%%\n"
    }
   }
  },
  {
   "cell_type": "code",
   "execution_count": 3,
   "outputs": [
    {
     "name": "stdout",
     "output_type": "stream",
     "text": [
      "Time taken 1605751989.9316916\n",
      "Number of clusters: 179\n",
      "Percentage of connected clusters: 0.9776536312849162\n",
      "ICP55 cluster size: 98\n",
      "ICP55 cluster is connected: True\n",
      "PIM1 cluster size: 4\n",
      "PIM1 cluster is connected: True\n"
     ]
    }
   ],
   "source": [
    "start = time.time()\n",
    "df = lib.cluster.generate_dataframe(network, mcl_data.clusters)\n",
    "end = time.time()\n",
    "print(f\"Time taken {end - start / 60}\")\n",
    "icp55_cluster_index = lib.cluster.cluster_idxs_with_protein(mcl_data.clusters, lib.constants.ICP55)[0]\n",
    "pim1_cluster_index = lib.cluster.cluster_idxs_with_protein(mcl_data.clusters, lib.constants.PIM1)[0]\n",
    "print(f\"Number of clusters: {len(df)}\")\n",
    "print(f\"Percentage of connected clusters: {len(df[df['is_connected']]) / len(df)}\")\n",
    "print(f\"ICP55 cluster size: {df.iloc[icp55_cluster_index]['size']}\")\n",
    "print(f\"ICP55 cluster is connected: {df.iloc[icp55_cluster_index]['is_connected']}\")\n",
    "print(f\"PIM1 cluster size: {df.iloc[pim1_cluster_index]['size']}\")\n",
    "print(f\"PIM1 cluster is connected: {df.iloc[pim1_cluster_index]['is_connected']}\")"
   ],
   "metadata": {
    "collapsed": false,
    "pycharm": {
     "name": "#%%\n"
    }
   }
  },
  {
   "cell_type": "code",
   "execution_count": 6,
   "outputs": [
    {
     "ename": "KeyboardInterrupt",
     "evalue": "",
     "output_type": "error",
     "traceback": [
      "\u001B[1;31m---------------------------------------------------------------------------\u001B[0m",
      "\u001B[1;31mKeyboardInterrupt\u001B[0m                         Traceback (most recent call last)",
      "\u001B[1;32m~\\AppData\\Local\\Temp/ipykernel_8872/3840258000.py\u001B[0m in \u001B[0;36m<module>\u001B[1;34m\u001B[0m\n\u001B[0;32m      7\u001B[0m \u001B[1;32mimport\u001B[0m \u001B[0mtime\u001B[0m\u001B[1;33m\u001B[0m\u001B[1;33m\u001B[0m\u001B[0m\n\u001B[0;32m      8\u001B[0m \u001B[0mstart\u001B[0m \u001B[1;33m=\u001B[0m \u001B[0mtime\u001B[0m\u001B[1;33m.\u001B[0m\u001B[0mtime\u001B[0m\u001B[1;33m(\u001B[0m\u001B[1;33m)\u001B[0m\u001B[1;33m\u001B[0m\u001B[1;33m\u001B[0m\u001B[0m\n\u001B[1;32m----> 9\u001B[1;33m \u001B[0mclusters\u001B[0m \u001B[1;33m=\u001B[0m \u001B[0mlib\u001B[0m\u001B[1;33m.\u001B[0m\u001B[0mcluster\u001B[0m\u001B[1;33m.\u001B[0m\u001B[0mrun_pc2p\u001B[0m\u001B[1;33m(\u001B[0m\u001B[0mnetwork\u001B[0m\u001B[1;33m)\u001B[0m\u001B[1;33m\u001B[0m\u001B[1;33m\u001B[0m\u001B[0m\n\u001B[0m\u001B[0;32m     10\u001B[0m \u001B[0mend\u001B[0m \u001B[1;33m=\u001B[0m \u001B[0mtime\u001B[0m\u001B[1;33m.\u001B[0m\u001B[0mtime\u001B[0m\u001B[1;33m(\u001B[0m\u001B[1;33m)\u001B[0m\u001B[1;33m\u001B[0m\u001B[1;33m\u001B[0m\u001B[0m\n\u001B[0;32m     11\u001B[0m \u001B[0mprint\u001B[0m\u001B[1;33m(\u001B[0m\u001B[1;34mf\"Time taken {(end - start) / 60}\"\u001B[0m\u001B[1;33m)\u001B[0m\u001B[1;33m\u001B[0m\u001B[1;33m\u001B[0m\u001B[0m\n",
      "\u001B[1;32m~\\projects\\python\\math3888\\math3888\\lib\\cluster.py\u001B[0m in \u001B[0;36mrun_pc2p\u001B[1;34m(network)\u001B[0m\n\u001B[0;32m    191\u001B[0m \u001B[1;32mdef\u001B[0m \u001B[0mrun_pc2p\u001B[0m\u001B[1;33m(\u001B[0m\u001B[0mnetwork\u001B[0m\u001B[1;33m)\u001B[0m\u001B[1;33m:\u001B[0m\u001B[1;33m\u001B[0m\u001B[1;33m\u001B[0m\u001B[0m\n\u001B[0;32m    192\u001B[0m     \u001B[0mG\u001B[0m \u001B[1;33m=\u001B[0m \u001B[0mnetwork\u001B[0m\u001B[1;33m.\u001B[0m\u001B[0mcopy\u001B[0m\u001B[1;33m(\u001B[0m\u001B[1;33m)\u001B[0m\u001B[1;33m\u001B[0m\u001B[1;33m\u001B[0m\u001B[0m\n\u001B[1;32m--> 193\u001B[1;33m     \u001B[0medge_cut\u001B[0m \u001B[1;33m=\u001B[0m \u001B[0mPC2P\u001B[0m\u001B[1;33m.\u001B[0m\u001B[0mPC2P_ParallelMultiprocess\u001B[0m\u001B[1;33m.\u001B[0m\u001B[0mFind_CNP\u001B[0m\u001B[1;33m(\u001B[0m\u001B[0mG\u001B[0m\u001B[1;33m)\u001B[0m\u001B[1;33m\u001B[0m\u001B[1;33m\u001B[0m\u001B[0m\n\u001B[0m\u001B[0;32m    194\u001B[0m     \u001B[1;31m# PC2P clusters nodes into connected components by removing edges\u001B[0m\u001B[1;33m\u001B[0m\u001B[1;33m\u001B[0m\u001B[1;33m\u001B[0m\u001B[0m\n\u001B[0;32m    195\u001B[0m     \u001B[0mG_copy\u001B[0m \u001B[1;33m=\u001B[0m \u001B[0mG\u001B[0m\u001B[1;33m.\u001B[0m\u001B[0mcopy\u001B[0m\u001B[1;33m(\u001B[0m\u001B[1;33m)\u001B[0m\u001B[1;33m\u001B[0m\u001B[1;33m\u001B[0m\u001B[0m\n",
      "\u001B[1;32m~\\projects\\python\\math3888\\math3888\\PC2P\\PC2P_ParallelMultiprocess.py\u001B[0m in \u001B[0;36mFind_CNP\u001B[1;34m(G, mixed_label)\u001B[0m\n\u001B[0;32m    201\u001B[0m             \u001B[0mresult_objects_1\u001B[0m \u001B[1;33m=\u001B[0m \u001B[1;33m[\u001B[0m\u001B[0mpool\u001B[0m\u001B[1;33m.\u001B[0m\u001B[0mapply_async\u001B[0m\u001B[1;33m(\u001B[0m\u001B[0mCNP\u001B[0m\u001B[1;33m,\u001B[0m \u001B[0margs\u001B[0m\u001B[1;33m=\u001B[0m\u001B[1;33m(\u001B[0m\u001B[0mcomponentOfG\u001B[0m\u001B[1;33m,\u001B[0m\u001B[0mv\u001B[0m\u001B[1;33m,\u001B[0m\u001B[0mmixed_label\u001B[0m\u001B[1;33m)\u001B[0m\u001B[1;33m)\u001B[0m \u001B[1;32mfor\u001B[0m \u001B[0mv\u001B[0m \u001B[1;32min\u001B[0m \u001B[0mnodes\u001B[0m\u001B[1;33m]\u001B[0m\u001B[1;33m\u001B[0m\u001B[1;33m\u001B[0m\u001B[0m\n\u001B[0;32m    202\u001B[0m             \u001B[1;31m# result_objects is a list of pool.ApplyResult objects\u001B[0m\u001B[1;33m\u001B[0m\u001B[1;33m\u001B[0m\u001B[1;33m\u001B[0m\u001B[0m\n\u001B[1;32m--> 203\u001B[1;33m             \u001B[0mresults_1\u001B[0m \u001B[1;33m=\u001B[0m \u001B[1;33m[\u001B[0m\u001B[0mr1\u001B[0m\u001B[1;33m.\u001B[0m\u001B[0mget\u001B[0m\u001B[1;33m(\u001B[0m\u001B[1;33m)\u001B[0m \u001B[1;32mfor\u001B[0m \u001B[0mr1\u001B[0m \u001B[1;32min\u001B[0m \u001B[0mresult_objects_1\u001B[0m\u001B[1;33m]\u001B[0m\u001B[1;33m\u001B[0m\u001B[1;33m\u001B[0m\u001B[0m\n\u001B[0m\u001B[0;32m    204\u001B[0m             \u001B[0mpool\u001B[0m\u001B[1;33m.\u001B[0m\u001B[0mclose\u001B[0m\u001B[1;33m(\u001B[0m\u001B[1;33m)\u001B[0m\u001B[1;33m\u001B[0m\u001B[1;33m\u001B[0m\u001B[0m\n\u001B[0;32m    205\u001B[0m             \u001B[0mpool\u001B[0m\u001B[1;33m.\u001B[0m\u001B[0mjoin\u001B[0m\u001B[1;33m(\u001B[0m\u001B[1;33m)\u001B[0m\u001B[1;33m\u001B[0m\u001B[1;33m\u001B[0m\u001B[0m\n",
      "\u001B[1;32m~\\projects\\python\\math3888\\math3888\\PC2P\\PC2P_ParallelMultiprocess.py\u001B[0m in \u001B[0;36m<listcomp>\u001B[1;34m(.0)\u001B[0m\n\u001B[0;32m    201\u001B[0m             \u001B[0mresult_objects_1\u001B[0m \u001B[1;33m=\u001B[0m \u001B[1;33m[\u001B[0m\u001B[0mpool\u001B[0m\u001B[1;33m.\u001B[0m\u001B[0mapply_async\u001B[0m\u001B[1;33m(\u001B[0m\u001B[0mCNP\u001B[0m\u001B[1;33m,\u001B[0m \u001B[0margs\u001B[0m\u001B[1;33m=\u001B[0m\u001B[1;33m(\u001B[0m\u001B[0mcomponentOfG\u001B[0m\u001B[1;33m,\u001B[0m\u001B[0mv\u001B[0m\u001B[1;33m,\u001B[0m\u001B[0mmixed_label\u001B[0m\u001B[1;33m)\u001B[0m\u001B[1;33m)\u001B[0m \u001B[1;32mfor\u001B[0m \u001B[0mv\u001B[0m \u001B[1;32min\u001B[0m \u001B[0mnodes\u001B[0m\u001B[1;33m]\u001B[0m\u001B[1;33m\u001B[0m\u001B[1;33m\u001B[0m\u001B[0m\n\u001B[0;32m    202\u001B[0m             \u001B[1;31m# result_objects is a list of pool.ApplyResult objects\u001B[0m\u001B[1;33m\u001B[0m\u001B[1;33m\u001B[0m\u001B[1;33m\u001B[0m\u001B[0m\n\u001B[1;32m--> 203\u001B[1;33m             \u001B[0mresults_1\u001B[0m \u001B[1;33m=\u001B[0m \u001B[1;33m[\u001B[0m\u001B[0mr1\u001B[0m\u001B[1;33m.\u001B[0m\u001B[0mget\u001B[0m\u001B[1;33m(\u001B[0m\u001B[1;33m)\u001B[0m \u001B[1;32mfor\u001B[0m \u001B[0mr1\u001B[0m \u001B[1;32min\u001B[0m \u001B[0mresult_objects_1\u001B[0m\u001B[1;33m]\u001B[0m\u001B[1;33m\u001B[0m\u001B[1;33m\u001B[0m\u001B[0m\n\u001B[0m\u001B[0;32m    204\u001B[0m             \u001B[0mpool\u001B[0m\u001B[1;33m.\u001B[0m\u001B[0mclose\u001B[0m\u001B[1;33m(\u001B[0m\u001B[1;33m)\u001B[0m\u001B[1;33m\u001B[0m\u001B[1;33m\u001B[0m\u001B[0m\n\u001B[0;32m    205\u001B[0m             \u001B[0mpool\u001B[0m\u001B[1;33m.\u001B[0m\u001B[0mjoin\u001B[0m\u001B[1;33m(\u001B[0m\u001B[1;33m)\u001B[0m\u001B[1;33m\u001B[0m\u001B[1;33m\u001B[0m\u001B[0m\n",
      "\u001B[1;32m~\\anaconda3\\envs\\math3888\\lib\\multiprocessing\\pool.py\u001B[0m in \u001B[0;36mget\u001B[1;34m(self, timeout)\u001B[0m\n\u001B[0;32m    649\u001B[0m \u001B[1;33m\u001B[0m\u001B[0m\n\u001B[0;32m    650\u001B[0m     \u001B[1;32mdef\u001B[0m \u001B[0mget\u001B[0m\u001B[1;33m(\u001B[0m\u001B[0mself\u001B[0m\u001B[1;33m,\u001B[0m \u001B[0mtimeout\u001B[0m\u001B[1;33m=\u001B[0m\u001B[1;32mNone\u001B[0m\u001B[1;33m)\u001B[0m\u001B[1;33m:\u001B[0m\u001B[1;33m\u001B[0m\u001B[1;33m\u001B[0m\u001B[0m\n\u001B[1;32m--> 651\u001B[1;33m         \u001B[0mself\u001B[0m\u001B[1;33m.\u001B[0m\u001B[0mwait\u001B[0m\u001B[1;33m(\u001B[0m\u001B[0mtimeout\u001B[0m\u001B[1;33m)\u001B[0m\u001B[1;33m\u001B[0m\u001B[1;33m\u001B[0m\u001B[0m\n\u001B[0m\u001B[0;32m    652\u001B[0m         \u001B[1;32mif\u001B[0m \u001B[1;32mnot\u001B[0m \u001B[0mself\u001B[0m\u001B[1;33m.\u001B[0m\u001B[0mready\u001B[0m\u001B[1;33m(\u001B[0m\u001B[1;33m)\u001B[0m\u001B[1;33m:\u001B[0m\u001B[1;33m\u001B[0m\u001B[1;33m\u001B[0m\u001B[0m\n\u001B[0;32m    653\u001B[0m             \u001B[1;32mraise\u001B[0m \u001B[0mTimeoutError\u001B[0m\u001B[1;33m\u001B[0m\u001B[1;33m\u001B[0m\u001B[0m\n",
      "\u001B[1;32m~\\anaconda3\\envs\\math3888\\lib\\multiprocessing\\pool.py\u001B[0m in \u001B[0;36mwait\u001B[1;34m(self, timeout)\u001B[0m\n\u001B[0;32m    646\u001B[0m \u001B[1;33m\u001B[0m\u001B[0m\n\u001B[0;32m    647\u001B[0m     \u001B[1;32mdef\u001B[0m \u001B[0mwait\u001B[0m\u001B[1;33m(\u001B[0m\u001B[0mself\u001B[0m\u001B[1;33m,\u001B[0m \u001B[0mtimeout\u001B[0m\u001B[1;33m=\u001B[0m\u001B[1;32mNone\u001B[0m\u001B[1;33m)\u001B[0m\u001B[1;33m:\u001B[0m\u001B[1;33m\u001B[0m\u001B[1;33m\u001B[0m\u001B[0m\n\u001B[1;32m--> 648\u001B[1;33m         \u001B[0mself\u001B[0m\u001B[1;33m.\u001B[0m\u001B[0m_event\u001B[0m\u001B[1;33m.\u001B[0m\u001B[0mwait\u001B[0m\u001B[1;33m(\u001B[0m\u001B[0mtimeout\u001B[0m\u001B[1;33m)\u001B[0m\u001B[1;33m\u001B[0m\u001B[1;33m\u001B[0m\u001B[0m\n\u001B[0m\u001B[0;32m    649\u001B[0m \u001B[1;33m\u001B[0m\u001B[0m\n\u001B[0;32m    650\u001B[0m     \u001B[1;32mdef\u001B[0m \u001B[0mget\u001B[0m\u001B[1;33m(\u001B[0m\u001B[0mself\u001B[0m\u001B[1;33m,\u001B[0m \u001B[0mtimeout\u001B[0m\u001B[1;33m=\u001B[0m\u001B[1;32mNone\u001B[0m\u001B[1;33m)\u001B[0m\u001B[1;33m:\u001B[0m\u001B[1;33m\u001B[0m\u001B[1;33m\u001B[0m\u001B[0m\n",
      "\u001B[1;32m~\\anaconda3\\envs\\math3888\\lib\\threading.py\u001B[0m in \u001B[0;36mwait\u001B[1;34m(self, timeout)\u001B[0m\n\u001B[0;32m    550\u001B[0m             \u001B[0msignaled\u001B[0m \u001B[1;33m=\u001B[0m \u001B[0mself\u001B[0m\u001B[1;33m.\u001B[0m\u001B[0m_flag\u001B[0m\u001B[1;33m\u001B[0m\u001B[1;33m\u001B[0m\u001B[0m\n\u001B[0;32m    551\u001B[0m             \u001B[1;32mif\u001B[0m \u001B[1;32mnot\u001B[0m \u001B[0msignaled\u001B[0m\u001B[1;33m:\u001B[0m\u001B[1;33m\u001B[0m\u001B[1;33m\u001B[0m\u001B[0m\n\u001B[1;32m--> 552\u001B[1;33m                 \u001B[0msignaled\u001B[0m \u001B[1;33m=\u001B[0m \u001B[0mself\u001B[0m\u001B[1;33m.\u001B[0m\u001B[0m_cond\u001B[0m\u001B[1;33m.\u001B[0m\u001B[0mwait\u001B[0m\u001B[1;33m(\u001B[0m\u001B[0mtimeout\u001B[0m\u001B[1;33m)\u001B[0m\u001B[1;33m\u001B[0m\u001B[1;33m\u001B[0m\u001B[0m\n\u001B[0m\u001B[0;32m    553\u001B[0m             \u001B[1;32mreturn\u001B[0m \u001B[0msignaled\u001B[0m\u001B[1;33m\u001B[0m\u001B[1;33m\u001B[0m\u001B[0m\n\u001B[0;32m    554\u001B[0m \u001B[1;33m\u001B[0m\u001B[0m\n",
      "\u001B[1;32m~\\anaconda3\\envs\\math3888\\lib\\threading.py\u001B[0m in \u001B[0;36mwait\u001B[1;34m(self, timeout)\u001B[0m\n\u001B[0;32m    294\u001B[0m         \u001B[1;32mtry\u001B[0m\u001B[1;33m:\u001B[0m    \u001B[1;31m# restore state no matter what (e.g., KeyboardInterrupt)\u001B[0m\u001B[1;33m\u001B[0m\u001B[1;33m\u001B[0m\u001B[0m\n\u001B[0;32m    295\u001B[0m             \u001B[1;32mif\u001B[0m \u001B[0mtimeout\u001B[0m \u001B[1;32mis\u001B[0m \u001B[1;32mNone\u001B[0m\u001B[1;33m:\u001B[0m\u001B[1;33m\u001B[0m\u001B[1;33m\u001B[0m\u001B[0m\n\u001B[1;32m--> 296\u001B[1;33m                 \u001B[0mwaiter\u001B[0m\u001B[1;33m.\u001B[0m\u001B[0macquire\u001B[0m\u001B[1;33m(\u001B[0m\u001B[1;33m)\u001B[0m\u001B[1;33m\u001B[0m\u001B[1;33m\u001B[0m\u001B[0m\n\u001B[0m\u001B[0;32m    297\u001B[0m                 \u001B[0mgotit\u001B[0m \u001B[1;33m=\u001B[0m \u001B[1;32mTrue\u001B[0m\u001B[1;33m\u001B[0m\u001B[1;33m\u001B[0m\u001B[0m\n\u001B[0;32m    298\u001B[0m             \u001B[1;32melse\u001B[0m\u001B[1;33m:\u001B[0m\u001B[1;33m\u001B[0m\u001B[1;33m\u001B[0m\u001B[0m\n",
      "\u001B[1;31mKeyboardInterrupt\u001B[0m: "
     ]
    }
   ],
   "source": [
    "network_name = 'icp55-cc-900-inv'\n",
    "network_filepath = lib.files.make_filepath_to_networks(f'{network_name}.txt')\n",
    "cluster_filepath = lib.files.make_filepath_to_clusters(f'mcl.{network_name}.nodes.csv')\n",
    "cluster_df_filepath = lib.files.make_filepathto_clusters(f'mcl.{network_name}.dataframe.csv')\n",
    "\n",
    "network = lib.graph.read_weighted_edgelist(network_filepath)\n",
    "import time\n",
    "\n",
    "start = time.time()\n",
    "clusters = lib.cluster.run_pc2p(network)\n",
    "end = time.time()\n",
    "print(f\"Time taken {(end - start) / 60}\")"
   ],
   "metadata": {
    "collapsed": false,
    "pycharm": {
     "name": "#%%\n"
    }
   }
  },
  {
   "cell_type": "code",
   "execution_count": 1,
   "outputs": [
    {
     "data": {
      "text/plain": "0"
     },
     "execution_count": 1,
     "metadata": {},
     "output_type": "execute_result"
    }
   ],
   "source": [
    "%load_ext autoreload\n",
    "%autoreload 2\n",
    "import PC2P.Analysis.PredictedClusters_Analysis as pc2p_analysis\n",
    "import lib.cluster\n",
    "\n",
    "predicted = lib.cluster.read_csv(lib.files.make_filepath_to_mcl_clusters('icp55-cc-900-inv.mcl-1.1.csv'))\n",
    "predicted = list(map(set, predicted))\n",
    "\n",
    "reference = lib.cluster.read_yhtp2008()\n",
    "reference = list(map(set, reference))\n",
    "\n",
    "pc2p_analysis.F_measure_Jaccard(reference, predicted)"
   ],
   "metadata": {
    "collapsed": false,
    "pycharm": {
     "name": "#%%\n"
    }
   }
  },
  {
   "cell_type": "code",
   "execution_count": 7,
   "outputs": [
    {
     "ename": "KeyboardInterrupt",
     "evalue": "",
     "output_type": "error",
     "traceback": [
      "\u001B[1;31m---------------------------------------------------------------------------\u001B[0m",
      "\u001B[1;31mKeyboardInterrupt\u001B[0m                         Traceback (most recent call last)",
      "\u001B[1;32m~\\AppData\\Local\\Temp/ipykernel_3572/4140430373.py\u001B[0m in \u001B[0;36m<module>\u001B[1;34m\u001B[0m\n\u001B[0;32m      6\u001B[0m     \u001B[0mproteins\u001B[0m \u001B[1;33m=\u001B[0m \u001B[0mlib\u001B[0m\u001B[1;33m.\u001B[0m\u001B[0mcluster\u001B[0m\u001B[1;33m.\u001B[0m\u001B[0mproteins\u001B[0m\u001B[1;33m(\u001B[0m\u001B[0mclusters\u001B[0m\u001B[1;33m)\u001B[0m\u001B[1;33m\u001B[0m\u001B[1;33m\u001B[0m\u001B[0m\n\u001B[0;32m      7\u001B[0m     \u001B[1;32mif\u001B[0m \u001B[0mlen\u001B[0m\u001B[1;33m(\u001B[0m\u001B[0mproteins\u001B[0m\u001B[1;33m)\u001B[0m \u001B[1;33m!=\u001B[0m \u001B[0mlen\u001B[0m\u001B[1;33m(\u001B[0m\u001B[0mnetwork\u001B[0m\u001B[1;33m)\u001B[0m\u001B[1;33m:\u001B[0m\u001B[1;33m\u001B[0m\u001B[1;33m\u001B[0m\u001B[0m\n\u001B[1;32m----> 8\u001B[1;33m         \u001B[1;32mcontinue\u001B[0m\u001B[1;33m\u001B[0m\u001B[1;33m\u001B[0m\u001B[0m\n\u001B[0m",
      "\u001B[1;32m~\\AppData\\Local\\Temp/ipykernel_3572/4140430373.py\u001B[0m in \u001B[0;36m<module>\u001B[1;34m\u001B[0m\n\u001B[0;32m      6\u001B[0m     \u001B[0mproteins\u001B[0m \u001B[1;33m=\u001B[0m \u001B[0mlib\u001B[0m\u001B[1;33m.\u001B[0m\u001B[0mcluster\u001B[0m\u001B[1;33m.\u001B[0m\u001B[0mproteins\u001B[0m\u001B[1;33m(\u001B[0m\u001B[0mclusters\u001B[0m\u001B[1;33m)\u001B[0m\u001B[1;33m\u001B[0m\u001B[1;33m\u001B[0m\u001B[0m\n\u001B[0;32m      7\u001B[0m     \u001B[1;32mif\u001B[0m \u001B[0mlen\u001B[0m\u001B[1;33m(\u001B[0m\u001B[0mproteins\u001B[0m\u001B[1;33m)\u001B[0m \u001B[1;33m!=\u001B[0m \u001B[0mlen\u001B[0m\u001B[1;33m(\u001B[0m\u001B[0mnetwork\u001B[0m\u001B[1;33m)\u001B[0m\u001B[1;33m:\u001B[0m\u001B[1;33m\u001B[0m\u001B[1;33m\u001B[0m\u001B[0m\n\u001B[1;32m----> 8\u001B[1;33m         \u001B[1;32mcontinue\u001B[0m\u001B[1;33m\u001B[0m\u001B[1;33m\u001B[0m\u001B[0m\n\u001B[0m",
      "\u001B[1;32m_pydevd_bundle\\pydevd_cython_win32_37_64.pyx\u001B[0m in \u001B[0;36m_pydevd_bundle.pydevd_cython_win32_37_64.SafeCallWrapper.__call__\u001B[1;34m()\u001B[0m\n",
      "\u001B[1;32m_pydevd_bundle\\pydevd_cython_win32_37_64.pyx\u001B[0m in \u001B[0;36m_pydevd_bundle.pydevd_cython_win32_37_64.PyDBFrame.trace_dispatch\u001B[1;34m()\u001B[0m\n",
      "\u001B[1;32m_pydevd_bundle\\pydevd_cython_win32_37_64.pyx\u001B[0m in \u001B[0;36m_pydevd_bundle.pydevd_cython_win32_37_64.PyDBFrame.trace_dispatch\u001B[1;34m()\u001B[0m\n",
      "\u001B[1;32m_pydevd_bundle\\pydevd_cython_win32_37_64.pyx\u001B[0m in \u001B[0;36m_pydevd_bundle.pydevd_cython_win32_37_64.PyDBFrame.trace_dispatch\u001B[1;34m()\u001B[0m\n",
      "\u001B[1;32m_pydevd_bundle\\pydevd_cython_win32_37_64.pyx\u001B[0m in \u001B[0;36m_pydevd_bundle.pydevd_cython_win32_37_64.PyDBFrame.do_wait_suspend\u001B[1;34m()\u001B[0m\n",
      "\u001B[1;32mC:\\Program Files\\JetBrains\\PyCharm 2021.2.1\\plugins\\python\\helpers\\pydev\\pydevd.py\u001B[0m in \u001B[0;36mdo_wait_suspend\u001B[1;34m(self, thread, frame, event, arg, send_suspend_message, is_unhandled_exception)\u001B[0m\n\u001B[0;32m   1145\u001B[0m \u001B[1;33m\u001B[0m\u001B[0m\n\u001B[0;32m   1146\u001B[0m         \u001B[1;32mwith\u001B[0m \u001B[0mself\u001B[0m\u001B[1;33m.\u001B[0m\u001B[0m_threads_suspended_single_notification\u001B[0m\u001B[1;33m.\u001B[0m\u001B[0mnotify_thread_suspended\u001B[0m\u001B[1;33m(\u001B[0m\u001B[0mthread_id\u001B[0m\u001B[1;33m,\u001B[0m \u001B[0mstop_reason\u001B[0m\u001B[1;33m)\u001B[0m\u001B[1;33m:\u001B[0m\u001B[1;33m\u001B[0m\u001B[1;33m\u001B[0m\u001B[0m\n\u001B[1;32m-> 1147\u001B[1;33m             \u001B[0mself\u001B[0m\u001B[1;33m.\u001B[0m\u001B[0m_do_wait_suspend\u001B[0m\u001B[1;33m(\u001B[0m\u001B[0mthread\u001B[0m\u001B[1;33m,\u001B[0m \u001B[0mframe\u001B[0m\u001B[1;33m,\u001B[0m \u001B[0mevent\u001B[0m\u001B[1;33m,\u001B[0m \u001B[0marg\u001B[0m\u001B[1;33m,\u001B[0m \u001B[0msuspend_type\u001B[0m\u001B[1;33m,\u001B[0m \u001B[0mfrom_this_thread\u001B[0m\u001B[1;33m)\u001B[0m\u001B[1;33m\u001B[0m\u001B[1;33m\u001B[0m\u001B[0m\n\u001B[0m\u001B[0;32m   1148\u001B[0m \u001B[1;33m\u001B[0m\u001B[0m\n\u001B[0;32m   1149\u001B[0m     \u001B[1;32mdef\u001B[0m \u001B[0m_do_wait_suspend\u001B[0m\u001B[1;33m(\u001B[0m\u001B[0mself\u001B[0m\u001B[1;33m,\u001B[0m \u001B[0mthread\u001B[0m\u001B[1;33m,\u001B[0m \u001B[0mframe\u001B[0m\u001B[1;33m,\u001B[0m \u001B[0mevent\u001B[0m\u001B[1;33m,\u001B[0m \u001B[0marg\u001B[0m\u001B[1;33m,\u001B[0m \u001B[0msuspend_type\u001B[0m\u001B[1;33m,\u001B[0m \u001B[0mfrom_this_thread\u001B[0m\u001B[1;33m)\u001B[0m\u001B[1;33m:\u001B[0m\u001B[1;33m\u001B[0m\u001B[1;33m\u001B[0m\u001B[0m\n",
      "\u001B[1;32mC:\\Program Files\\JetBrains\\PyCharm 2021.2.1\\plugins\\python\\helpers\\pydev\\pydevd.py\u001B[0m in \u001B[0;36m_do_wait_suspend\u001B[1;34m(self, thread, frame, event, arg, suspend_type, from_this_thread)\u001B[0m\n\u001B[0;32m   1160\u001B[0m \u001B[1;33m\u001B[0m\u001B[0m\n\u001B[0;32m   1161\u001B[0m                 \u001B[0mself\u001B[0m\u001B[1;33m.\u001B[0m\u001B[0mprocess_internal_commands\u001B[0m\u001B[1;33m(\u001B[0m\u001B[1;33m)\u001B[0m\u001B[1;33m\u001B[0m\u001B[1;33m\u001B[0m\u001B[0m\n\u001B[1;32m-> 1162\u001B[1;33m                 \u001B[0mtime\u001B[0m\u001B[1;33m.\u001B[0m\u001B[0msleep\u001B[0m\u001B[1;33m(\u001B[0m\u001B[1;36m0.01\u001B[0m\u001B[1;33m)\u001B[0m\u001B[1;33m\u001B[0m\u001B[1;33m\u001B[0m\u001B[0m\n\u001B[0m\u001B[0;32m   1163\u001B[0m \u001B[1;33m\u001B[0m\u001B[0m\n\u001B[0;32m   1164\u001B[0m         \u001B[0mself\u001B[0m\u001B[1;33m.\u001B[0m\u001B[0mcancel_async_evaluation\u001B[0m\u001B[1;33m(\u001B[0m\u001B[0mget_current_thread_id\u001B[0m\u001B[1;33m(\u001B[0m\u001B[0mthread\u001B[0m\u001B[1;33m)\u001B[0m\u001B[1;33m,\u001B[0m \u001B[0mstr\u001B[0m\u001B[1;33m(\u001B[0m\u001B[0mid\u001B[0m\u001B[1;33m(\u001B[0m\u001B[0mframe\u001B[0m\u001B[1;33m)\u001B[0m\u001B[1;33m)\u001B[0m\u001B[1;33m)\u001B[0m\u001B[1;33m\u001B[0m\u001B[1;33m\u001B[0m\u001B[0m\n",
      "\u001B[1;31mKeyboardInterrupt\u001B[0m: "
     ]
    }
   ],
   "source": [
    "network = lib.graph.read_weighted_edgelist(lib.files.make_filepath_to_networks('icp55-cc-900-inv.txt'))\n",
    "df = pd.read_csv(lib.files.make_filepath_to_clusters('icp55-cc-900-inv.mcl.global.csv'), header=0, index_col=0)\n",
    "for i in range(len(df)): # For every clustering\n",
    "    filepath = df.iloc[i]['filepath']\n",
    "    clusters = lib.cluster.read_csv(filepath)\n",
    "    proteins = lib.cluster.proteins(clusters)\n",
    "    if len(proteins) != len(network):\n",
    "        continue"
   ],
   "metadata": {
    "collapsed": false,
    "pycharm": {
     "name": "#%%\n"
    }
   }
  },
  {
   "cell_type": "code",
   "execution_count": 15,
   "outputs": [
    {
     "name": "stdout",
     "output_type": "stream",
     "text": [
      "0.6282559237129133\n",
      "0.6251728695595921\n",
      "0.6219184562143253\n",
      "0.6411649392359039\n",
      "0.672179733135548\n",
      "0.6543600070212295\n",
      "0.6388689228876372\n",
      "0.6230460545558822\n",
      "0.6061377073300279\n",
      "0.5962254294221696\n",
      "0.5793437111509285\n",
      "0.5693210590386254\n",
      "0.5611486278070613\n",
      "0.5493786880059304\n",
      "0.5435808044444772\n",
      "0.5281864970773844\n",
      "0.5171246340662592\n",
      "0.5012991870467537\n",
      "0.48980272173251244\n",
      "0.4761654955445798\n",
      "0.3983916201527433\n",
      "0.3779111204845565\n",
      "0.36041937845261507\n",
      "0.33391118810970455\n"
     ]
    }
   ],
   "source": [
    "# This cell adds modularity into the mcl.global dataframe\n",
    "import pandas as pd\n",
    "import networkx as nx\n",
    "\n",
    "network = lib.graph.read_weighted_edgelist(lib.files.make_filepath_to_networks('icp55-cc-900-inv.txt'))\n",
    "df = pd.read_csv(lib.files.make_filepath_to_clusters('icp55-cc-900-inv.mcl.global.csv'), header=0, index_col=0)\n",
    "df.head()\n",
    "for i in range(len(df)):\n",
    "    try:\n",
    "        filepath = df.iloc[i]['filepath']\n",
    "        clusters = lib.cluster.read_csv(filepath)\n",
    "        modularity = nx.algorithms.community.quality.modularity(network, clusters, weight=None)\n",
    "        df.at[i, 'modularity'] = modularity\n",
    "        print(modularity)\n",
    "    except:\n",
    "        df.at[i, 'modularity'] = modularity\n",
    "        continue"
   ],
   "metadata": {
    "collapsed": false,
    "pycharm": {
     "name": "#%%\n"
    }
   }
  },
  {
   "cell_type": "code",
   "execution_count": 15,
   "outputs": [],
   "source": [
    "# This cell adds percentage of clusters greater than size >5, >10, >15, >20, >25\n",
    "import pandas as pd\n",
    "import networkx as nx\n",
    "\n",
    "network = lib.graph.read_weighted_edgelist(lib.files.make_filepath_to_networks('icp55-cc-900-inv.txt'))\n",
    "df = pd.read_csv(lib.files.make_filepath_to_clusters('icp55-cc-900-inv.mcl.global.csv'), header=0, index_col=0)\n",
    "df.head()\n",
    "\n",
    "keys = []\n",
    "p5 = []\n",
    "p10 = []\n",
    "p15 = []\n",
    "p20 = []\n",
    "p25 = []\n",
    "for i in range(len(df)):\n",
    "    filepath = df.iloc[i]['filepath']\n",
    "    keys.append(filepath) # Used to join the dataframes on.\n",
    "    clusters = lib.cluster.read_csv(filepath)\n",
    "    p5.append(len([c for c in clusters if len(c) > 5]) / len(clusters))\n",
    "    p10.append(len([c for c in clusters if len(c) > 10]) / len(clusters))\n",
    "    p15.append(len([c for c in clusters if len(c) > 15]) / len(clusters))\n",
    "    p20.append(len([c for c in clusters if len(c) > 20]) / len(clusters))\n",
    "    p25.append(len([c for c in clusters if len(c) > 25]) / len(clusters))\n",
    "\n",
    "df2 = pd.DataFrame.from_records(list(zip(keys, p5, p10, p15, p20, p25)),\n",
    "                                columns=['filepath',\n",
    "                                         'gt_5',\n",
    "                                         'gt_10',\n",
    "                                         'gt_15',\n",
    "                                         'gt_20',\n",
    "                                         'gt_25'])\n",
    "\n",
    "df3 = df.merge(df2, on='filepath')"
   ],
   "metadata": {
    "collapsed": false,
    "pycharm": {
     "name": "#%%\n"
    }
   }
  },
  {
   "cell_type": "code",
   "execution_count": 17,
   "outputs": [],
   "source": [
    "df3.to_csv(lib.files.make_filepath_to_clusters('icp55-cc-900-inv.mcl.global.concat.csv'))"
   ],
   "metadata": {
    "collapsed": false,
    "pycharm": {
     "name": "#%%\n"
    }
   }
  },
  {
   "cell_type": "code",
   "execution_count": 17,
   "outputs": [],
   "source": [
    "df.to_csv(lib.files.make_filepath_to_clusters('icp55-cc-900-inv.mcl.global.concat.csv'))"
   ],
   "metadata": {
    "collapsed": false,
    "pycharm": {
     "name": "#%%\n"
    }
   }
  },
  {
   "cell_type": "code",
   "execution_count": null,
   "outputs": [],
   "source": [
    "for i in range(len(df)): # For every clustering\n",
    "    filepath = df.iloc[i]['filepath']\n",
    "    clusters = lib.cluster.read_csv(filepath)\n",
    "    modularity = nx.algorithms.community.quality.modularity(network, clusters, weight=None)\n",
    "    df.iloc[i]['modularity'] = modularity\n",
    "df.head()"
   ],
   "metadata": {
    "collapsed": false,
    "pycharm": {
     "name": "#%%\n"
    }
   }
  },
  {
   "cell_type": "code",
   "execution_count": 25,
   "outputs": [
    {
     "name": "stdout",
     "output_type": "stream",
     "text": [
      "The autoreload extension is already loaded. To reload it, use:\n",
      "  %reload_ext autoreload\n",
      "end of round:  1\n",
      "end of round:  2\n",
      "end of round:  3\n",
      "end of round:  4\n"
     ]
    }
   ],
   "source": [
    "# This was a test of pc2p on a smaller network.\n",
    "\n",
    "%load_ext autoreload\n",
    "%autoreload 2\n",
    "import networkx as nx\n",
    "import lib.cluster\n",
    "network = nx.fast_gnp_random_graph(300, 1/2)\n",
    "clusters = lib.cluster.run_pc2p_parallel(network)"
   ],
   "metadata": {
    "collapsed": false,
    "pycharm": {
     "name": "#%%\n"
    }
   }
  },
  {
   "cell_type": "code",
   "execution_count": 5,
   "outputs": [
    {
     "name": "stdout",
     "output_type": "stream",
     "text": [
      "The autoreload extension is already loaded. To reload it, use:\n",
      "  %reload_ext autoreload\n",
      "Numbewr of nodes 3903\n",
      "Components 1, iteration: 1\n",
      "Line 204\n",
      "Components 2, iteration: 2\n",
      "Line 204\n",
      "Components 2, iteration: 3\n",
      "Line 204\n",
      "Components 2, iteration: 4\n",
      "Line 204\n",
      "Components 3, iteration: 5\n",
      "Line 204\n",
      "Components 3, iteration: 6\n",
      "Line 204\n",
      "Components 3, iteration: 7\n",
      "Line 204\n",
      "Components 3, iteration: 8\n",
      "Line 204\n",
      "Components 3, iteration: 9\n",
      "Line 204\n",
      "Components 5, iteration: 10\n",
      "Line 204\n",
      "Components 6, iteration: 11\n",
      "Line 204\n",
      "Components 6, iteration: 12\n",
      "Line 204\n",
      "Components 6, iteration: 13\n",
      "Line 204\n",
      "Components 7, iteration: 14\n",
      "Line 204\n",
      "Components 7, iteration: 15\n",
      "Line 204\n",
      "Components 7, iteration: 16\n",
      "Line 204\n",
      "Components 7, iteration: 17\n",
      "Line 204\n",
      "Components 7, iteration: 18\n",
      "Line 204\n",
      "Components 7, iteration: 19\n",
      "Line 204\n",
      "Components 10, iteration: 20\n",
      "Line 204\n",
      "Components 14, iteration: 21\n",
      "Line 204\n",
      "Components 14, iteration: 22\n",
      "Line 204\n",
      "Components 14, iteration: 23\n",
      "Line 204\n",
      "Components 14, iteration: 24\n",
      "Line 204\n",
      "Components 14, iteration: 25\n",
      "Line 204\n",
      "Components 14, iteration: 26\n",
      "Line 204\n",
      "Components 14, iteration: 27\n",
      "Line 204\n",
      "Components 14, iteration: 28\n",
      "Line 204\n",
      "Components 16, iteration: 29\n",
      "Line 204\n",
      "Components 16, iteration: 30\n",
      "Line 204\n",
      "Components 16, iteration: 31\n",
      "Line 204\n",
      "Components 16, iteration: 32\n",
      "Line 204\n",
      "Components 16, iteration: 33\n",
      "Line 204\n",
      "Components 18, iteration: 34\n",
      "Line 204\n",
      "Components 19, iteration: 35\n",
      "Line 204\n",
      "Components 22, iteration: 36\n",
      "Line 204\n",
      "Components 23, iteration: 37\n",
      "Line 204\n",
      "Components 24, iteration: 38\n",
      "Line 204\n",
      "Components 28, iteration: 39\n",
      "Line 204\n",
      "Components 31, iteration: 40\n",
      "Line 204\n",
      "Components 34, iteration: 41\n",
      "Line 204\n",
      "Components 36, iteration: 42\n",
      "Line 204\n",
      "Components 39, iteration: 43\n",
      "Line 204\n",
      "Components 42, iteration: 44\n",
      "Line 204\n",
      "Components 42, iteration: 45\n",
      "Line 204\n",
      "Components 44, iteration: 46\n",
      "Line 204\n",
      "Components 46, iteration: 47\n",
      "Line 204\n",
      "Components 47, iteration: 48\n",
      "Line 204\n",
      "Components 50, iteration: 49\n",
      "Line 204\n",
      "Components 51, iteration: 50\n",
      "Line 204\n",
      "Components 51, iteration: 51\n",
      "Line 204\n",
      "Components 52, iteration: 52\n",
      "Line 204\n",
      "Components 52, iteration: 53\n",
      "Line 204\n",
      "Components 53, iteration: 54\n",
      "Line 204\n",
      "Components 55, iteration: 55\n",
      "Line 204\n",
      "Components 62, iteration: 56\n",
      "Line 204\n",
      "Components 63, iteration: 57\n",
      "Line 204\n",
      "Components 63, iteration: 58\n",
      "Line 204\n",
      "Components 65, iteration: 59\n"
     ]
    },
    {
     "ename": "KeyboardInterrupt",
     "evalue": "",
     "output_type": "error",
     "traceback": [
      "\u001B[1;31m---------------------------------------------------------------------------\u001B[0m",
      "\u001B[1;31mKeyboardInterrupt\u001B[0m                         Traceback (most recent call last)",
      "\u001B[1;32m~\\AppData\\Local\\Temp/ipykernel_9844/2272959995.py\u001B[0m in \u001B[0;36m<module>\u001B[1;34m\u001B[0m\n\u001B[0;32m     74\u001B[0m     \u001B[0mnetwork\u001B[0m \u001B[1;33m=\u001B[0m \u001B[0mlib\u001B[0m\u001B[1;33m.\u001B[0m\u001B[0mgraph\u001B[0m\u001B[1;33m.\u001B[0m\u001B[0mget_largest_cc_with_node\u001B[0m\u001B[1;33m(\u001B[0m\u001B[0mnetwork\u001B[0m\u001B[1;33m,\u001B[0m \u001B[0mlib\u001B[0m\u001B[1;33m.\u001B[0m\u001B[0mconstants\u001B[0m\u001B[1;33m.\u001B[0m\u001B[0mICP55\u001B[0m\u001B[1;33m)\u001B[0m\u001B[1;33m\u001B[0m\u001B[1;33m\u001B[0m\u001B[0m\n\u001B[0;32m     75\u001B[0m     \u001B[0mprint\u001B[0m\u001B[1;33m(\u001B[0m\u001B[1;34mf\"Numbewr of nodes {len(network)}\"\u001B[0m\u001B[1;33m)\u001B[0m\u001B[1;33m\u001B[0m\u001B[1;33m\u001B[0m\u001B[0m\n\u001B[1;32m---> 76\u001B[1;33m     \u001B[0mclusters\u001B[0m \u001B[1;33m=\u001B[0m \u001B[0mlib\u001B[0m\u001B[1;33m.\u001B[0m\u001B[0mcluster\u001B[0m\u001B[1;33m.\u001B[0m\u001B[0mrun_pc2p\u001B[0m\u001B[1;33m(\u001B[0m\u001B[0mnetwork\u001B[0m\u001B[1;33m)\u001B[0m\u001B[1;33m\u001B[0m\u001B[1;33m\u001B[0m\u001B[0m\n\u001B[0m\u001B[0;32m     77\u001B[0m \u001B[1;33m\u001B[0m\u001B[0m\n\u001B[0;32m     78\u001B[0m     \u001B[1;31m# We need to convert each cluster from a list to a set for pc2p_analysis.\u001B[0m\u001B[1;33m\u001B[0m\u001B[1;33m\u001B[0m\u001B[1;33m\u001B[0m\u001B[0m\n",
      "\u001B[1;32m~\\projects\\python\\math3888\\math3888\\lib\\cluster.py\u001B[0m in \u001B[0;36mrun_pc2p\u001B[1;34m(network)\u001B[0m\n\u001B[0;32m    197\u001B[0m \u001B[1;32mdef\u001B[0m \u001B[0mrun_pc2p\u001B[0m\u001B[1;33m(\u001B[0m\u001B[0mnetwork\u001B[0m\u001B[1;33m)\u001B[0m\u001B[1;33m:\u001B[0m\u001B[1;33m\u001B[0m\u001B[1;33m\u001B[0m\u001B[0m\n\u001B[0;32m    198\u001B[0m     \u001B[0mG\u001B[0m \u001B[1;33m=\u001B[0m \u001B[0mnetwork\u001B[0m\u001B[1;33m.\u001B[0m\u001B[0mcopy\u001B[0m\u001B[1;33m(\u001B[0m\u001B[1;33m)\u001B[0m\u001B[1;33m\u001B[0m\u001B[1;33m\u001B[0m\u001B[0m\n\u001B[1;32m--> 199\u001B[1;33m     \u001B[0medge_cut\u001B[0m \u001B[1;33m=\u001B[0m \u001B[0mPC2P\u001B[0m\u001B[1;33m.\u001B[0m\u001B[0mPC2P_Sequential\u001B[0m\u001B[1;33m.\u001B[0m\u001B[0mFind_CNP\u001B[0m\u001B[1;33m(\u001B[0m\u001B[0mG\u001B[0m\u001B[1;33m)\u001B[0m\u001B[1;33m\u001B[0m\u001B[1;33m\u001B[0m\u001B[0m\n\u001B[0m\u001B[0;32m    200\u001B[0m     \u001B[1;31m# PC2P clusters nodes into connected components by removing edges\u001B[0m\u001B[1;33m\u001B[0m\u001B[1;33m\u001B[0m\u001B[1;33m\u001B[0m\u001B[0m\n\u001B[0;32m    201\u001B[0m     \u001B[0mG_copy\u001B[0m \u001B[1;33m=\u001B[0m \u001B[0mG\u001B[0m\u001B[1;33m.\u001B[0m\u001B[0mcopy\u001B[0m\u001B[1;33m(\u001B[0m\u001B[1;33m)\u001B[0m\u001B[1;33m\u001B[0m\u001B[1;33m\u001B[0m\u001B[0m\n",
      "\u001B[1;32m~\\projects\\python\\math3888\\math3888\\PC2P\\PC2P_Sequential.py\u001B[0m in \u001B[0;36mFind_CNP\u001B[1;34m(G, mixed_label)\u001B[0m\n\u001B[0;32m    133\u001B[0m             \u001B[0minduced_N2\u001B[0m \u001B[1;33m=\u001B[0m \u001B[0mcomponentOfG\u001B[0m\u001B[1;33m.\u001B[0m\u001B[0msubgraph\u001B[0m\u001B[1;33m(\u001B[0m\u001B[0mneighbor2\u001B[0m\u001B[1;33m)\u001B[0m\u001B[1;33m.\u001B[0m\u001B[0mcopy\u001B[0m\u001B[1;33m(\u001B[0m\u001B[1;33m)\u001B[0m\u001B[1;33m\u001B[0m\u001B[1;33m\u001B[0m\u001B[0m\n\u001B[0;32m    134\u001B[0m             \u001B[0minduced_N2\u001B[0m \u001B[1;33m=\u001B[0m \u001B[0minduced_N2\u001B[0m\u001B[1;33m.\u001B[0m\u001B[0mcopy\u001B[0m\u001B[1;33m(\u001B[0m\u001B[1;33m)\u001B[0m\u001B[1;33m\u001B[0m\u001B[1;33m\u001B[0m\u001B[0m\n\u001B[1;32m--> 135\u001B[1;33m             \u001B[0mComplement_indN2\u001B[0m \u001B[1;33m=\u001B[0m \u001B[0mnx\u001B[0m\u001B[1;33m.\u001B[0m\u001B[0mcomplement\u001B[0m\u001B[1;33m(\u001B[0m\u001B[0minduced_N2\u001B[0m\u001B[1;33m)\u001B[0m\u001B[1;33m\u001B[0m\u001B[1;33m\u001B[0m\u001B[0m\n\u001B[0m\u001B[0;32m    136\u001B[0m             \u001B[1;32mif\u001B[0m\u001B[1;33m(\u001B[0m\u001B[1;32mnot\u001B[0m \u001B[0mnx\u001B[0m\u001B[1;33m.\u001B[0m\u001B[0mis_connected\u001B[0m\u001B[1;33m(\u001B[0m\u001B[0mComplement_indN2\u001B[0m\u001B[1;33m)\u001B[0m\u001B[1;33m)\u001B[0m\u001B[1;33m:\u001B[0m\u001B[1;31m#we find the CNP\u001B[0m\u001B[1;33m\u001B[0m\u001B[1;33m\u001B[0m\u001B[0m\n\u001B[0;32m    137\u001B[0m                 \u001B[1;31m#----------- Clustering Coefficient\u001B[0m\u001B[1;33m\u001B[0m\u001B[1;33m\u001B[0m\u001B[1;33m\u001B[0m\u001B[0m\n",
      "\u001B[1;32m~\\anaconda3\\envs\\math3888\\lib\\site-packages\\networkx\\algorithms\\operators\\unary.py\u001B[0m in \u001B[0;36mcomplement\u001B[1;34m(G)\u001B[0m\n\u001B[0;32m     27\u001B[0m     \u001B[0mR\u001B[0m\u001B[1;33m.\u001B[0m\u001B[0madd_nodes_from\u001B[0m\u001B[1;33m(\u001B[0m\u001B[0mG\u001B[0m\u001B[1;33m)\u001B[0m\u001B[1;33m\u001B[0m\u001B[1;33m\u001B[0m\u001B[0m\n\u001B[0;32m     28\u001B[0m     R.add_edges_from(\n\u001B[1;32m---> 29\u001B[1;33m         \u001B[1;33m(\u001B[0m\u001B[1;33m(\u001B[0m\u001B[0mn\u001B[0m\u001B[1;33m,\u001B[0m \u001B[0mn2\u001B[0m\u001B[1;33m)\u001B[0m \u001B[1;32mfor\u001B[0m \u001B[0mn\u001B[0m\u001B[1;33m,\u001B[0m \u001B[0mnbrs\u001B[0m \u001B[1;32min\u001B[0m \u001B[0mG\u001B[0m\u001B[1;33m.\u001B[0m\u001B[0madjacency\u001B[0m\u001B[1;33m(\u001B[0m\u001B[1;33m)\u001B[0m \u001B[1;32mfor\u001B[0m \u001B[0mn2\u001B[0m \u001B[1;32min\u001B[0m \u001B[0mG\u001B[0m \u001B[1;32mif\u001B[0m \u001B[0mn2\u001B[0m \u001B[1;32mnot\u001B[0m \u001B[1;32min\u001B[0m \u001B[0mnbrs\u001B[0m \u001B[1;32mif\u001B[0m \u001B[0mn\u001B[0m \u001B[1;33m!=\u001B[0m \u001B[0mn2\u001B[0m\u001B[1;33m)\u001B[0m\u001B[1;33m\u001B[0m\u001B[1;33m\u001B[0m\u001B[0m\n\u001B[0m\u001B[0;32m     30\u001B[0m     )\n\u001B[0;32m     31\u001B[0m     \u001B[1;32mreturn\u001B[0m \u001B[0mR\u001B[0m\u001B[1;33m\u001B[0m\u001B[1;33m\u001B[0m\u001B[0m\n",
      "\u001B[1;32m~\\anaconda3\\envs\\math3888\\lib\\site-packages\\networkx\\classes\\graph.py\u001B[0m in \u001B[0;36madd_edges_from\u001B[1;34m(self, ebunch_to_add, **attr)\u001B[0m\n\u001B[0;32m    954\u001B[0m             \u001B[0mdatadict\u001B[0m\u001B[1;33m.\u001B[0m\u001B[0mupdate\u001B[0m\u001B[1;33m(\u001B[0m\u001B[0mdd\u001B[0m\u001B[1;33m)\u001B[0m\u001B[1;33m\u001B[0m\u001B[1;33m\u001B[0m\u001B[0m\n\u001B[0;32m    955\u001B[0m             \u001B[0mself\u001B[0m\u001B[1;33m.\u001B[0m\u001B[0m_adj\u001B[0m\u001B[1;33m[\u001B[0m\u001B[0mu\u001B[0m\u001B[1;33m]\u001B[0m\u001B[1;33m[\u001B[0m\u001B[0mv\u001B[0m\u001B[1;33m]\u001B[0m \u001B[1;33m=\u001B[0m \u001B[0mdatadict\u001B[0m\u001B[1;33m\u001B[0m\u001B[1;33m\u001B[0m\u001B[0m\n\u001B[1;32m--> 956\u001B[1;33m             \u001B[0mself\u001B[0m\u001B[1;33m.\u001B[0m\u001B[0m_adj\u001B[0m\u001B[1;33m[\u001B[0m\u001B[0mv\u001B[0m\u001B[1;33m]\u001B[0m\u001B[1;33m[\u001B[0m\u001B[0mu\u001B[0m\u001B[1;33m]\u001B[0m \u001B[1;33m=\u001B[0m \u001B[0mdatadict\u001B[0m\u001B[1;33m\u001B[0m\u001B[1;33m\u001B[0m\u001B[0m\n\u001B[0m\u001B[0;32m    957\u001B[0m \u001B[1;33m\u001B[0m\u001B[0m\n\u001B[0;32m    958\u001B[0m     \u001B[1;32mdef\u001B[0m \u001B[0madd_weighted_edges_from\u001B[0m\u001B[1;33m(\u001B[0m\u001B[0mself\u001B[0m\u001B[1;33m,\u001B[0m \u001B[0mebunch_to_add\u001B[0m\u001B[1;33m,\u001B[0m \u001B[0mweight\u001B[0m\u001B[1;33m=\u001B[0m\u001B[1;34m\"weight\"\u001B[0m\u001B[1;33m,\u001B[0m \u001B[1;33m**\u001B[0m\u001B[0mattr\u001B[0m\u001B[1;33m)\u001B[0m\u001B[1;33m:\u001B[0m\u001B[1;33m\u001B[0m\u001B[1;33m\u001B[0m\u001B[0m\n",
      "\u001B[1;31mKeyboardInterrupt\u001B[0m: "
     ]
    }
   ],
   "source": [
    "%load_ext autoreload\n",
    "%autoreload 2\n",
    "\n",
    "import time\n",
    "import numpy as np\n",
    "import pandas as pd\n",
    "import networkx as nx\n",
    "\n",
    "import lib.graph\n",
    "import lib.cluster\n",
    "import PC2P.Analysis.PredictedClusters_Analysis as pc2p_analysis\n",
    "\n",
    "network_name = 'icp55-cc-900-inv'\n",
    "network_filepath = lib.files.make_filepath_to_networks(f'{network_name}.txt')\n",
    "network = lib.graph.read_weighted_edgelist(network_filepath)\n",
    "\n",
    "# These are the two gold standard validation sets to use\n",
    "# We need to convert each cluster from a list to a set for pc2p_analysis\n",
    "yhtp2008 = lib.cluster.read_yhtp2008()\n",
    "yhtp2008 = list(map(set, yhtp2008))\n",
    "sgd = lib.cluster.read_sgd()\n",
    "sgd = list(map(set, sgd))\n",
    "\n",
    "# These are the metrics to calculate.\n",
    "# Anything with a suffix _yhtp will use the yhtp2008 validation set.\n",
    "# Anything with a suffix _sgd will use the sgd validation set.\n",
    "# These are the independant metrics\n",
    "percentage_connected = []\n",
    "modularity = []\n",
    "num_clusters = []\n",
    "# YHTP metrics\n",
    "sensitivity_yhtp = []\n",
    "positive_predicted_value_yhtp = []\n",
    "accuracy_yhtp = []\n",
    "fraction_matched_yhtp = []\n",
    "separation_yhtp = []\n",
    "precision_jaccard_yhtp = []\n",
    "recall_jaccard_yhtp = []\n",
    "f_measure_jaccard_yhtp = []\n",
    "# SGD metrics\n",
    "sensitivity_sgd = []\n",
    "positive_predicted_value_sgd = []\n",
    "accuracy_sgd = []\n",
    "fraction_matched_sgd = []\n",
    "separation_sgd = []\n",
    "precision_jaccard_sgd = []\n",
    "recall_jaccard_sgd = []\n",
    "f_measure_jaccard_sgd = []\n",
    "\n",
    "# These are the different inflation values we will use.\n",
    "inflations = np.linspace(3.1, 4, num=10, endpoint=True)\n",
    "\n",
    "# These are the times taken for different inflation values\n",
    "times = []\n",
    "\n",
    "# These are filepaths to each dataset\n",
    "filepaths = []\n",
    "\n",
    "# Calculate total time taken\n",
    "time_0 = time.time()\n",
    "\n",
    "# for inflation in inflations:\n",
    "for i in range(1):\n",
    "    start = time.time()\n",
    "\n",
    "    # Run markov clustering\n",
    "    # mcl_data = lib.cluster.run_mcl(network, inflation)\n",
    "    # clusters = mcl_data.clusters\n",
    "\n",
    "    # Run PC2P clustering O(n^2 max_deg^2)\n",
    "    # Because of the issue of hub nodes, I'm going to remove all nodes with high degree\n",
    "    nodes_to_remove = [node for node in network if network.degree()[node] >= 50]\n",
    "    network.remove_nodes_from(nodes_to_remove)\n",
    "    network = lib.graph.get_largest_cc_with_node(network, lib.constants.ICP55)\n",
    "    print(f\"Numbewr of nodes {len(network)}\")\n",
    "    clusters = lib.cluster.run_pc2p(network)\n",
    "\n",
    "    # We need to convert each cluster from a list to a set for pc2p_analysis.\n",
    "    clusters = list(map(set, clusters))\n",
    "\n",
    "    # Save the clusters to a file\n",
    "    # filepath = lib.files.make_filepath_to_mcl_clusters(f\"{network_name}.mcl-{inflation}.csv\")\n",
    "    filepath = lib.files.make_filepath_to_clusters(f\"{network_name}.pc2p.csv\")\n",
    "    filepaths.append(filepath)\n",
    "    lib.cluster.write_to_file(filepath, clusters)\n",
    "\n",
    "    # # Compute the metrics for each clustering.\n",
    "    # modularity.append(mcl_data.modularity)\n",
    "\n",
    "\n",
    "    num_clusters.append(len(clusters))\n",
    "    percentage_connected.append(len(\n",
    "        [cluster for cluster in clusters if nx.is_connected(network.subgraph(cluster))]\n",
    "    ) / len(clusters))\n",
    "\n",
    "    # Compute yhtp metrics\n",
    "    sensitivity_yhtp.append(pc2p_analysis.clusteringwise_sensitivity(yhtp2008, clusters))\n",
    "    positive_predicted_value_yhtp.append(pc2p_analysis.positive_predictive_value(yhtp2008, clusters))\n",
    "    accuracy_yhtp.append(pc2p_analysis.accuracy(yhtp2008, clusters))\n",
    "    fraction_matched_yhtp.append(pc2p_analysis.fraction_matched(yhtp2008, clusters))\n",
    "    separation_yhtp.append(pc2p_analysis.clusteringwise_separation(yhtp2008, clusters))\n",
    "    precision_jaccard_yhtp.append(pc2p_analysis.precision_Jaccard(yhtp2008, clusters))\n",
    "    recall_jaccard_yhtp.append(pc2p_analysis.recall_Jaccard(yhtp2008, clusters))\n",
    "    f_measure_jaccard_yhtp.append(pc2p_analysis.F_measure_Jaccard(yhtp2008, clusters))\n",
    "\n",
    "    # Compute sgd metrics\n",
    "    sensitivity_sgd.append(pc2p_analysis.clusteringwise_sensitivity(sgd, clusters))\n",
    "    positive_predicted_value_sgd.append(pc2p_analysis.positive_predictive_value(sgd, clusters))\n",
    "    accuracy_sgd.append(pc2p_analysis.accuracy(sgd, clusters))\n",
    "    fraction_matched_sgd.append(pc2p_analysis.fraction_matched(sgd, clusters))\n",
    "    separation_sgd.append(pc2p_analysis.clusteringwise_separation(sgd, clusters))\n",
    "    precision_jaccard_sgd.append(pc2p_analysis.precision_Jaccard(sgd, clusters))\n",
    "    recall_jaccard_sgd.append(pc2p_analysis.recall_Jaccard(sgd, clusters))\n",
    "    f_measure_jaccard_sgd.append(pc2p_analysis.F_measure_Jaccard(sgd, clusters))\n",
    "    #\n",
    "    end = time.time()\n",
    "    seconds = end - start\n",
    "    times.append(seconds)\n",
    "\n",
    "# Make a dataframe with each row representing a clustering.\n",
    "# Save the dataframe to a file.\n",
    "df2 = pd.DataFrame.from_records(\n",
    "    list(zip(\n",
    "        # inflations,\n",
    "        # modularity,\n",
    "        percentage_connected,\n",
    "        sensitivity_yhtp,\n",
    "        positive_predicted_value_yhtp,\n",
    "        accuracy_yhtp,\n",
    "        fraction_matched_yhtp,\n",
    "        separation_yhtp,\n",
    "        precision_jaccard_yhtp,\n",
    "        recall_jaccard_yhtp,\n",
    "        f_measure_jaccard_yhtp,\n",
    "        sensitivity_sgd,\n",
    "        positive_predicted_value_sgd,\n",
    "        accuracy_sgd,\n",
    "        fraction_matched_sgd,\n",
    "        separation_sgd,\n",
    "        precision_jaccard_sgd,\n",
    "        recall_jaccard_sgd,\n",
    "        f_measure_jaccard_sgd,\n",
    "        filepaths,\n",
    "        num_clusters\n",
    "    )),\n",
    "    columns=[\n",
    "        # \"inflation\",\n",
    "        # \"modularity\",\n",
    "        \"percentage_connected\",\n",
    "        \"sensitivity_yhtp\",\n",
    "        \"positive_predicted_value_yhtp\",\n",
    "        \"accuracy_yhtp\",\n",
    "        \"fraction_matched_yhtp\",\n",
    "        \"separation_yhtp\",\n",
    "        \"precision_jaccard_yhtp\",\n",
    "        \"recall_jaccard_yhtp\",\n",
    "        \"f_measure_jaccard_yhtp\",\n",
    "        \"sensitivity_sgd\",\n",
    "        \"positive_predicted_value_sgd\",\n",
    "        \"accuracy_sgd\",\n",
    "        \"fraction_matched_sgd\",\n",
    "        \"separation_sgd\",\n",
    "        \"precision_jaccard_sgd\",\n",
    "        \"recall_jaccard_sgd\",\n",
    "        \"f_measure_jaccard_sgd\",\n",
    "        \"filepath\",\n",
    "        \"num_clusters\"\n",
    "    ]\n",
    ")\n",
    "\n",
    "print(f\"Seconds: {(time.time()- time_0) / 60}\")\n",
    "\n",
    "df_filepath = lib.files.make_filepath_to_clusters(f\"{network_name}.pc2p.global.csv\")\n",
    "# df = pd.read_csv(df_filepath)\n",
    "df2.to_csv(df_filepath)\n",
    "# df3 = pd.concat([df, df2], ignore_index=True)\n",
    "#\n",
    "# df3_filepath = lib.files.make_filepath_to_clusters(f\"{network_name}.mcl.global.concat.csv\")\n",
    "# df3.to_csv(df3_filepath)"
   ],
   "metadata": {
    "collapsed": false,
    "pycharm": {
     "name": "#%%\n"
    }
   }
  },
  {
   "cell_type": "code",
   "execution_count": 21,
   "outputs": [],
   "source": [
    "# This cell adds sizes to the dataframe. TODO: Make fn add_col and add_row to dataframe files.\n",
    "df = pd.read_csv(lib.files.make_filepath_to_clusters('icp55-cc-900-inv.mcl.global.concat.csv'))\n",
    "filepaths = list(df['filepath'].array)\n",
    "\n",
    "filepaths_2 = []\n",
    "sizes = []\n",
    "for path in filepaths:\n",
    "    clusters = lib.cluster.read_csv(path)\n",
    "    filepaths_2.append(path)\n",
    "    sizes.append(len(clusters))\n",
    "\n",
    "df2 = pd.DataFrame.from_records(list(zip(filepaths_2, sizes)), columns=['filepath', 'num_clusters'])\n",
    "df3 = df.merge(df2, on='filepath')\n",
    "df3.head()\n",
    "df3.to_csv(lib.files.make_filepath_to_clusters('icp55-cc-900-inv.mcl.global.concat2.csv'))"
   ],
   "metadata": {
    "collapsed": false,
    "pycharm": {
     "name": "#%%\n"
    }
   }
  },
  {
   "cell_type": "markdown",
   "metadata": {
    "pycharm": {
     "name": "#%% md\n"
    }
   },
   "source": [
    "\n",
    "### ICP55 connected component no inviable proteins"
   ]
  },
  {
   "cell_type": "code",
   "execution_count": null,
   "metadata": {
    "pycharm": {
     "name": "#%%\n"
    }
   },
   "outputs": [],
   "source": [
    "lib.cluster.run_mcl_and_write_to_file(\n",
    "    graph=lib.graph.read_edgelist(lib.files.make_filepath_to_networks('icp55-cc-900-noInv.txt')),\n",
    "    filepath=lib.files.make_filepath_to_mcl_clusters(\"icp55-cc-inviable.csv\"),\n",
    "    inflation=INFLATION\n",
    ")"
   ]
  }
 ],
 "metadata": {
  "kernelspec": {
   "name": "pycharm-8a1eea31",
   "language": "python",
   "display_name": "PyCharm (math3888)"
  },
  "language_info": {
   "codemirror_mode": {
    "name": "ipython",
    "version": 3
   },
   "file_extension": ".py",
   "mimetype": "text/x-python",
   "name": "python",
   "nbconvert_exporter": "python",
   "pygments_lexer": "ipython3",
   "version": "3.9.5"
  }
 },
 "nbformat": 4,
 "nbformat_minor": 1
}
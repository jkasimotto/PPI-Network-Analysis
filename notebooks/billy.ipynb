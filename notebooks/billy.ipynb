{
 "cells": [
  {
   "cell_type": "markdown",
   "metadata": {
    "pycharm": {
     "name": "#%%\n"
    }
   },
   "source": [
    "### Meta"
   ]
  },
  {
   "cell_type": "code",
   "execution_count": 1,
   "metadata": {},
   "outputs": [],
   "source": [
    "# Autoreload modules without having to restart the notebook kernel.\n",
    "# hi bilbo\n",
    "%load_ext autoreload\n",
    "%autoreload 2\n",
    "\n",
    "\n",
    "# Plotting code stolen from Georg's notebook.\n",
    "import matplotlib.pyplot as plt\n",
    "\n",
    "\n",
    "%matplotlib inline\n",
    "font = {'family': 'DejaVu Sans',\n",
    "        'weight': 'bold',\n",
    "        'size': 32}\n",
    "plt.rc('font', **font)"
   ]
  },
  {
   "cell_type": "markdown",
   "metadata": {},
   "source": [
    "### Imports"
   ]
  },
  {
   "cell_type": "code",
   "execution_count": 6,
   "metadata": {},
   "outputs": [],
   "source": [
    "import sys\n",
    "sys.path.insert(1, \"..\\\\\")\n",
    "\n",
    "#import markov_clustering as mcl\n",
    "import networkx as nx\n",
    "import pandas as pd\n",
    "import seaborn as sns\n",
    "sns.set_theme()\n",
    "import copy\n",
    "import numpy as np\n",
    "\n",
    "# Personal libraries\n",
    "import lib.graph\n",
    "import lib.files\n",
    "import lib.centrality\n",
    "import lib.cluster"
   ]
  },
  {
   "cell_type": "code",
   "execution_count": 11,
   "metadata": {},
   "outputs": [],
   "source": [
    "# largest connected component of icp55\n",
    "network = lib.graph.read_weighted_edgelist(lib.files.make_filepath_to_networks('icp55-cc-900-inv.txt'))"
   ]
  },
  {
   "cell_type": "code",
   "execution_count": 12,
   "metadata": {},
   "outputs": [],
   "source": [
    "# the clusters of the largest connected component of icp55\n",
    "clusters = lib.cluster.read_csv(lib.files.make_filepath_to_clusters('mcl.icp55-cc-900-inv.nodes.csv'))"
   ]
  },
  {
   "cell_type": "code",
   "execution_count": 10,
   "metadata": {},
   "outputs": [
    {
     "name": "stdout",
     "output_type": "stream",
     "text": [
      "570\n",
      "8\n"
     ]
    }
   ],
   "source": [
    "def billy_method(network, clusters):\n",
    "\n",
    "    proteins = []\n",
    "    protein_degrees = []\n",
    "    protein_eigenvector_centralities_within_cluster = []\n",
    "\n",
    "    for i, cluster in enumerate(clusters):\n",
    "\n",
    "        # Change the cluster variable from a list to a subgraph to use networkx functions such as cluster.degree()\n",
    "        cluster = network.subgraph(cluster)\n",
    "\n",
    "        # Compute the eigenvector centralities for the cluster.\n",
    "        eigenvector = nx.eigenvector_centrality(cluster)\n",
    "\n",
    "        for protein in cluster:\n",
    "            proteins.append(protein)\n",
    "            protein_degrees.append(cluster.degree()[protein])\n",
    "            protein_eigenvector_centralities_within_cluster.append(eigenvector[protein])\n",
    "\n",
    "    return pd.DataFrame.from_records(\n",
    "        list(zip(\n",
    "            proteins,\n",
    "            protein_degrees,\n",
    "            protein_eigenvector_centralities_within_cluster)),\n",
    "        columns=[\n",
    "            'protein',\n",
    "            'degree',\n",
    "            'eigenvector']\n",
    "    )"
   ]
  }
 ],
 "metadata": {
  "kernelspec": {
   "display_name": "Python 3",
   "language": "python",
   "name": "python3"
  },
  "language_info": {
   "codemirror_mode": {
    "name": "ipython",
    "version": 3
   },
   "file_extension": ".py",
   "mimetype": "text/x-python",
   "name": "python",
   "nbconvert_exporter": "python",
   "pygments_lexer": "ipython3",
   "version": "3.8.11"
  }
 },
 "nbformat": 4,
 "nbformat_minor": 1
}

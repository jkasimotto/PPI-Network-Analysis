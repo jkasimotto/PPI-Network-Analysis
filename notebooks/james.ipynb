{
 "cells": [
  {
   "cell_type": "code",
   "execution_count": 139,
   "metadata": {},
   "outputs": [
    {
     "name": "stdout",
     "output_type": "stream",
     "text": [
      "The autoreload extension is already loaded. To reload it, use:\n",
      "  %reload_ext autoreload\n"
     ]
    }
   ],
   "source": [
    "# Autoreload modules without having to restart the notebook kernel.\n",
    "# hi bilbo\n",
    "%load_ext autoreload\n",
    "%autoreload 2\n",
    "\n",
    "\n",
    "import sys\n",
    "import os\n",
    "import matplotlib.pyplot as plt\n",
    "\n",
    "# Introduce the project directory to your system's path to make data/lib folders visible.\n",
    "sys.path.insert(1, \"..\")\n",
    "\n",
    "# Plotting code stolen from Georg's notebook.\n",
    "%matplotlib inline\n",
    "font = {'family': 'DejaVu Sans',\n",
    "        'weight': 'bold',\n",
    "        'size': 32}\n",
    "plt.rc('font', **font)\n"
   ]
  },
  {
   "cell_type": "code",
   "execution_count": 140,
   "metadata": {},
   "outputs": [],
   "source": [
    "# Personal libraries\n",
    "import lib.plot\n",
    "import lib.cluster as cluster\n",
    "import lib.graph\n",
    "import lib.files\n",
    "import pandas as pd\n",
    "import networkx as nx\n",
    "import numpy as np"
   ]
  },
  {
   "cell_type": "code",
   "execution_count": 141,
   "metadata": {},
   "outputs": [],
   "source": [
    "def centrality_df(centrality_function, centrality_name, cluster_filepath, network_filepath):\n",
    "    # reading the clusters and network into nx\n",
    "    clusters = lib.cluster.read_csv(cluster_filepath)\n",
    "    network = lib.graph.read_weighted_edgelist(network_filepath)\n",
    "    clusters = [network.subgraph(cluster) for cluster in clusters]\n",
    "    \n",
    "    # finding the centrality \n",
    "    protein_centrality = []\n",
    "    for cluster in clusters:\n",
    "        cent = centrality_function(cluster)\n",
    "        list_cent = list(cent.items())\n",
    "        protein_centrality.extend(list_cent)\n",
    "        \n",
    "    df = pd.DataFrame(protein_centrality)\n",
    "    df.rename(columns = {0: \"protein\", 1: centrality_name} , inplace=True)\n",
    "    nodes = pd.read_csv(cluster_filepath, index_col= 0)\n",
    "    \n",
    "    # append the centrality measures to the original markov clusters in the dataframe\n",
    "    centrality_df = nodes.merge(df, on = 'protein')\n",
    "    \n",
    "    return centrality_df"
   ]
  },
  {
   "cell_type": "code",
   "execution_count": 142,
   "metadata": {},
   "outputs": [],
   "source": [
    "# obtaining the paths for our network\n",
    "network_name = 'icp55-cc-900-inv'\n",
    "network_filepath = lib.files.make_filepath_to_networks(f'{network_name}.txt')\n",
    "cluster_filepath = lib.files.make_filepath_to_clusters(f'mcl.{network_name}.nodes.csv')"
   ]
  },
  {
   "cell_type": "code",
   "execution_count": 143,
   "metadata": {
    "scrolled": true
   },
   "outputs": [],
   "source": [
    "# plugging into the function to calculate the centralities and combining them into one df\n",
    "centrality_measures = ((nx.betweenness_centrality, \"Betweenness Centrality\"),\n",
    "                (nx.degree_centrality, \"Degree Centrality\"),\n",
    "                (nx.eigenvector_centrality, \"Eigenvector Centrality\"))\n",
    "\n",
    "cent_df = centrality_df(nx.subgraph_centrality, \"Subgraph Centrality\", cluster_filepath, network_filepath)\n",
    "\n",
    "\n",
    "for i,j in centrality_measures:\n",
    "    cent_df = cent_df.merge(centrality_df(i, j, cluster_filepath, network_filepath), on =('protein','cluster'))\n",
    "    "
   ]
  },
  {
   "cell_type": "code",
   "execution_count": 144,
   "metadata": {},
   "outputs": [],
   "source": [
    "# outputting as a csv file into the mcl folder\n",
    "cent_df.to_csv(lib.files.make_filepath_to_mcl_clusters(\"mcl.icp55-cc-900-inv-centralities.csv\"))"
   ]
  }
 ],
 "metadata": {
  "kernelspec": {
   "display_name": "Python 3 (ipykernel)",
   "language": "python",
   "name": "python3"
  },
  "language_info": {
   "codemirror_mode": {
    "name": "ipython",
    "version": 3
   },
   "file_extension": ".py",
   "mimetype": "text/x-python",
   "name": "python",
   "nbconvert_exporter": "python",
   "pygments_lexer": "ipython3",
   "version": "3.8.10"
  }
 },
 "nbformat": 4,
 "nbformat_minor": 1
}

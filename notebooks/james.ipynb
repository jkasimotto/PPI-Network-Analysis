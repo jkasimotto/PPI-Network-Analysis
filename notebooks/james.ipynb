{
 "cells": [
  {
   "cell_type": "markdown",
   "metadata": {},
   "source": [
    "The first section of this code was used to compute the various centrality scores for our Markov clusters. The second section finds the proportion of essential proteins in each quartile. This part was not mentioned in the presentation."
   ]
  },
  {
   "cell_type": "code",
   "execution_count": 7,
   "metadata": {},
   "outputs": [
    {
     "name": "stdout",
     "output_type": "stream",
     "text": [
      "The autoreload extension is already loaded. To reload it, use:\n",
      "  %reload_ext autoreload\n"
     ]
    }
   ],
   "source": [
    "# Autoreload modules without having to restart the notebook kernel.\n",
    "# hi bilbo\n",
    "%load_ext autoreload\n",
    "%autoreload 2\n",
    "\n",
    "\n",
    "import sys\n",
    "import os\n",
    "import matplotlib.pyplot as plt\n",
    "\n",
    "# Introduce the project directory to your system's path to make data/lib folders visible.\n",
    "sys.path.insert(1, \"..\")\n",
    "\n",
    "# Plotting code stolen from Georg's notebook.\n",
    "%matplotlib inline\n",
    "font = {'family': 'DejaVu Sans',\n",
    "        'weight': 'bold',\n",
    "        'size': 32}\n",
    "plt.rc('font', **font)\n"
   ]
  },
  {
   "cell_type": "code",
   "execution_count": 8,
   "metadata": {},
   "outputs": [],
   "source": [
    "# Personal libraries\n",
    "import lib.cluster\n",
    "import lib.graph\n",
    "import lib.files\n",
    "import pandas as pd\n",
    "import networkx as nx\n",
    "import numpy as np"
   ]
  },
  {
   "cell_type": "code",
   "execution_count": 9,
   "metadata": {},
   "outputs": [],
   "source": [
    "def centrality_df(centrality_function, centrality_name, cluster_filepath, network_filepath):\n",
    "    # reading the clusters and network into nx\n",
    "    clusters = lib.cluster.read_csv(cluster_filepath)\n",
    "    network = lib.graph.read_weighted_edgelist(network_filepath)\n",
    "    clusters = [network.subgraph(cluster) for cluster in clusters]\n",
    "    \n",
    "    # finding the centrality \n",
    "    protein_centrality = []\n",
    "    for cluster in clusters:\n",
    "        cent = centrality_function(cluster)\n",
    "        list_cent = list(cent.items())\n",
    "        protein_centrality.extend(list_cent)\n",
    "        \n",
    "    df = pd.DataFrame(protein_centrality)\n",
    "    df.rename(columns = {0: \"protein\", 1: centrality_name} , inplace=True)\n",
    "    nodes = pd.read_csv(cluster_filepath, index_col= 0)\n",
    "    \n",
    "    # append the centrality measures to the original markov clusters in the dataframe\n",
    "    centrality_df = nodes.merge(df, on = 'protein')\n",
    "    \n",
    "    return centrality_df"
   ]
  },
  {
   "cell_type": "code",
   "execution_count": 10,
   "metadata": {},
   "outputs": [],
   "source": [
    "# obtaining the paths for our network\n",
    "network_name = 'icp55-cc-900-inv'\n",
    "network_filepath = lib.files.make_filepath_to_networks(f'{network_name}.txt')\n",
    "cluster_filepath = lib.files.make_filepath_to_clusters(f'mcl.{network_name}.nodes.csv')"
   ]
  },
  {
   "cell_type": "code",
   "execution_count": 11,
   "metadata": {
    "scrolled": true
   },
   "outputs": [],
   "source": [
    "# plugging into the function to calculate the centralities and combining them into one df\n",
    "centrality_measures = ((nx.betweenness_centrality, \"Betweenness Centrality\"),\n",
    "                (nx.degree_centrality, \"Degree Centrality\"),\n",
    "                (nx.eigenvector_centrality, \"Eigenvector Centrality\"))\n",
    "\n",
    "cent_df = centrality_df(nx.subgraph_centrality, \"Subgraph Centrality\", cluster_filepath, network_filepath)\n",
    "\n",
    "\n",
    "for i,j in centrality_measures:\n",
    "    cent_df = cent_df.merge(centrality_df(i, j, cluster_filepath, network_filepath), on =('protein','cluster'))\n",
    "    "
   ]
  },
  {
   "cell_type": "code",
   "execution_count": 12,
   "metadata": {},
   "outputs": [],
   "source": [
    "# outputting as a csv file into the mcl folder\n",
    "cent_df.to_csv(lib.files.make_filepath_to_mcl_clusters(\"mcl.icp55-cc-900-inv-centralities.csv\"))"
   ]
  },
  {
   "cell_type": "markdown",
   "metadata": {},
   "source": [
    "## Finding Proteins That Are Essential From The Centrality Measures and Quartiles"
   ]
  },
  {
   "cell_type": "markdown",
   "metadata": {},
   "source": [
    "Defining the function `inviable()` which takes in a single argument for the path of a file for which we want to check which proteins are inviable. It adds a new column named `inviable` in the dataframe which takes in boolean values."
   ]
  },
  {
   "cell_type": "code",
   "execution_count": 13,
   "metadata": {},
   "outputs": [],
   "source": [
    "def inviable_wo_4932(filepath):\n",
    "    inviable_path = lib.files.make_filepath_to_data(\"inviable_proteins.csv\") # the path of the csv with data for which proteins are inviable\n",
    "    inviable_proteins = list(pd.read_csv(inviable_path,header=None)[1]) # reading the inviable proteins csv in as a df\n",
    "    df = pd.read_csv(filepath, index_col = 0) # reads in the file for which we want to check which proteins are inviable\n",
    "    df['inviable'] = True\n",
    "    proteins = df['protein']\n",
    "    for i in range(len(proteins)): # it checks to see whether or not a protein is inviable and adds a new column called inviable. If the protein is inviable, it will be True, otherwise it will be False\n",
    "        protein = df.iloc[i,1]\n",
    "        if protein not in inviable_proteins:\n",
    "            df.iloc[i,-1] = False\n",
    "    return df"
   ]
  },
  {
   "cell_type": "markdown",
   "metadata": {},
   "source": [
    "### Third Quartile"
   ]
  },
  {
   "cell_type": "code",
   "execution_count": 36,
   "metadata": {
    "scrolled": true
   },
   "outputs": [],
   "source": [
    "file_names = ['betweenness_centrality_quantile_0.5_to_0.75',\n",
    "              'degree_centrality_quantile_0.5_to_0.75',\n",
    "              'eigenvector_centrality_quantile_0.5_to_0.75']\n",
    "#establishes the path to the MCL folder for each of the above file names\n",
    "file_paths = list(map(lambda file: lib.files.make_filepath_to_mcl_clusters(file), file_names))\n",
    "btw_3q = inviable_wo_4932(file_paths[0])\n",
    "deg_3q = inviable_wo_4932(file_paths[1])\n",
    "egv_3q = inviable_wo_4932(file_paths[2])\n",
    "inviable_dfs_3q = [btw_3q,deg_3q,egv_3q]\n",
    "centrality_measures = ['betweenness','degree','eigenvector']"
   ]
  },
  {
   "cell_type": "code",
   "execution_count": 37,
   "metadata": {
    "scrolled": true
   },
   "outputs": [
    {
     "name": "stdout",
     "output_type": "stream",
     "text": [
      "There are 548 essential proteins found in the third quantile for betweenness out of 2467 proteins. Proportion: 0.22\n",
      "There are 568 essential proteins found in the third quantile for degree out of 2372 proteins. Proportion: 0.24\n",
      "There are 515 essential proteins found in the third quantile for eigenvector out of 2164 proteins. Proportion: 0.24\n"
     ]
    }
   ],
   "source": [
    "for i, df in enumerate(inviable_dfs_3q):\n",
    "   print('There are', df['inviable'].sum(), 'essential proteins found in the third quantile for',\n",
    "         centrality_measures[i],'out of', len(df), 'proteins.', 'Proportion:', round(df['inviable'].sum()/len(df),2))"
   ]
  },
  {
   "cell_type": "code",
   "execution_count": 19,
   "metadata": {},
   "outputs": [],
   "source": [
    "# this function is for turning these dataframes into csv files in the mcl folder. It takes in a list of dataframes\n",
    "# as its argument and it drops the inviable column retaining only those inviable proteins.\n",
    "def make_inviable_csv(list_of_inviable_dfs):\n",
    "    for i, df in enumerate(list_of_inviable_dfs):\n",
    "        df2 = df[df['inviable'] == True]\n",
    "        df2 = df2.drop('inviable',axis=1)\n",
    "        df2.to_csv(lib.files.make_filepath_to_mcl_clusters(f'inviable_{file_names[i]}'))"
   ]
  },
  {
   "cell_type": "code",
   "execution_count": 76,
   "metadata": {},
   "outputs": [],
   "source": [
    "make_inviable_csv(inviable_dfs_3q)"
   ]
  },
  {
   "cell_type": "markdown",
   "metadata": {},
   "source": [
    "### Fourth Quartile"
   ]
  },
  {
   "cell_type": "code",
   "execution_count": 22,
   "metadata": {},
   "outputs": [],
   "source": [
    "file_names = ['betweenness_centrality_quantile_0.75_to_1',\n",
    "              'degree_centrality_quantile_0.75_to_1',\n",
    "              'eigenvector_centrality_quantile_0.75_to_1']\n",
    "file_paths = list(map(lambda file: lib.files.make_filepath_to_mcl_clusters(file), file_names))\n",
    "btw_4q = inviable_wo_4932(file_paths[0])\n",
    "deg_4q = inviable_wo_4932(file_paths[1])\n",
    "egv_4q = inviable_wo_4932(file_paths[2])\n",
    "inviable_dfs_4q = [btw_4q,deg_4q,egv_4q]\n",
    "centrality_measures = ['betweenness','degree','eigenvector']"
   ]
  },
  {
   "cell_type": "code",
   "execution_count": 23,
   "metadata": {},
   "outputs": [
    {
     "data": {
      "text/html": [
       "<div>\n",
       "<style scoped>\n",
       "    .dataframe tbody tr th:only-of-type {\n",
       "        vertical-align: middle;\n",
       "    }\n",
       "\n",
       "    .dataframe tbody tr th {\n",
       "        vertical-align: top;\n",
       "    }\n",
       "\n",
       "    .dataframe thead th {\n",
       "        text-align: right;\n",
       "    }\n",
       "</style>\n",
       "<table border=\"1\" class=\"dataframe\">\n",
       "  <thead>\n",
       "    <tr style=\"text-align: right;\">\n",
       "      <th></th>\n",
       "      <th>cluster</th>\n",
       "      <th>protein</th>\n",
       "      <th>degree</th>\n",
       "      <th>betweenness_centrality</th>\n",
       "      <th>eigenvector_centrality</th>\n",
       "      <th>degree_centrality</th>\n",
       "      <th>inviable</th>\n",
       "    </tr>\n",
       "  </thead>\n",
       "  <tbody>\n",
       "    <tr>\n",
       "      <th>0</th>\n",
       "      <td>0</td>\n",
       "      <td>Q0297</td>\n",
       "      <td>6</td>\n",
       "      <td>0.286</td>\n",
       "      <td>0.403</td>\n",
       "      <td>0.857</td>\n",
       "      <td>False</td>\n",
       "    </tr>\n",
       "    <tr>\n",
       "      <th>1</th>\n",
       "      <td>0</td>\n",
       "      <td>Q0010</td>\n",
       "      <td>6</td>\n",
       "      <td>0.119</td>\n",
       "      <td>0.417</td>\n",
       "      <td>0.857</td>\n",
       "      <td>False</td>\n",
       "    </tr>\n",
       "    <tr>\n",
       "      <th>2</th>\n",
       "      <td>0</td>\n",
       "      <td>Q0143</td>\n",
       "      <td>6</td>\n",
       "      <td>0.119</td>\n",
       "      <td>0.417</td>\n",
       "      <td>0.857</td>\n",
       "      <td>False</td>\n",
       "    </tr>\n",
       "    <tr>\n",
       "      <th>3</th>\n",
       "      <td>1</td>\n",
       "      <td>YCL017C</td>\n",
       "      <td>11</td>\n",
       "      <td>0.009</td>\n",
       "      <td>0.303</td>\n",
       "      <td>1.000</td>\n",
       "      <td>True</td>\n",
       "    </tr>\n",
       "    <tr>\n",
       "      <th>4</th>\n",
       "      <td>1</td>\n",
       "      <td>YKL040C</td>\n",
       "      <td>11</td>\n",
       "      <td>0.009</td>\n",
       "      <td>0.303</td>\n",
       "      <td>1.000</td>\n",
       "      <td>False</td>\n",
       "    </tr>\n",
       "    <tr>\n",
       "      <th>...</th>\n",
       "      <td>...</td>\n",
       "      <td>...</td>\n",
       "      <td>...</td>\n",
       "      <td>...</td>\n",
       "      <td>...</td>\n",
       "      <td>...</td>\n",
       "      <td>...</td>\n",
       "    </tr>\n",
       "    <tr>\n",
       "      <th>2104</th>\n",
       "      <td>685</td>\n",
       "      <td>YCL012C</td>\n",
       "      <td>1</td>\n",
       "      <td>0.000</td>\n",
       "      <td>0.707</td>\n",
       "      <td>1.000</td>\n",
       "      <td>False</td>\n",
       "    </tr>\n",
       "    <tr>\n",
       "      <th>2105</th>\n",
       "      <td>686</td>\n",
       "      <td>YNL033W</td>\n",
       "      <td>3</td>\n",
       "      <td>0.250</td>\n",
       "      <td>0.500</td>\n",
       "      <td>0.750</td>\n",
       "      <td>False</td>\n",
       "    </tr>\n",
       "    <tr>\n",
       "      <th>2106</th>\n",
       "      <td>686</td>\n",
       "      <td>YNL019C</td>\n",
       "      <td>3</td>\n",
       "      <td>0.250</td>\n",
       "      <td>0.500</td>\n",
       "      <td>0.750</td>\n",
       "      <td>False</td>\n",
       "    </tr>\n",
       "    <tr>\n",
       "      <th>2107</th>\n",
       "      <td>687</td>\n",
       "      <td>YIL088C</td>\n",
       "      <td>1</td>\n",
       "      <td>0.000</td>\n",
       "      <td>0.707</td>\n",
       "      <td>1.000</td>\n",
       "      <td>False</td>\n",
       "    </tr>\n",
       "    <tr>\n",
       "      <th>2108</th>\n",
       "      <td>687</td>\n",
       "      <td>YKL146W</td>\n",
       "      <td>1</td>\n",
       "      <td>0.000</td>\n",
       "      <td>0.707</td>\n",
       "      <td>1.000</td>\n",
       "      <td>False</td>\n",
       "    </tr>\n",
       "  </tbody>\n",
       "</table>\n",
       "<p>2109 rows × 7 columns</p>\n",
       "</div>"
      ],
      "text/plain": [
       "      cluster  protein  degree  betweenness_centrality  \\\n",
       "0           0    Q0297       6                   0.286   \n",
       "1           0    Q0010       6                   0.119   \n",
       "2           0    Q0143       6                   0.119   \n",
       "3           1  YCL017C      11                   0.009   \n",
       "4           1  YKL040C      11                   0.009   \n",
       "...       ...      ...     ...                     ...   \n",
       "2104      685  YCL012C       1                   0.000   \n",
       "2105      686  YNL033W       3                   0.250   \n",
       "2106      686  YNL019C       3                   0.250   \n",
       "2107      687  YIL088C       1                   0.000   \n",
       "2108      687  YKL146W       1                   0.000   \n",
       "\n",
       "      eigenvector_centrality  degree_centrality  inviable  \n",
       "0                      0.403              0.857     False  \n",
       "1                      0.417              0.857     False  \n",
       "2                      0.417              0.857     False  \n",
       "3                      0.303              1.000      True  \n",
       "4                      0.303              1.000     False  \n",
       "...                      ...                ...       ...  \n",
       "2104                   0.707              1.000     False  \n",
       "2105                   0.500              0.750     False  \n",
       "2106                   0.500              0.750     False  \n",
       "2107                   0.707              1.000     False  \n",
       "2108                   0.707              1.000     False  \n",
       "\n",
       "[2109 rows x 7 columns]"
      ]
     },
     "execution_count": 23,
     "metadata": {},
     "output_type": "execute_result"
    }
   ],
   "source": [
    "btw_4q"
   ]
  },
  {
   "cell_type": "code",
   "execution_count": 24,
   "metadata": {},
   "outputs": [
    {
     "name": "stdout",
     "output_type": "stream",
     "text": [
      "There are 573 essential proteins found in the fourth quantile for betweenness out of 2109 proteins. Proportion: 0.27\n",
      "There are 598 essential proteins found in the fourth quantile for degree out of 2140 proteins. Proportion: 0.28\n",
      "There are 564 essential proteins found in the fourth quantile for eigenvector out of 2027 proteins. Proportion: 0.28\n"
     ]
    }
   ],
   "source": [
    "for i, df in enumerate(inviable_dfs_4q):\n",
    "   print('There are', df['inviable'].sum(), 'essential proteins found in the fourth quantile for',\n",
    "         centrality_measures[i],'out of', len(df), 'proteins.', 'Proportion:', round(df['inviable'].sum()/len(df),2))"
   ]
  },
  {
   "cell_type": "markdown",
   "metadata": {},
   "source": [
    "One thing to note is that for both the third and fourth quantiles, the overall number of proteins for the eigenvector one seems to be less compared to betweenness and degree. The proportion of essential proteins is indeed higher for the fourth quantile compared to the third, but by not so much. Let us also have a look at the second quantile later."
   ]
  },
  {
   "cell_type": "code",
   "execution_count": 77,
   "metadata": {},
   "outputs": [],
   "source": [
    "make_inviable_csv(inviable_dfs_4q)"
   ]
  },
  {
   "cell_type": "markdown",
   "metadata": {},
   "source": [
    "### Second Quartile"
   ]
  },
  {
   "cell_type": "code",
   "execution_count": 25,
   "metadata": {},
   "outputs": [],
   "source": [
    "file_names = ['betweenness_centrality_quantile_0.25_to_0.5',\n",
    "              'degree_centrality_quantile_0.25_to_0.5',\n",
    "              'eigenvector_centrality_quantile_0.25_to_0.5']\n",
    "file_paths = list(map(lambda file: lib.files.make_filepath_to_mcl_clusters(file), file_names))\n",
    "btw_2q = inviable_wo_4932(file_paths[0])\n",
    "deg_2q = inviable_wo_4932(file_paths[1])\n",
    "egv_2q = inviable_wo_4932(file_paths[2])\n",
    "inviable_dfs_2q = [btw_2q,deg_2q,egv_2q]\n",
    "centrality_measures = ['betweenness','degree','eigenvector']"
   ]
  },
  {
   "cell_type": "code",
   "execution_count": 26,
   "metadata": {},
   "outputs": [
    {
     "data": {
      "text/html": [
       "<div>\n",
       "<style scoped>\n",
       "    .dataframe tbody tr th:only-of-type {\n",
       "        vertical-align: middle;\n",
       "    }\n",
       "\n",
       "    .dataframe tbody tr th {\n",
       "        vertical-align: top;\n",
       "    }\n",
       "\n",
       "    .dataframe thead th {\n",
       "        text-align: right;\n",
       "    }\n",
       "</style>\n",
       "<table border=\"1\" class=\"dataframe\">\n",
       "  <thead>\n",
       "    <tr style=\"text-align: right;\">\n",
       "      <th></th>\n",
       "      <th>cluster</th>\n",
       "      <th>protein</th>\n",
       "      <th>degree</th>\n",
       "      <th>eigenvector_centrality</th>\n",
       "      <th>betweenness_centrality</th>\n",
       "      <th>degree_centrality</th>\n",
       "      <th>inviable</th>\n",
       "    </tr>\n",
       "  </thead>\n",
       "  <tbody>\n",
       "    <tr>\n",
       "      <th>0</th>\n",
       "      <td>0</td>\n",
       "      <td>Q0182</td>\n",
       "      <td>5</td>\n",
       "      <td>0.391</td>\n",
       "      <td>0.000</td>\n",
       "      <td>0.714</td>\n",
       "      <td>False</td>\n",
       "    </tr>\n",
       "    <tr>\n",
       "      <th>1</th>\n",
       "      <td>0</td>\n",
       "      <td>Q0032</td>\n",
       "      <td>5</td>\n",
       "      <td>0.391</td>\n",
       "      <td>0.000</td>\n",
       "      <td>0.714</td>\n",
       "      <td>False</td>\n",
       "    </tr>\n",
       "    <tr>\n",
       "      <th>2</th>\n",
       "      <td>1</td>\n",
       "      <td>YJR122W</td>\n",
       "      <td>10</td>\n",
       "      <td>0.283</td>\n",
       "      <td>0.002</td>\n",
       "      <td>0.909</td>\n",
       "      <td>False</td>\n",
       "    </tr>\n",
       "    <tr>\n",
       "      <th>3</th>\n",
       "      <td>1</td>\n",
       "      <td>YLL027W</td>\n",
       "      <td>10</td>\n",
       "      <td>0.283</td>\n",
       "      <td>0.002</td>\n",
       "      <td>0.909</td>\n",
       "      <td>False</td>\n",
       "    </tr>\n",
       "    <tr>\n",
       "      <th>4</th>\n",
       "      <td>1</td>\n",
       "      <td>YOR196C</td>\n",
       "      <td>10</td>\n",
       "      <td>0.283</td>\n",
       "      <td>0.002</td>\n",
       "      <td>0.909</td>\n",
       "      <td>False</td>\n",
       "    </tr>\n",
       "    <tr>\n",
       "      <th>...</th>\n",
       "      <td>...</td>\n",
       "      <td>...</td>\n",
       "      <td>...</td>\n",
       "      <td>...</td>\n",
       "      <td>...</td>\n",
       "      <td>...</td>\n",
       "      <td>...</td>\n",
       "    </tr>\n",
       "    <tr>\n",
       "      <th>2130</th>\n",
       "      <td>686</td>\n",
       "      <td>YNL034W</td>\n",
       "      <td>2</td>\n",
       "      <td>0.408</td>\n",
       "      <td>0.056</td>\n",
       "      <td>0.500</td>\n",
       "      <td>False</td>\n",
       "    </tr>\n",
       "    <tr>\n",
       "      <th>2131</th>\n",
       "      <td>686</td>\n",
       "      <td>YFL051C</td>\n",
       "      <td>2</td>\n",
       "      <td>0.408</td>\n",
       "      <td>0.056</td>\n",
       "      <td>0.500</td>\n",
       "      <td>False</td>\n",
       "    </tr>\n",
       "    <tr>\n",
       "      <th>2132</th>\n",
       "      <td>686</td>\n",
       "      <td>YNL018C</td>\n",
       "      <td>2</td>\n",
       "      <td>0.408</td>\n",
       "      <td>0.056</td>\n",
       "      <td>0.500</td>\n",
       "      <td>False</td>\n",
       "    </tr>\n",
       "    <tr>\n",
       "      <th>2133</th>\n",
       "      <td>687</td>\n",
       "      <td>YIL088C</td>\n",
       "      <td>1</td>\n",
       "      <td>0.707</td>\n",
       "      <td>0.000</td>\n",
       "      <td>1.000</td>\n",
       "      <td>False</td>\n",
       "    </tr>\n",
       "    <tr>\n",
       "      <th>2134</th>\n",
       "      <td>687</td>\n",
       "      <td>YKL146W</td>\n",
       "      <td>1</td>\n",
       "      <td>0.707</td>\n",
       "      <td>0.000</td>\n",
       "      <td>1.000</td>\n",
       "      <td>False</td>\n",
       "    </tr>\n",
       "  </tbody>\n",
       "</table>\n",
       "<p>2135 rows × 7 columns</p>\n",
       "</div>"
      ],
      "text/plain": [
       "      cluster  protein  degree  eigenvector_centrality  \\\n",
       "0           0    Q0182       5                   0.391   \n",
       "1           0    Q0032       5                   0.391   \n",
       "2           1  YJR122W      10                   0.283   \n",
       "3           1  YLL027W      10                   0.283   \n",
       "4           1  YOR196C      10                   0.283   \n",
       "...       ...      ...     ...                     ...   \n",
       "2130      686  YNL034W       2                   0.408   \n",
       "2131      686  YFL051C       2                   0.408   \n",
       "2132      686  YNL018C       2                   0.408   \n",
       "2133      687  YIL088C       1                   0.707   \n",
       "2134      687  YKL146W       1                   0.707   \n",
       "\n",
       "      betweenness_centrality  degree_centrality  inviable  \n",
       "0                      0.000              0.714     False  \n",
       "1                      0.000              0.714     False  \n",
       "2                      0.002              0.909     False  \n",
       "3                      0.002              0.909     False  \n",
       "4                      0.002              0.909     False  \n",
       "...                      ...                ...       ...  \n",
       "2130                   0.056              0.500     False  \n",
       "2131                   0.056              0.500     False  \n",
       "2132                   0.056              0.500     False  \n",
       "2133                   0.000              1.000     False  \n",
       "2134                   0.000              1.000     False  \n",
       "\n",
       "[2135 rows x 7 columns]"
      ]
     },
     "execution_count": 26,
     "metadata": {},
     "output_type": "execute_result"
    }
   ],
   "source": [
    "egv_2q"
   ]
  },
  {
   "cell_type": "code",
   "execution_count": 27,
   "metadata": {},
   "outputs": [
    {
     "name": "stdout",
     "output_type": "stream",
     "text": [
      "There are 484 essential proteins found in the second quantile for betweenness out of 2528 proteins. Proportion: 0.19\n",
      "There are 471 essential proteins found in the second quantile for degree out of 2327 proteins. Proportion: 0.2\n",
      "There are 428 essential proteins found in the second quantile for eigenvector out of 2135 proteins. Proportion: 0.2\n"
     ]
    }
   ],
   "source": [
    "for i, df in enumerate(inviable_dfs_2q):\n",
    "   print('There are', df['inviable'].sum(), 'essential proteins found in the second quantile for',\n",
    "         centrality_measures[i],'out of', len(df), 'proteins.', 'Proportion:', round(df['inviable'].sum()/len(df),2))"
   ]
  },
  {
   "cell_type": "code",
   "execution_count": 78,
   "metadata": {},
   "outputs": [],
   "source": [
    "make_inviable_csv(inviable_dfs_2q)"
   ]
  },
  {
   "cell_type": "markdown",
   "metadata": {},
   "source": [
    "It doesn't seem like the second quartile has that much less essential proteins compared to the third. The fourth quartile would probably be still similar, but let us have a look anyways. Also, the number of total proteins for the second quartile for eigenvector centrality is still a lot less for some reasons. It probably is all in the fourth quantile."
   ]
  },
  {
   "cell_type": "markdown",
   "metadata": {},
   "source": [
    "### First Quantile"
   ]
  },
  {
   "cell_type": "code",
   "execution_count": 29,
   "metadata": {},
   "outputs": [],
   "source": [
    "file_names = ['betweenness_centrality_quantile_0_to_0.25',\n",
    "              'degree_centrality_quantile_0_to_0.25',\n",
    "              'eigenvector_centrality_quantile_0_to_0.25']\n",
    "file_paths = list(map(lambda file: lib.files.make_filepath_to_mcl_clusters(file), file_names))\n",
    "btw_1q = inviable_wo_4932(file_paths[0])\n",
    "deg_1q = inviable_wo_4932(file_paths[1])\n",
    "egv_1q = inviable_wo_4932(file_paths[2])\n",
    "inviable_dfs_1q = [btw_1q,deg_1q,egv_1q]\n",
    "centrality_measures = ['betweenness','degree','eigenvector']"
   ]
  },
  {
   "cell_type": "code",
   "execution_count": 30,
   "metadata": {},
   "outputs": [
    {
     "data": {
      "text/html": [
       "<div>\n",
       "<style scoped>\n",
       "    .dataframe tbody tr th:only-of-type {\n",
       "        vertical-align: middle;\n",
       "    }\n",
       "\n",
       "    .dataframe tbody tr th {\n",
       "        vertical-align: top;\n",
       "    }\n",
       "\n",
       "    .dataframe thead th {\n",
       "        text-align: right;\n",
       "    }\n",
       "</style>\n",
       "<table border=\"1\" class=\"dataframe\">\n",
       "  <thead>\n",
       "    <tr style=\"text-align: right;\">\n",
       "      <th></th>\n",
       "      <th>cluster</th>\n",
       "      <th>protein</th>\n",
       "      <th>degree</th>\n",
       "      <th>eigenvector_centrality</th>\n",
       "      <th>betweenness_centrality</th>\n",
       "      <th>degree_centrality</th>\n",
       "      <th>inviable</th>\n",
       "    </tr>\n",
       "  </thead>\n",
       "  <tbody>\n",
       "    <tr>\n",
       "      <th>0</th>\n",
       "      <td>0</td>\n",
       "      <td>Q0182</td>\n",
       "      <td>5</td>\n",
       "      <td>0.391</td>\n",
       "      <td>0.000</td>\n",
       "      <td>0.714</td>\n",
       "      <td>False</td>\n",
       "    </tr>\n",
       "    <tr>\n",
       "      <th>1</th>\n",
       "      <td>0</td>\n",
       "      <td>Q0032</td>\n",
       "      <td>5</td>\n",
       "      <td>0.391</td>\n",
       "      <td>0.000</td>\n",
       "      <td>0.714</td>\n",
       "      <td>False</td>\n",
       "    </tr>\n",
       "    <tr>\n",
       "      <th>2</th>\n",
       "      <td>1</td>\n",
       "      <td>YJR122W</td>\n",
       "      <td>10</td>\n",
       "      <td>0.283</td>\n",
       "      <td>0.002</td>\n",
       "      <td>0.909</td>\n",
       "      <td>False</td>\n",
       "    </tr>\n",
       "    <tr>\n",
       "      <th>3</th>\n",
       "      <td>1</td>\n",
       "      <td>YLL027W</td>\n",
       "      <td>10</td>\n",
       "      <td>0.283</td>\n",
       "      <td>0.002</td>\n",
       "      <td>0.909</td>\n",
       "      <td>False</td>\n",
       "    </tr>\n",
       "    <tr>\n",
       "      <th>4</th>\n",
       "      <td>1</td>\n",
       "      <td>YOR196C</td>\n",
       "      <td>10</td>\n",
       "      <td>0.283</td>\n",
       "      <td>0.002</td>\n",
       "      <td>0.909</td>\n",
       "      <td>False</td>\n",
       "    </tr>\n",
       "    <tr>\n",
       "      <th>...</th>\n",
       "      <td>...</td>\n",
       "      <td>...</td>\n",
       "      <td>...</td>\n",
       "      <td>...</td>\n",
       "      <td>...</td>\n",
       "      <td>...</td>\n",
       "      <td>...</td>\n",
       "    </tr>\n",
       "    <tr>\n",
       "      <th>2130</th>\n",
       "      <td>686</td>\n",
       "      <td>YNL034W</td>\n",
       "      <td>2</td>\n",
       "      <td>0.408</td>\n",
       "      <td>0.056</td>\n",
       "      <td>0.500</td>\n",
       "      <td>False</td>\n",
       "    </tr>\n",
       "    <tr>\n",
       "      <th>2131</th>\n",
       "      <td>686</td>\n",
       "      <td>YFL051C</td>\n",
       "      <td>2</td>\n",
       "      <td>0.408</td>\n",
       "      <td>0.056</td>\n",
       "      <td>0.500</td>\n",
       "      <td>False</td>\n",
       "    </tr>\n",
       "    <tr>\n",
       "      <th>2132</th>\n",
       "      <td>686</td>\n",
       "      <td>YNL018C</td>\n",
       "      <td>2</td>\n",
       "      <td>0.408</td>\n",
       "      <td>0.056</td>\n",
       "      <td>0.500</td>\n",
       "      <td>False</td>\n",
       "    </tr>\n",
       "    <tr>\n",
       "      <th>2133</th>\n",
       "      <td>687</td>\n",
       "      <td>YIL088C</td>\n",
       "      <td>1</td>\n",
       "      <td>0.707</td>\n",
       "      <td>0.000</td>\n",
       "      <td>1.000</td>\n",
       "      <td>False</td>\n",
       "    </tr>\n",
       "    <tr>\n",
       "      <th>2134</th>\n",
       "      <td>687</td>\n",
       "      <td>YKL146W</td>\n",
       "      <td>1</td>\n",
       "      <td>0.707</td>\n",
       "      <td>0.000</td>\n",
       "      <td>1.000</td>\n",
       "      <td>False</td>\n",
       "    </tr>\n",
       "  </tbody>\n",
       "</table>\n",
       "<p>2135 rows × 7 columns</p>\n",
       "</div>"
      ],
      "text/plain": [
       "      cluster  protein  degree  eigenvector_centrality  \\\n",
       "0           0    Q0182       5                   0.391   \n",
       "1           0    Q0032       5                   0.391   \n",
       "2           1  YJR122W      10                   0.283   \n",
       "3           1  YLL027W      10                   0.283   \n",
       "4           1  YOR196C      10                   0.283   \n",
       "...       ...      ...     ...                     ...   \n",
       "2130      686  YNL034W       2                   0.408   \n",
       "2131      686  YFL051C       2                   0.408   \n",
       "2132      686  YNL018C       2                   0.408   \n",
       "2133      687  YIL088C       1                   0.707   \n",
       "2134      687  YKL146W       1                   0.707   \n",
       "\n",
       "      betweenness_centrality  degree_centrality  inviable  \n",
       "0                      0.000              0.714     False  \n",
       "1                      0.000              0.714     False  \n",
       "2                      0.002              0.909     False  \n",
       "3                      0.002              0.909     False  \n",
       "4                      0.002              0.909     False  \n",
       "...                      ...                ...       ...  \n",
       "2130                   0.056              0.500     False  \n",
       "2131                   0.056              0.500     False  \n",
       "2132                   0.056              0.500     False  \n",
       "2133                   0.000              1.000     False  \n",
       "2134                   0.000              1.000     False  \n",
       "\n",
       "[2135 rows x 7 columns]"
      ]
     },
     "execution_count": 30,
     "metadata": {},
     "output_type": "execute_result"
    }
   ],
   "source": [
    "egv_2q"
   ]
  },
  {
   "cell_type": "code",
   "execution_count": 31,
   "metadata": {},
   "outputs": [
    {
     "name": "stdout",
     "output_type": "stream",
     "text": [
      "There are 406 essential proteins found in the first quantile for betweenness out of 2357 proteins. Proportion: 0.17\n",
      "There are 379 essential proteins found in the first quantile for degree out of 2154 proteins. Proportion: 0.18\n",
      "There are 365 essential proteins found in the first quantile for eigenvector out of 2066 proteins. Proportion: 0.18\n"
     ]
    }
   ],
   "source": [
    "for i, df in enumerate(inviable_dfs_1q):\n",
    "   print('There are', df['inviable'].sum(), 'essential proteins found in the first quantile for',\n",
    "         centrality_measures[i],'out of', len(df), 'proteins.', 'Proportion:', round(df['inviable'].sum()/len(df),2))"
   ]
  },
  {
   "cell_type": "code",
   "execution_count": 79,
   "metadata": {},
   "outputs": [],
   "source": [
    "make_inviable_csv(inviable_dfs_1q)"
   ]
  },
  {
   "cell_type": "markdown",
   "metadata": {},
   "source": [
    "Compared to the second quartile there is a slight difference in number of essential proteins detected. Overall there is a slight trend in that the larger the quartile, the more essential proteins were found. For some reasons the eigenvector centrality still only has around 1800 proteins total."
   ]
  }
 ],
 "metadata": {
  "kernelspec": {
   "display_name": "Python 3 (ipykernel)",
   "language": "python",
   "name": "python3"
  },
  "language_info": {
   "codemirror_mode": {
    "name": "ipython",
    "version": 3
   },
   "file_extension": ".py",
   "mimetype": "text/x-python",
   "name": "python",
   "nbconvert_exporter": "python",
   "pygments_lexer": "ipython3",
   "version": "3.8.10"
  }
 },
 "nbformat": 4,
 "nbformat_minor": 1
}

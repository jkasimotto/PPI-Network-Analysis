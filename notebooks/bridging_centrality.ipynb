{
 "cells": [
  {
   "cell_type": "markdown",
   "id": "fb1e1396",
   "metadata": {},
   "source": [
    "### Meta"
   ]
  },
  {
   "cell_type": "code",
   "execution_count": 1,
   "id": "5212ac07",
   "metadata": {},
   "outputs": [],
   "source": [
    "# Autoreload modules without having to restart the notebook kernel.\n",
    "# hi bilbo\n",
    "%load_ext autoreload\n",
    "%autoreload 2\n",
    "\n",
    "\n",
    "# Plotting code stolen from Georg's notebook.\n",
    "import matplotlib.pyplot as plt\n",
    "\n",
    "\n",
    "%matplotlib inline\n",
    "font = {'family': 'DejaVu Sans',\n",
    "        'weight': 'bold',\n",
    "        'size': 32}\n",
    "plt.rc('font', **font)"
   ]
  },
  {
   "cell_type": "markdown",
   "id": "581b3898",
   "metadata": {},
   "source": [
    "### Imports"
   ]
  },
  {
   "cell_type": "code",
   "execution_count": 8,
   "id": "ecf35c6f",
   "metadata": {},
   "outputs": [],
   "source": [
    "import sys\n",
    "sys.path.insert(1, \"..\\\\\")\n",
    "\n",
    "\n",
    "#import markov_clustering as mcl\n",
    "import networkx as nx\n",
    "import pandas as pd\n",
    "import seaborn as sns\n",
    "sns.set_theme()\n",
    "import copy\n",
    "import numpy as np\n",
    "import time\n",
    "\n",
    "\n",
    "# Personal libraries\n",
    "import lib.graph\n",
    "import lib.files\n",
    "import lib.centrality\n"
   ]
  },
  {
   "cell_type": "markdown",
   "id": "d38be7e4",
   "metadata": {},
   "source": [
    "### Bridging centrality on entire network"
   ]
  },
  {
   "cell_type": "markdown",
   "id": "c10e7bd5",
   "metadata": {},
   "source": [
    "I run bridging centrality on entire network (connected component of icp55 + pim1, cutoff 900, including inviable)"
   ]
  },
  {
   "cell_type": "code",
   "execution_count": 3,
   "id": "4a394397",
   "metadata": {},
   "outputs": [],
   "source": [
    "##Load in Julian O's df of key measures calculated on icp55 connected component, edge cutoff 900, keeping inviable proteins\n",
    "network = lib.graph.read_weighted_edgelist(lib.files.make_filepath_to_networks('icp55-cc-900-inv.txt'))\n",
    "df = pd.read_csv(lib.files.path_to_tables('icp55-cc-900-inv.csv'), index_col=0, header=0)"
   ]
  },
  {
   "cell_type": "code",
   "execution_count": 21,
   "id": "ffb7ca2b",
   "metadata": {},
   "outputs": [
    {
     "name": "stdout",
     "output_type": "stream",
     "text": [
      "329.9657862186432\n"
     ]
    }
   ],
   "source": [
    "#Run\n",
    "start = time.time()\n",
    "global_bridge_cent = lib.centrality.bridging_centrality(network, betweenness_approx_nodes = False)\n",
    "end = time.time()\n",
    "print(end - start)\n",
    "\n",
    "\n",
    "global_bridge_cent_df = pd.DataFrame.from_dict(global_bridge_cent,\n",
    "                      orient = \"index\")\n",
    "global_bridge_cent_df.to_csv(\"..\\\\data/tables/icp55-cc-900-inv-globalbridgingcentr.csv\")"
   ]
  }
 ],
 "metadata": {
  "kernelspec": {
   "display_name": "Python 3",
   "language": "python",
   "name": "python3"
  },
  "language_info": {
   "codemirror_mode": {
    "name": "ipython",
    "version": 3
   },
   "file_extension": ".py",
   "mimetype": "text/x-python",
   "name": "python",
   "nbconvert_exporter": "python",
   "pygments_lexer": "ipython3",
   "version": "3.9.5"
  }
 },
 "nbformat": 4,
 "nbformat_minor": 5
}

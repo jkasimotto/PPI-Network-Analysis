{
 "cells": [
  {
   "cell_type": "markdown",
   "metadata": {
    "pycharm": {
     "name": "#%% md\n"
    }
   },
   "source": [
    "### Meta"
   ]
  },
  {
   "cell_type": "code",
   "execution_count": 1,
   "metadata": {
    "pycharm": {
     "name": "#%%\n"
    }
   },
   "outputs": [],
   "source": [
    "# Autoreload modules without having to restart the notebook kernel.\n",
    "# hi bilbo\n",
    "%load_ext autoreload\n",
    "%autoreload 2\n",
    "\n",
    "\n",
    "# Plotting code stolen from Georg's notebook.\n",
    "import matplotlib.pyplot as plt\n",
    "\n",
    "%matplotlib inline\n",
    "font = {'family': 'DejaVu Sans',\n",
    "        'weight': 'bold',\n",
    "        'size': 32}\n",
    "plt.rc('font', **font)"
   ]
  },
  {
   "cell_type": "markdown",
   "metadata": {
    "pycharm": {
     "name": "#%% md\n"
    }
   },
   "source": [
    "### Imports"
   ]
  },
  {
   "cell_type": "code",
   "execution_count": null,
   "metadata": {
    "pycharm": {
     "name": "#%%\n"
    }
   },
   "outputs": [],
   "source": [
    "import sys\n",
    "sys.path.insert(1, \"..\\\\\")\n",
    "\n",
    "\n",
    "#import markov_clustering as mcl\n",
    "import networkx as nx\n",
    "\n",
    "# Personal libraries\n",
    "import lib.graph\n",
    "import lib.files\n",
    "import lib.centrality\n"
   ]
  },
  {
   "cell_type": "code",
   "execution_count": 3,
   "metadata": {
    "pycharm": {
     "name": "#%%\n"
    },
    "scrolled": true
   },
   "outputs": [],
   "source": [
    "# The first network is the largest connected component containing ICP55 with inviable proteins, has edges above 900 and no degree 0 nodes.\n",
    "n0 = lib.graph.read_weighted_edgelist(lib.files.make_filepath_to_networks(\"icp55-cc-900-inv.txt\"))"
   ]
  },
  {
   "cell_type": "code",
   "execution_count": null,
   "outputs": [],
   "source": [
    "nx.draw(n0)"
   ],
   "metadata": {
    "collapsed": false,
    "pycharm": {
     "name": "#%%\n"
    }
   }
  },
  {
   "cell_type": "code",
   "execution_count": 4,
   "metadata": {
    "pycharm": {
     "name": "#%%\n"
    }
   },
   "outputs": [
    {
     "ename": "KeyboardInterrupt",
     "evalue": "",
     "output_type": "error",
     "traceback": [
      "\u001B[1;31m---------------------------------------------------------------------------\u001B[0m",
      "\u001B[1;31mKeyboardInterrupt\u001B[0m                         Traceback (most recent call last)",
      "\u001B[1;32m~\\AppData\\Local\\Temp/ipykernel_3752/1997874915.py\u001B[0m in \u001B[0;36m<module>\u001B[1;34m\u001B[0m\n\u001B[0;32m     30\u001B[0m \u001B[1;33m\u001B[0m\u001B[0m\n\u001B[0;32m     31\u001B[0m n0_bridging_centrality = bridging_centrality(n0,\n\u001B[1;32m---> 32\u001B[1;33m                          betweenness_approx_nodes = False)\n\u001B[0m\u001B[0;32m     33\u001B[0m \u001B[1;33m\u001B[0m\u001B[0m\n\u001B[0;32m     34\u001B[0m \u001B[0mprint\u001B[0m\u001B[1;33m(\u001B[0m\u001B[0mn0_bridging_centrality\u001B[0m\u001B[1;33m)\u001B[0m\u001B[1;33m\u001B[0m\u001B[1;33m\u001B[0m\u001B[0m\n",
      "\u001B[1;32m~\\AppData\\Local\\Temp/ipykernel_3752/1997874915.py\u001B[0m in \u001B[0;36mbridging_centrality\u001B[1;34m(graph, betweenness_approx_nodes)\u001B[0m\n\u001B[0;32m     10\u001B[0m     \u001B[1;31m#Calculate betweenness centrality\u001B[0m\u001B[1;33m\u001B[0m\u001B[1;33m\u001B[0m\u001B[1;33m\u001B[0m\u001B[0m\n\u001B[0;32m     11\u001B[0m     \u001B[1;32mif\u001B[0m \u001B[0mbetweenness_approx_nodes\u001B[0m \u001B[1;33m==\u001B[0m \u001B[1;32mFalse\u001B[0m\u001B[1;33m:\u001B[0m\u001B[1;33m\u001B[0m\u001B[1;33m\u001B[0m\u001B[0m\n\u001B[1;32m---> 12\u001B[1;33m         \u001B[0mbetweeness\u001B[0m \u001B[1;33m=\u001B[0m \u001B[0mnx\u001B[0m\u001B[1;33m.\u001B[0m\u001B[0mbetweenness_centrality\u001B[0m\u001B[1;33m(\u001B[0m\u001B[0mgraph\u001B[0m\u001B[1;33m)\u001B[0m\u001B[1;33m\u001B[0m\u001B[1;33m\u001B[0m\u001B[0m\n\u001B[0m\u001B[0;32m     13\u001B[0m     \u001B[1;32melse\u001B[0m\u001B[1;33m:\u001B[0m\u001B[1;33m\u001B[0m\u001B[1;33m\u001B[0m\u001B[0m\n\u001B[0;32m     14\u001B[0m         betweeness = nx.betweenness_centrality(graph,\n",
      "\u001B[1;32m~\\anaconda3\\envs\\math3888\\lib\\site-packages\\networkx\\utils\\decorators.py\u001B[0m in \u001B[0;36mfunc\u001B[1;34m(_argmap__wrapper, *args, **kwargs)\u001B[0m\n\u001B[0;32m    793\u001B[0m \u001B[1;33m\u001B[0m\u001B[0m\n\u001B[0;32m    794\u001B[0m             \u001B[1;32mdef\u001B[0m \u001B[0mfunc\u001B[0m\u001B[1;33m(\u001B[0m\u001B[1;33m*\u001B[0m\u001B[0margs\u001B[0m\u001B[1;33m,\u001B[0m \u001B[0m__wrapper\u001B[0m\u001B[1;33m=\u001B[0m\u001B[1;32mNone\u001B[0m\u001B[1;33m,\u001B[0m \u001B[1;33m**\u001B[0m\u001B[0mkwargs\u001B[0m\u001B[1;33m)\u001B[0m\u001B[1;33m:\u001B[0m\u001B[1;33m\u001B[0m\u001B[1;33m\u001B[0m\u001B[0m\n\u001B[1;32m--> 795\u001B[1;33m                 \u001B[1;32mreturn\u001B[0m \u001B[0margmap\u001B[0m\u001B[1;33m.\u001B[0m\u001B[0m_lazy_compile\u001B[0m\u001B[1;33m(\u001B[0m\u001B[0m__wrapper\u001B[0m\u001B[1;33m)\u001B[0m\u001B[1;33m(\u001B[0m\u001B[1;33m*\u001B[0m\u001B[0margs\u001B[0m\u001B[1;33m,\u001B[0m \u001B[1;33m**\u001B[0m\u001B[0mkwargs\u001B[0m\u001B[1;33m)\u001B[0m\u001B[1;33m\u001B[0m\u001B[1;33m\u001B[0m\u001B[0m\n\u001B[0m\u001B[0;32m    796\u001B[0m \u001B[1;33m\u001B[0m\u001B[0m\n\u001B[0;32m    797\u001B[0m         \u001B[1;31m# standard function-wrapping stuff\u001B[0m\u001B[1;33m\u001B[0m\u001B[1;33m\u001B[0m\u001B[1;33m\u001B[0m\u001B[0m\n",
      "\u001B[1;32m~\\anaconda3\\envs\\math3888\\lib\\site-packages\\networkx\\utils\\decorators.py\u001B[0m in \u001B[0;36margmap_betweenness_centrality_10\u001B[1;34m(G, k, normalized, weight, endpoints, seed)\u001B[0m\n\u001B[0;32m      3\u001B[0m \u001B[1;32mfrom\u001B[0m \u001B[0mcontextlib\u001B[0m \u001B[1;32mimport\u001B[0m \u001B[0mcontextmanager\u001B[0m\u001B[1;33m\u001B[0m\u001B[1;33m\u001B[0m\u001B[0m\n\u001B[0;32m      4\u001B[0m \u001B[1;32mfrom\u001B[0m \u001B[0mpathlib\u001B[0m \u001B[1;32mimport\u001B[0m \u001B[0mPath\u001B[0m\u001B[1;33m\u001B[0m\u001B[1;33m\u001B[0m\u001B[0m\n\u001B[1;32m----> 5\u001B[1;33m \u001B[1;32mimport\u001B[0m \u001B[0mwarnings\u001B[0m\u001B[1;33m\u001B[0m\u001B[1;33m\u001B[0m\u001B[0m\n\u001B[0m\u001B[0;32m      6\u001B[0m \u001B[1;33m\u001B[0m\u001B[0m\n\u001B[0;32m      7\u001B[0m \u001B[1;32mimport\u001B[0m \u001B[0mnetworkx\u001B[0m \u001B[1;32mas\u001B[0m \u001B[0mnx\u001B[0m\u001B[1;33m\u001B[0m\u001B[1;33m\u001B[0m\u001B[0m\n",
      "\u001B[1;32m~\\anaconda3\\envs\\math3888\\lib\\site-packages\\networkx\\algorithms\\centrality\\betweenness.py\u001B[0m in \u001B[0;36mbetweenness_centrality\u001B[1;34m(G, k, normalized, weight, endpoints, seed)\u001B[0m\n\u001B[0;32m    134\u001B[0m             \u001B[0mbetweenness\u001B[0m\u001B[1;33m,\u001B[0m \u001B[0mdelta\u001B[0m \u001B[1;33m=\u001B[0m \u001B[0m_accumulate_endpoints\u001B[0m\u001B[1;33m(\u001B[0m\u001B[0mbetweenness\u001B[0m\u001B[1;33m,\u001B[0m \u001B[0mS\u001B[0m\u001B[1;33m,\u001B[0m \u001B[0mP\u001B[0m\u001B[1;33m,\u001B[0m \u001B[0msigma\u001B[0m\u001B[1;33m,\u001B[0m \u001B[0ms\u001B[0m\u001B[1;33m)\u001B[0m\u001B[1;33m\u001B[0m\u001B[1;33m\u001B[0m\u001B[0m\n\u001B[0;32m    135\u001B[0m         \u001B[1;32melse\u001B[0m\u001B[1;33m:\u001B[0m\u001B[1;33m\u001B[0m\u001B[1;33m\u001B[0m\u001B[0m\n\u001B[1;32m--> 136\u001B[1;33m             \u001B[0mbetweenness\u001B[0m\u001B[1;33m,\u001B[0m \u001B[0mdelta\u001B[0m \u001B[1;33m=\u001B[0m \u001B[0m_accumulate_basic\u001B[0m\u001B[1;33m(\u001B[0m\u001B[0mbetweenness\u001B[0m\u001B[1;33m,\u001B[0m \u001B[0mS\u001B[0m\u001B[1;33m,\u001B[0m \u001B[0mP\u001B[0m\u001B[1;33m,\u001B[0m \u001B[0msigma\u001B[0m\u001B[1;33m,\u001B[0m \u001B[0ms\u001B[0m\u001B[1;33m)\u001B[0m\u001B[1;33m\u001B[0m\u001B[1;33m\u001B[0m\u001B[0m\n\u001B[0m\u001B[0;32m    137\u001B[0m     \u001B[1;31m# rescaling\u001B[0m\u001B[1;33m\u001B[0m\u001B[1;33m\u001B[0m\u001B[1;33m\u001B[0m\u001B[0m\n\u001B[0;32m    138\u001B[0m     betweenness = _rescale(\n",
      "\u001B[1;32m~\\anaconda3\\envs\\math3888\\lib\\site-packages\\networkx\\algorithms\\centrality\\betweenness.py\u001B[0m in \u001B[0;36m_accumulate_basic\u001B[1;34m(betweenness, S, P, sigma, s)\u001B[0m\n\u001B[0;32m    315\u001B[0m     \u001B[1;32mwhile\u001B[0m \u001B[0mS\u001B[0m\u001B[1;33m:\u001B[0m\u001B[1;33m\u001B[0m\u001B[1;33m\u001B[0m\u001B[0m\n\u001B[0;32m    316\u001B[0m         \u001B[0mw\u001B[0m \u001B[1;33m=\u001B[0m \u001B[0mS\u001B[0m\u001B[1;33m.\u001B[0m\u001B[0mpop\u001B[0m\u001B[1;33m(\u001B[0m\u001B[1;33m)\u001B[0m\u001B[1;33m\u001B[0m\u001B[1;33m\u001B[0m\u001B[0m\n\u001B[1;32m--> 317\u001B[1;33m         \u001B[0mcoeff\u001B[0m \u001B[1;33m=\u001B[0m \u001B[1;33m(\u001B[0m\u001B[1;36m1\u001B[0m \u001B[1;33m+\u001B[0m \u001B[0mdelta\u001B[0m\u001B[1;33m[\u001B[0m\u001B[0mw\u001B[0m\u001B[1;33m]\u001B[0m\u001B[1;33m)\u001B[0m \u001B[1;33m/\u001B[0m \u001B[0msigma\u001B[0m\u001B[1;33m[\u001B[0m\u001B[0mw\u001B[0m\u001B[1;33m]\u001B[0m\u001B[1;33m\u001B[0m\u001B[1;33m\u001B[0m\u001B[0m\n\u001B[0m\u001B[0;32m    318\u001B[0m         \u001B[1;32mfor\u001B[0m \u001B[0mv\u001B[0m \u001B[1;32min\u001B[0m \u001B[0mP\u001B[0m\u001B[1;33m[\u001B[0m\u001B[0mw\u001B[0m\u001B[1;33m]\u001B[0m\u001B[1;33m:\u001B[0m\u001B[1;33m\u001B[0m\u001B[1;33m\u001B[0m\u001B[0m\n\u001B[0;32m    319\u001B[0m             \u001B[0mdelta\u001B[0m\u001B[1;33m[\u001B[0m\u001B[0mv\u001B[0m\u001B[1;33m]\u001B[0m \u001B[1;33m+=\u001B[0m \u001B[0msigma\u001B[0m\u001B[1;33m[\u001B[0m\u001B[0mv\u001B[0m\u001B[1;33m]\u001B[0m \u001B[1;33m*\u001B[0m \u001B[0mcoeff\u001B[0m\u001B[1;33m\u001B[0m\u001B[1;33m\u001B[0m\u001B[0m\n",
      "\u001B[1;31mKeyboardInterrupt\u001B[0m: "
     ]
    }
   ],
   "source": [
    "\n",
    "n0_bridging_centrality = lib.centrality.bridging_centrality(n0,\n",
    "                         betweenness_approx_nodes = False)\n",
    "\n",
    "print(n0_bridging_centrality)\n",
    "print(max(n0_bridging_centrality))\n"
   ]
  }
 ],
 "metadata": {
  "interpreter": {
   "hash": "6466067c764c2694f1c40eca2655e6eecb7144d68186792bd40a1ffe2312ef24"
  },
  "kernelspec": {
   "name": "pycharm-8a1eea31",
   "language": "python",
   "display_name": "PyCharm (math3888)"
  },
  "language_info": {
   "codemirror_mode": {
    "name": "ipython",
    "version": 3
   },
   "file_extension": ".py",
   "mimetype": "text/x-python",
   "name": "python",
   "nbconvert_exporter": "python",
   "pygments_lexer": "ipython3",
   "version": "3.9.5"
  }
 },
 "nbformat": 4,
 "nbformat_minor": 1
}
{
 "cells": [
  {
   "cell_type": "markdown",
   "metadata": {
    "pycharm": {
     "name": "#%% md\n"
    }
   },
   "source": [
    "### Meta"
   ]
  },
  {
   "cell_type": "code",
   "execution_count": 4,
   "metadata": {
    "pycharm": {
     "name": "#%%\n"
    }
   },
   "outputs": [],
   "source": [
    "# Autoreload modules without having to restart the notebook kernel.\n",
    "% load_ext autoreload\n",
    "% autoreload 2\n",
    "\n",
    "\n",
    "# Plotting code stolen from Georg's notebook.\n",
    "import matplotlib.pyplot as plt\n",
    "\n",
    "% matplotlib inline\n",
    "font = {'family': 'DejaVu Sans',\n",
    "        'weight': 'bold',\n",
    "        'size': 32}\n",
    "plt.rc('font', **font)\n",
    "\n",
    "import pandas as pd\n",
    "import numpy as np\n",
    "import seaborn as sns\n",
    "\n",
    "# Personal libraries\n",
    "import lib.files\n",
    "import lib.graph\n",
    "import lib.constants\n",
    "import lib.cluster\n",
    "import lib.dataframes\n",
    "\n",
    "import community as community_louvain"
   ]
  },
  {
   "cell_type": "code",
   "source": [
    "# This cell computes the markov clusters for various inflation.\n",
    "network_name = \"icp55-cc-900-inv\"\n",
    "network = lib.graph.read_network(network_name)\n",
    "\n",
    "for i in np.arange(1.5, 6.5, .5):\n",
    "    inflation = round(i, 1)  # Round to 1 d.p.\n",
    "    cluster_name = f\"mcl-{inflation}\"\n",
    "    cluster_filename = lib.files.make_clusters_filename(network_name, cluster_name)\n",
    "    cluster_filepath = lib.files.make_filepath_to_clusters(cluster_filename)\n",
    "    lib.cluster.run_mcl_and_write_to_file(network, cluster_filepath, inflation)"
   ],
   "metadata": {
    "collapsed": false,
    "pycharm": {
     "name": "#%%\n"
    }
   },
   "execution_count": null,
   "outputs": []
  },
  {
   "cell_type": "code",
   "execution_count": null,
   "outputs": [],
   "source": [
    "# This cell calculates various validation metrics various clusterings\n",
    "network_name = \"icp55-cc-900-inv\"\n",
    "network = lib.graph.read_network(network_name)\n",
    "\n",
    "# Compute for parameter free clusterings\n",
    "lib.dataframes.cluster_dataframe('icp55-cc-900-inv', 'pc2p')\n",
    "lib.dataframes.cluster_dataframe('icp55-cc-900-inv', 'louvain')\n",
    "# Compute for each markov cluster\n",
    "for i in np.arange(1.5, 6.5, .5):\n",
    "    inflation = round(i, 1)  # Round to 1 d.p.\n",
    "    cluster_name = f\"mcl-{inflation}\"\n",
    "    lib.dataframes.cluster_dataframe(network_name, cluster_name)"
   ],
   "metadata": {
    "collapsed": false,
    "pycharm": {
     "name": "#%%\n"
    }
   }
  },
  {
   "cell_type": "code",
   "execution_count": null,
   "outputs": [],
   "source": [
    "# This cell computes a dataframe of node properties given various clusterings.\n",
    "import lib.dataframes\n",
    "\n",
    "lib.dataframes.node_dataframe('icp55-cc-900-inv', 'mcl-2.5', True, True, True, True, True, True, True, True, True, True,\n",
    "                              True, True, True, True, True, True)\n",
    "lib.dataframes.node_dataframe('icp55-cc-900-inv', 'pc2p', True, True, True, True, True, True, True, True, True, True,\n",
    "                              True, True, True, True, True, True)\n",
    "lib.dataframes.node_dataframe('icp55-cc-900-inv', 'louvain', True, True, True, True, True, True, True, True, True, True,\n",
    "                              True, True, True, True, True, True)"
   ],
   "metadata": {
    "collapsed": false,
    "pycharm": {
     "name": "#%%\n"
    }
   }
  },
  {
   "cell_type": "code",
   "execution_count": null,
   "outputs": [],
   "source": [
    "# This cell computes the louvain clustering\n",
    "\n",
    "network = lib.graph.read_network('icp55-cc-900-inv')\n",
    "partition = community_louvain.best_partition(network)\n",
    "\n",
    "partition = sorted(partition.items(), key=lambda x: x[1])\n",
    "\n",
    "clusters = []\n",
    "for (node, cluster) in partition:\n",
    "    if len(clusters) == cluster:\n",
    "        clusters.append([])\n",
    "    clusters[-1].append(node)\n",
    "\n",
    "lib.cluster.write_to_file(\n",
    "    lib.files.make_filepath_to_clusters(\n",
    "        lib.files.make_clusters_filename('icp55-cc-900-inv', 'louvain')),\n",
    "    clusters)"
   ],
   "metadata": {
    "collapsed": false,
    "pycharm": {
     "name": "#%%\n"
    }
   }
  },
  {
   "cell_type": "code",
   "execution_count": null,
   "outputs": [],
   "source": [
    "# This cell plots the loglog size distribution of clusters and saves to a file.\n",
    "\n",
    "def size_dist(clusters):\n",
    "    return sorted(map(len, clusters))\n",
    "\n",
    "def plot_loglog(xs, title, xlabel, ylabel, filepath=None):\n",
    "    m = min(xs)\n",
    "    M = max(xs)\n",
    "    x0 = np.arange(m, M + 1, dtype=float)\n",
    "    x1 = (x0) ** (-1)\n",
    "    x2 = (x0) ** (-2)\n",
    "    x3 = (x0) ** (-3)\n",
    "    numb_bin = 100\n",
    "    hb = np.arange(1, 10)\n",
    "    hb = np.append(hb, np.logspace(np.log10(10), np.log10(M), numb_bin))\n",
    "    plt.xlim(3, M)\n",
    "    plt.hist(xs, bins=hb, density=True)\n",
    "    plt.title(title)\n",
    "    plt.xlabel(xlabel)\n",
    "    plt.ylabel(ylabel)\n",
    "    plt.xscale('log')\n",
    "    plt.yscale('log')\n",
    "    plt.plot(x1, label=\"alpha = 1\")\n",
    "    plt.plot(x2, label=\"alpha = 2\")\n",
    "    plt.plot(x3, label=\"alpha = 3\")\n",
    "    plt.legend()\n",
    "    if filepath is not None:\n",
    "        plt.savefig(filepath)\n",
    "\n",
    "\n",
    "# Example given of 6.0\n",
    "inflation = 6.0\n",
    "clusters_name = f\"mcl-{inflation}\"\n",
    "clusters = lib.cluster.read_clusters(network_name, clusters_name)\n",
    "plot_loglog(size_dist(clusters), f\"mcl-{inflation} size distribution\", \"Size\", \"Percentage\",\n",
    "            lib.files.make_filepath_to_graphs(f'mcl-{inflation}-loglog-size-distribution.png'))"
   ],
   "metadata": {
    "collapsed": false,
    "pycharm": {
     "name": "#%%\n"
    }
   }
  }
 ],
 "metadata": {
  "interpreter": {
   "hash": "6466067c764c2694f1c40eca2655e6eecb7144d68186792bd40a1ffe2312ef24"
  },
  "kernelspec": {
   "name": "pycharm-8a1eea31",
   "language": "python",
   "display_name": "PyCharm (math3888)"
  },
  "language_info": {
   "codemirror_mode": {
    "name": "ipython",
    "version": 3
   },
   "file_extension": ".py",
   "mimetype": "text/x-python",
   "name": "python",
   "nbconvert_exporter": "python",
   "pygments_lexer": "ipython3",
   "version": "3.9.5"
  }
 },
 "nbformat": 4,
 "nbformat_minor": 1
}
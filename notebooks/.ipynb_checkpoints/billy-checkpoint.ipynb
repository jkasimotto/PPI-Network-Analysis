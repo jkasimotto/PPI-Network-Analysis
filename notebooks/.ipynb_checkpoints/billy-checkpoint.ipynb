{
 "cells": [
  {
   "cell_type": "markdown",
   "metadata": {
    "pycharm": {
     "name": "#%%\n"
    }
   },
   "source": [
    "### Meta"
   ]
  },
  {
   "cell_type": "code",
   "execution_count": 165,
   "metadata": {},
   "outputs": [
    {
     "name": "stdout",
     "output_type": "stream",
     "text": [
      "The autoreload extension is already loaded. To reload it, use:\n",
      "  %reload_ext autoreload\n"
     ]
    }
   ],
   "source": [
    "# Autoreload modules without having to restart the notebook kernel.\n",
    "# hi bilbo\n",
    "%load_ext autoreload\n",
    "%autoreload 2\n",
    "\n",
    "\n",
    "# Plotting code stolen from Georg's notebook.\n",
    "import matplotlib.pyplot as plt\n",
    "\n",
    "\n",
    "%matplotlib inline\n",
    "font = {'family': 'DejaVu Sans',\n",
    "        'weight': 'bold',\n",
    "        'size': 32}\n",
    "plt.rc('font', **font)"
   ]
  },
  {
   "cell_type": "markdown",
   "metadata": {},
   "source": [
    "### Imports"
   ]
  },
  {
   "cell_type": "code",
   "execution_count": 166,
   "metadata": {},
   "outputs": [],
   "source": [
    "import sys\n",
    "sys.path.insert(1, \"..\\\\\")\n",
    "\n",
    "#import markov_clustering as mcl\n",
    "import networkx as nx\n",
    "import pandas as pd\n",
    "import seaborn as sns\n",
    "sns.set_theme()\n",
    "import copy\n",
    "import numpy as np\n",
    "\n",
    "# Personal libraries\n",
    "import lib.graph\n",
    "import lib.files\n",
    "import lib.centrality\n",
    "import lib.cluster"
   ]
  },
  {
   "cell_type": "markdown",
   "metadata": {},
   "source": [
    "### Largest CC of ICP55"
   ]
  },
  {
   "cell_type": "code",
   "execution_count": 167,
   "metadata": {},
   "outputs": [],
   "source": [
    "# get the largest connected component of icp55\n",
    "icp55_lcc = lib.graph.read_weighted_edgelist(lib.files.make_filepath_to_networks('icp55-cc-900-inv.txt'))"
   ]
  },
  {
   "cell_type": "markdown",
   "metadata": {},
   "source": [
    "### Cluster the largest CC"
   ]
  },
  {
   "cell_type": "code",
   "execution_count": 168,
   "metadata": {},
   "outputs": [],
   "source": [
    "# get the clusters of the largest connected component of icp55\n",
    "clusters = lib.cluster.read_csv(lib.files.make_filepath_to_clusters('mcl.icp55-cc-900-inv.nodes.csv'))"
   ]
  },
  {
   "cell_type": "markdown",
   "metadata": {},
   "source": [
    "### Let's analyse each protein within each cluster"
   ]
  },
  {
   "cell_type": "code",
   "execution_count": 171,
   "metadata": {},
   "outputs": [],
   "source": [
    "def centralities_within_network(network, clusters):\n",
    "\n",
    "    cluster_number = []\n",
    "    proteins = []\n",
    "    protein_degrees = []\n",
    "    protein_eigenvector_centralities = []\n",
    "    protein_betweenness_centralities = []\n",
    "    protein_degree_centralities = []\n",
    "\n",
    "    for i, cluster in enumerate(clusters):\n",
    "\n",
    "        # Change the cluster variable from a list to a subgraph to use networkx functions\n",
    "        cluster = network.subgraph(cluster)\n",
    "\n",
    "        # Compute the eigenvector centralities for the cluster.\n",
    "        eigenvector = nx.eigenvector_centrality(cluster)\n",
    "        betweenness = nx.betweenness_centrality(cluster)\n",
    "        degree_centrality = nx.degree_centrality(cluster)\n",
    "\n",
    "        for protein in cluster:\n",
    "            cluster_number.append(i)\n",
    "            proteins.append(protein)\n",
    "            protein_degrees.append(cluster.degree()[protein])\n",
    "            protein_eigenvector_centralities.append(f\"{eigenvector[protein]:.3f}\")\n",
    "            protein_betweenness_centralities.append(f\"{betweenness[protein]:.3f}\")\n",
    "            protein_degree_centralities.append(f\"{degree_centrality[protein]:.3f}\")\n",
    "\n",
    "    return pd.DataFrame.from_records(\n",
    "        list(zip(\n",
    "            cluster_number,\n",
    "            proteins,\n",
    "            protein_degrees,\n",
    "            protein_degree_centralities,\n",
    "            protein_eigenvector_centralities,\n",
    "            protein_betweenness_centralities\n",
    "        )),\n",
    "        \n",
    "        columns=[\n",
    "            'cluster',\n",
    "            'protein',\n",
    "            'degree',\n",
    "            'degree centrality',\n",
    "            'eigenvector centrality',\n",
    "            'betweenness centrality']\n",
    "    )"
   ]
  },
  {
   "cell_type": "code",
   "execution_count": 172,
   "metadata": {},
   "outputs": [],
   "source": [
    "protein_centralities = centralities_within_network( icp55_lcc, clusters)\n",
    "filepath = lib.files.make_filepath_to_mcl_clusters('protein_centralities_within_clusters')"
   ]
  },
  {
   "cell_type": "code",
   "execution_count": 173,
   "metadata": {},
   "outputs": [],
   "source": [
    "protein_centralities.to_csv(filepath)"
   ]
  },
  {
   "cell_type": "markdown",
   "metadata": {},
   "source": [
    "### Interrogate some key clusters - TBC"
   ]
  },
  {
   "cell_type": "code",
   "execution_count": 174,
   "metadata": {},
   "outputs": [
    {
     "name": "stdout",
     "output_type": "stream",
     "text": [
      "ICP55 belongs to cluster 319, which contains 2 nodes. The cluster is not connected.\n",
      "\n",
      "The largest cluster is 13, which contains 207 nodes.The cluster is not connected.\n"
     ]
    }
   ],
   "source": [
    "max_cluster_size = max(len(clusters[index]) for index in range(len(clusters)))\n",
    "\n",
    "for index in range(len(clusters)): \n",
    "    if '4932.YER078C' in clusters[index]:\n",
    "        icp55_cluster_index = index\n",
    "        \n",
    "    if len(clusters[index]) == max_cluster_size:\n",
    "        max_cluster_index = index\n",
    "        \n",
    "icp55_cluster = icp55_lcc.subgraph(clusters[icp55_cluster_index])\n",
    "max_cluster = icp55_lcc.subgraph(clusters[max_cluster_index])\n",
    "\n",
    "print(f'ICP55 belongs to cluster {icp55_cluster_index}, which contains {len(clusters[icp55_cluster_index])} nodes. ' \n",
    "      f'The cluster is {\"not\" if not nx.is_connected(icp55_cluster) else \"\"} connected.\\n')  \n",
    "    \n",
    "print(f\"The largest cluster is {max_cluster_index}, which contains {max_cluster_size} nodes.\"\n",
    "      f'The cluster is {\"not\" if not nx.is_connected(max_cluster) else \"\"} connected.')"
   ]
  },
  {
   "cell_type": "markdown",
   "metadata": {},
   "source": [
    "### Let's begin some quantile analysis"
   ]
  },
  {
   "cell_type": "code",
   "execution_count": 175,
   "metadata": {},
   "outputs": [],
   "source": [
    "def get_quantile_tuple(dic, lower_quantile, upper_quantile):\n",
    "    \n",
    "    ls = list(dic.values())    \n",
    "    ls.sort()\n",
    "    ls_numpy = np.array(ls)\n",
    "    ls_lower_quantile = np.quantile(ls_numpy, lower_quantile)\n",
    "    ls_upper_quantile = np.quantile(ls_numpy, upper_quantile)\n",
    "    \n",
    "    return (ls_lower_quantile, ls_upper_quantile)  "
   ]
  },
  {
   "cell_type": "code",
   "execution_count": 176,
   "metadata": {},
   "outputs": [],
   "source": [
    "def centrality_quantiles(network, clusters, lower_quantile, upper_quantile):\n",
    "        \n",
    "    eig_cen = [] # stores at index i, a dictionary of the eigenvector centrality values for each protein in cluster i\n",
    "    quantiles_eig_cen = [] # stores at index i, a tuple for the lower/upper quantile values for the eigenvector centrality in cluster i\n",
    "                            \n",
    "    btw_cen = [] # stores at index i, a dictionary of the betweenness centrality values for each protein in cluster i\n",
    "    quantiles_btw_cen = [] # stores at index i, a tuple for the lower/upper quantile values for the betweenness centrality in cluster i\n",
    "\n",
    "    \n",
    "    deg_cen = [] # stores at index i, a dictionary of the degree centrality values for each protein in cluster i\n",
    "    quantiles_deg_cen = [] # stores at index i, a tuple for the lower/upper quantile values for the degree centrality in cluster i\n",
    "    \n",
    "    for i, cluster in enumerate(clusters):\n",
    "           \n",
    "        cluster = network.subgraph(cluster)\n",
    "        \n",
    "        # let's get the quantiles for each \n",
    "        eigenvector = nx.eigenvector_centrality(cluster)\n",
    "        eig_cen.append(eigenvector)\n",
    "        quantiles_eig_cen.append(get_quantile_tuple(eigenvector, lower_quantile, upper_quantile))\n",
    "        \n",
    "        betweenness = nx.betweenness_centrality(cluster)\n",
    "        btw_cen.append(betweenness)\n",
    "        quantiles_btw_cen.append(get_quantile_tuple(betweenness, lower_quantile, upper_quantile))\n",
    "        \n",
    "        degree = nx.degree_centrality(cluster)   \n",
    "        deg_cen.append(degree)\n",
    "        quantiles_deg_cen.append(get_quantile_tuple(degree, lower_quantile, upper_quantile))\n",
    "        \n",
    "    return [eig_cen, quantiles_eig_cen, btw_cen, quantiles_btw_cen, deg_cen, quantiles_deg_cen]    "
   ]
  },
  {
   "cell_type": "code",
   "execution_count": 178,
   "metadata": {},
   "outputs": [],
   "source": [
    "def string_cleaner(string):\n",
    "        \n",
    "    if string == 'eig':\n",
    "        return 'eigenvector_centrality'\n",
    "        \n",
    "    elif string == 'btw':\n",
    "        return 'betweenness_centrality'\n",
    "        \n",
    "    elif string == 'deg':\n",
    "        return 'degree_centrality'"
   ]
  },
  {
   "cell_type": "code",
   "execution_count": 188,
   "metadata": {},
   "outputs": [],
   "source": [
    "# for the strings, pass in 'eig', 'btw' or 'deg' for simplicity and the cleaner will handle the rest\n",
    "\n",
    "def proteins_within_centrality_quantile(\n",
    "    network, \n",
    "    clusters, \n",
    "    filter_ls, # list in which index i stores a dictionary of the filter centrality values in cluster i\n",
    "    filter_quantiles, # list in which index i stores a tuple of the lower/upper quantile values for the filter centrality \n",
    "                      # measure in cluster i\n",
    "    filter_string, \n",
    "    centrality1_ls, # list in which index i stores a dictionary of the centrality1 values in cluster i\n",
    "    centrality1_string,\n",
    "    centrality2_ls, # list in which index i stores a dictionary of the filter centrality values in cluster i\n",
    "    centrality2_string\n",
    "    ):\n",
    "\n",
    "    cluster_number = []\n",
    "    proteins = []\n",
    "    protein_degrees = []\n",
    "    protein_filter_values = []\n",
    "    protein_centrality1_values = []\n",
    "    protein_centrality2_values = []\n",
    "\n",
    "    for i, cluster in enumerate(clusters):\n",
    "\n",
    "        # Change the cluster variable from a list to a subgraph to use networkx functions\n",
    "        cluster = network.subgraph(cluster)\n",
    "        \n",
    "        for protein in cluster:\n",
    "            \n",
    "            # if the filter centrality value is within the quantile, then let's store it's data\n",
    "            if (filter_ls[i][protein] >= filter_quantiles[i][0]) and (filter_ls[i][protein] <= filter_quantiles[i][1]):\n",
    "                \n",
    "                cluster_number.append(i)\n",
    "                proteins.append(protein)\n",
    "                protein_degrees.append(cluster.degree()[protein])\n",
    "                protein_filter_values.append(f\"{filter_ls[i][protein]:.3f}\")\n",
    "                protein_centrality1_values.append(f\"{centrality1_ls[i][protein]:.3f}\")\n",
    "                protein_centrality2_values.append(f\"{centrality2_ls[i][protein]:.3f}\")\n",
    "                \n",
    "    filter_string = string_cleaner(filter_string)\n",
    "    centrality1_string = string_cleaner(centrality1_string)\n",
    "    centrality2_string = string_cleaner(centrality2_string)\n",
    "                       \n",
    "    return pd.DataFrame.from_records(\n",
    "        list(zip(\n",
    "            cluster_number,\n",
    "            proteins,\n",
    "            protein_degrees,\n",
    "            protein_filter_values,\n",
    "            protein_centrality1_values,\n",
    "            protein_centrality2_values\n",
    "        )),\n",
    "        \n",
    "        columns=[\n",
    "            'cluster',\n",
    "            'protein',\n",
    "            'degree',\n",
    "            filter_string,\n",
    "            centrality1_string,\n",
    "            centrality2_string]\n",
    "    )"
   ]
  },
  {
   "cell_type": "markdown",
   "metadata": {},
   "source": [
    "### Get the values and quantile bounds of each centrality measure, for each cluster"
   ]
  },
  {
   "cell_type": "code",
   "execution_count": 189,
   "metadata": {},
   "outputs": [],
   "source": [
    "lower_quantile = 0.5\n",
    "upper_quantile = 0.75\n",
    "\n",
    "centrality_quantile_data = centrality_quantiles(icp55_lcc, clusters, lower_quantile, upper_quantile)\n",
    "\n",
    "# A list which stores at index i, a dictionary of the eigenvector centrality values in cluster i\n",
    "eig_cen = centrality_quantile_data[0]\n",
    "\n",
    "# A list which stores at index i, a tuple of the lower/upper quantile values for the eigenvector centrality values in \n",
    "# cluster i\n",
    "eig_cen_quantiles = centrality_quantile_data[1]\n",
    "\n",
    "# A list which stores at index i, a dictionary of the betweenness centrality values in cluster i\n",
    "btw_cen = centrality_quantile_data[2]\n",
    "\n",
    "# A list which stores at index i, a tuple of the lower/upper quantile values for the betweenness centrality values in \n",
    "# cluster i\n",
    "btw_cen_quantiles = centrality_quantile_data[3]\n",
    "\n",
    "# A list which stores at index i, a dictionary of the degree centrality values in cluster i\n",
    "deg_cen = centrality_quantile_data[4]\n",
    "\n",
    "# A list which stores at index i, a tuple of the lower/upper quantile values for the degree centrality values in cluster i\n",
    "deg_cen_quantiles = centrality_quantile_data[5]"
   ]
  },
  {
   "cell_type": "markdown",
   "metadata": {},
   "source": [
    "### Filter proteins by eigenvector centrality"
   ]
  },
  {
   "cell_type": "code",
   "execution_count": 191,
   "metadata": {},
   "outputs": [],
   "source": [
    "filtered_proteins_eig_centrality = proteins_within_centrality_quantile(\n",
    "                                    icp55_lcc,\n",
    "                                    clusters,\n",
    "                                    eig_cen,\n",
    "                                    eig_cen_quantiles,\n",
    "                                    'eig',\n",
    "                                    btw_cen,\n",
    "                                    'btw',\n",
    "                                    deg_cen,\n",
    "                                    'deg')\n",
    "\n",
    "filepath = lib.files.make_filepath_to_mcl_clusters(f'eigenvector_centrality_quantile_{lower_quantile}_to_{upper_quantile}')"
   ]
  },
  {
   "cell_type": "code",
   "execution_count": 192,
   "metadata": {},
   "outputs": [],
   "source": [
    "filtered_proteins_eig_centrality.to_csv(filepath)"
   ]
  },
  {
   "cell_type": "markdown",
   "metadata": {},
   "source": [
    "### Filter proteins by betweenness centrality"
   ]
  },
  {
   "cell_type": "code",
   "execution_count": 193,
   "metadata": {},
   "outputs": [],
   "source": [
    "filtered_proteins_btw_centrality = proteins_within_centrality_quantile(\n",
    "                                    icp55_lcc,\n",
    "                                    clusters,\n",
    "                                    btw_cen,\n",
    "                                    btw_cen_quantiles,\n",
    "                                    'btw',\n",
    "                                    eig_cen,\n",
    "                                    'eig',\n",
    "                                    deg_cen,\n",
    "                                    'deg')\n",
    "\n",
    "filepath = lib.files.make_filepath_to_mcl_clusters(f'betweenness_centrality_quantile_{lower_quantile}_to_{upper_quantile}')"
   ]
  },
  {
   "cell_type": "code",
   "execution_count": 194,
   "metadata": {},
   "outputs": [],
   "source": [
    "filtered_proteins_btw_centrality.to_csv(filepath)"
   ]
  },
  {
   "cell_type": "markdown",
   "metadata": {},
   "source": [
    "### Filter proteins by degree centrality"
   ]
  },
  {
   "cell_type": "code",
   "execution_count": 195,
   "metadata": {},
   "outputs": [],
   "source": [
    "filtered_proteins_deg_centrality = proteins_within_centrality_quantile(\n",
    "                                    icp55_lcc,\n",
    "                                    clusters,\n",
    "                                    deg_cen,\n",
    "                                    deg_cen_quantiles,\n",
    "                                    'deg',\n",
    "                                    eig_cen,\n",
    "                                    'eig',\n",
    "                                    btw_cen,\n",
    "                                    'btw')\n",
    "\n",
    "filepath = lib.files.make_filepath_to_mcl_clusters(f'degree_centrality_quantile_{lower_quantile}_to_{upper_quantile}')"
   ]
  },
  {
   "cell_type": "code",
   "execution_count": 196,
   "metadata": {},
   "outputs": [],
   "source": [
    "filtered_proteins_deg_centrality.to_csv(filepath)"
   ]
  },
  {
   "cell_type": "code",
   "execution_count": null,
   "metadata": {},
   "outputs": [],
   "source": [
    "# labels = {}    \n",
    "# pos = nx.spring_layout(icp55_lcc)\n",
    "# val_map = {'4932.YER078C': 0.5}\n",
    "# values = [val_map.get(node, 0.25) for node in icp55_lcc.nodes()]\n",
    "\n",
    "\n",
    "# for node in icp55_lcc.nodes():\n",
    "#     if node == '4932.YER078C':\n",
    "        \n",
    "#         #set the node name as the key and the label as its value \n",
    "#         labels[node] = node\n",
    "        \n",
    "#set the argument 'with labels' to False so you have unlabeled graph\n",
    "# nx.draw(icp55_lcc, cmap=plt.get_cmap('viridis'), node_color=values, node_size = 10, with_labels=False)\n",
    "#Now only add labels to the nodes you require (the hubs in my case)\n",
    "# nx.draw_networkx_labels(icp55_lcc,pos,labels,font_size=16,font_color='r')"
   ]
  }
 ],
 "metadata": {
  "kernelspec": {
   "display_name": "Python 3",
   "language": "python",
   "name": "python3"
  },
  "language_info": {
   "codemirror_mode": {
    "name": "ipython",
    "version": 3
   },
   "file_extension": ".py",
   "mimetype": "text/x-python",
   "name": "python",
   "nbconvert_exporter": "python",
   "pygments_lexer": "ipython3",
   "version": "3.8.11"
  }
 },
 "nbformat": 4,
 "nbformat_minor": 1
}

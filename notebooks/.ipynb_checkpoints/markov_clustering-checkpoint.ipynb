{
 "cells": [
  {
   "cell_type": "markdown",
   "metadata": {
    "collapsed": true,
    "pycharm": {
     "name": "#%% md\n"
    }
   },
   "source": [
    "# Meta"
   ]
  },
  {
   "cell_type": "code",
   "execution_count": null,
   "metadata": {
    "pycharm": {
     "name": "#%%\n"
    }
   },
   "outputs": [],
   "source": [
    "# Autoreload modules without having to restart the notebook kernel.\n",
    "% load_ext autoreload\n",
    "% autoreload 2\n",
    "\n",
    "\n",
    "# Plotting code from Georg's notebook.\n",
    "import matplotlib.pyplot as plt\n",
    "\n",
    "% matplotlib inline\n",
    "font = {'family': 'DejaVu Sans',\n",
    "        'weight': 'bold',\n",
    "        'size': 32}\n",
    "plt.rc('font', **font)"
   ]
  },
  {
   "cell_type": "markdown",
   "metadata": {},
   "source": [
    "# Imports"
   ]
  },
  {
   "cell_type": "code",
   "execution_count": null,
   "metadata": {
    "pycharm": {
     "name": "#%%\n"
    }
   },
   "outputs": [],
   "source": [
    "# Make the source directory available on all machines.\n",
    "import sys\n",
    "\n",
    "# This must be executed before importing any files from the 'lib' module which exists in the src directory.\n",
    "sys.path.insert(1, \"..\\\\..\\\\\")\n",
    "\n",
    "# Personal libraries\n",
    "import lib.cluster\n",
    "import lib.graph\n",
    "import lib.files"
   ]
  },
  {
   "cell_type": "markdown",
   "metadata": {
    "pycharm": {
     "name": "#%% md\n"
    }
   },
   "source": [
    "# Constants"
   ]
  },
  {
   "cell_type": "code",
   "execution_count": null,
   "metadata": {
    "pycharm": {
     "name": "#%%\n"
    }
   },
   "outputs": [],
   "source": [
    "INFLATION = 2  # The parameter controlling Markov Clustering"
   ]
  },
  {
   "cell_type": "markdown",
   "metadata": {
    "pycharm": {
     "name": "#%% md\n"
    }
   },
   "source": [
    "# Analysis\n",
    "\n",
    "### ICP55 connected component with inviable proteins"
   ]
  },
  {
   "cell_type": "code",
   "execution_count": null,
   "metadata": {
    "pycharm": {
     "name": "#%%\n"
    }
   },
   "outputs": [],
   "source": [
    "lib.cluster.run_mcl_and_write_to_file(\n",
    "    graph=lib.graph.read_weighted_edgelist(lib.files.make_filepath_to_networks('icp55-cc-900-inv.txt')),\n",
    "    filepath=lib.files.make_filepath_to_mcl_clusters(\"icp55-cc-inviable.csv\"),\n",
    "    inflation=INFLATION\n",
    ")"
   ]
  },
  {
   "cell_type": "markdown",
   "metadata": {
    "pycharm": {
     "name": "#%% md\n"
    }
   },
   "source": [
    "### ICP55 connected component no inviable proteins"
   ]
  },
  {
   "cell_type": "code",
   "execution_count": null,
   "metadata": {
    "pycharm": {
     "name": "#%%\n"
    }
   },
   "outputs": [],
   "source": [
    "lib.cluster.run_mcl_and_write_to_file(\n",
    "    graph=lib.graph.read_edgelist(lib.files.make_filepath_to_networks('icp55-cc-900-noInv.txt')),\n",
    "    filepath=lib.files.make_filepath_to_mcl_clusters(\"icp55-cc-inviable.csv\"),\n",
    "    inflation=INFLATION\n",
    ")"
   ]
  }
 ],
 "metadata": {
  "kernelspec": {
   "display_name": "Python 3",
   "language": "python",
   "name": "python3"
  },
  "language_info": {
   "codemirror_mode": {
    "name": "ipython",
    "version": 3
   },
   "file_extension": ".py",
   "mimetype": "text/x-python",
   "name": "python",
   "nbconvert_exporter": "python",
   "pygments_lexer": "ipython3",
   "version": "3.9.5"
  }
 },
 "nbformat": 4,
 "nbformat_minor": 1
}

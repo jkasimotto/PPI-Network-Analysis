{
 "cells": [
  {
   "cell_type": "markdown",
   "metadata": {
    "collapsed": true,
    "pycharm": {
     "name": "#%% md\n"
    }
   },
   "source": [
    "# README\n",
    "This notebook is for all things centrality related."
   ]
  },
  {
   "cell_type": "code",
   "execution_count": 6,
   "outputs": [
    {
     "name": "stdout",
     "output_type": "stream",
     "text": [
      "The autoreload extension is already loaded. To reload it, use:\n",
      "  %reload_ext autoreload\n"
     ]
    }
   ],
   "source": [
    "# Autoreload modules without having to restart the notebook kernel.\n",
    "% load_ext autoreload\n",
    "% autoreload 2\n",
    "\n",
    "import networkx as nx\n",
    "\n",
    "import lib.centrality\n",
    "import lib.files\n",
    "import lib.graph"
   ],
   "metadata": {
    "collapsed": false,
    "pycharm": {
     "name": "#%%\n"
    }
   }
  },
  {
   "cell_type": "markdown",
   "source": [
    "### ICP55 cc 900 inv mcl cluster-shorpl<=3"
   ],
   "metadata": {
    "collapsed": false,
    "pycharm": {
     "name": "#%% md\n"
    }
   }
  },
  {
   "cell_type": "code",
   "execution_count": null,
   "outputs": [],
   "source": [
    "filepath = lib.files.make_filepath_to_networks('mcl_shorpl_lte_3.icp55-cc-900-inv.csv')\n",
    "network = lib.graph.read_weighted_edgelist(filepath)\n",
    "closeness = nx.closeness_centrality(network)\n",
    "eigenvector = nx.eigenvector_centrality(network)\n",
    "betweeness = nx.betweenness_centrality(network)\n",
    "bridging = lib.centrality.bridging_centrality(network, betweeness=betweeness)  # pass betweeness to avoid recaculation.\n"
   ],
   "metadata": {
    "collapsed": false,
    "pycharm": {
     "name": "#%%\n"
    }
   }
  }
 ],
 "metadata": {
  "kernelspec": {
   "name": "pycharm-8a1eea31",
   "language": "python",
   "display_name": "PyCharm (math3888)"
  },
  "language_info": {
   "codemirror_mode": {
    "name": "ipython",
    "version": 2
   },
   "file_extension": ".py",
   "mimetype": "text/x-python",
   "name": "python",
   "nbconvert_exporter": "python",
   "pygments_lexer": "ipython2",
   "version": "2.7.6"
  }
 },
 "nbformat": 4,
 "nbformat_minor": 0
}
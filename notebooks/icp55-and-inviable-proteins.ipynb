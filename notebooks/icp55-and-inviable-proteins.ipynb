{
 "cells": [
  {
   "cell_type": "markdown",
   "metadata": {
    "pycharm": {
     "name": "#%% md\n"
    }
   },
   "source": [
    "### Meta"
   ]
  },
  {
   "cell_type": "code",
   "execution_count": null,
   "metadata": {
    "pycharm": {
     "name": "#%%\n"
    }
   },
   "outputs": [],
   "source": [
    "# Autoreload modules without having to restart the notebook kernel.\n",
    "# hi bilbo\n",
    "%load_ext autoreload\n",
    "%autoreload 2\n",
    "\n",
    "\n",
    "# Plotting code stolen from Georg's notebook.\n",
    "import matplotlib.pyplot as plt\n",
    "\n",
    "%matplotlib inline\n",
    "font = {'family': 'DejaVu Sans',\n",
    "        'weight': 'bold',\n",
    "        'size': 32}\n",
    "plt.rc('font', **font)"
   ]
  },
  {
   "cell_type": "markdown",
   "metadata": {
    "pycharm": {
     "name": "#%% md\n"
    }
   },
   "source": [
    "### Imports"
   ]
  },
  {
   "cell_type": "code",
   "execution_count": 1,
   "metadata": {
    "pycharm": {
     "name": "#%%\n"
    }
   },
   "outputs": [],
   "source": [
    "import sys\n",
    "sys.path.insert(1, \"..\\\\\")\n",
    "\n",
    "import random\n",
    "\n",
    "#import markov_clustering as mcl\n",
    "import networkx as nx\n",
    "\n",
    "# Personal libraries\n",
    "import lib.cluster\n",
    "import lib.graph\n",
    "import lib.plot\n",
    "import lib.files"
   ]
  },
  {
   "cell_type": "code",
   "execution_count": 4,
   "metadata": {},
   "outputs": [],
   "source": [
    "### Constants"
   ]
  },
  {
   "cell_type": "code",
   "execution_count": null,
   "metadata": {
    "pycharm": {
     "name": "#%%\n"
    }
   },
   "outputs": [],
   "source": [
    "ICP55 = '4932.YER078C'\n",
    "THRESHOLD = 900\n",
    "MCL_INFLATION = 2  # The parameter controlling Markov Clustering\n",
    "\n",
    "# ICP55's inviable neighbour.\n",
    "YHC1 = '4932.YLR298C'"
   ]
  },
  {
   "cell_type": "markdown",
   "metadata": {},
   "source": [
    "### Data"
   ]
  },
  {
   "cell_type": "code",
   "execution_count": null,
   "metadata": {
    "pycharm": {
     "name": "#%%\n"
    }
   },
   "outputs": [],
   "source": [
    "class Cluster:\n",
    "\n",
    "    def __init__(self, proteins):\n",
    "        self.proteins = proteins\n",
    "\n",
    "\n",
    "class Protein:\n",
    "\n",
    "    def __init__(self, systemic_name):\n",
    "        self.systemic_name = systemic_name\n",
    "        self.clusters = []\n",
    "\n",
    "        self.neighbourhoods = {}  # Dict indexed by neighbourhood path length.\n",
    "\n",
    "\n",
    "class NetworkHub:\n",
    "    \"\"\"\n",
    "    The controller passing networks and common data  (e.g. list of inviable proteins)\n",
    "    \"\"\"\n",
    "\n",
    "    def __init__(self, networks, load_inviable_proteins=False):\n",
    "        self.networks = networks\n",
    "        self.inviable_proteins = None\n",
    "        if load_inviable_proteins:\n",
    "            self.inviable_proteins = lib.graph.read_inviable_proteins()\n",
    "\n",
    "\n",
    "class NetworkWrapper:\n",
    "    \"\"\"\n",
    "    A wrapper for networks to store additional properties (e.g. clusters)\n",
    "    \"\"\"\n",
    "\n",
    "    def __init__(self, network):\n",
    "        self.network = network\n",
    "        self.threshold = THRESHOLD\n",
    "        self.proteins = [Protein(ICP55)]  # Proteins of interest.\n",
    "        self.inviable_proteins = lib.graph.read_inviable_proteins()\n",
    "        self.mcl = None  # MCL"
   ]
  },
  {
   "cell_type": "code",
   "execution_count": null,
   "metadata": {
    "pycharm": {
     "name": "#%%\n"
    }
   },
   "outputs": [],
   "source": [
    "# The first network is the largest connected component containing ICP55 with inviable proteins, has edges above 900 and no degree 0 nodes.\n",
    "n0 = lib.graph.read_STRING()\n",
    "n0 = lib.graph.remove_edges_below_threshold(n0, THRESHOLD)\n",
    "n0 = lib.graph.remove_nodes_with_degree_lte(n0, 0)\n",
    "n0 = lib.graph.get_largest_cc_with_node(n0, ICP55)\n",
    "# We only want to look at the largest cc of ICP55.\n",
    "n0 = NetworkWrapper(n0)\n",
    "\n",
    "# I want to visualise ICP55 neighbourhoods\n",
    "n0.neighbourhoods = [\n",
    "    lib.graph.get_neighbourhood(n0.network, ICP55, path_length=1),\n",
    "    lib.graph.get_neighbourhood(n0.network, ICP55, path_length=2),\n",
    "    lib.graph.get_neighbourhood(n0.network, ICP55, path_length=3)\n",
    "]\n",
    "\n",
    "# Markov clustering\n",
    "n0.mcl = lib.cluster.run_mcl(n0.network, inflation=MCL_INFLATION)\n",
    "\n",
    "# I also want to visualise ICP55 neighbourhoods as clusters\n",
    "shortest_path_lengths = nx.single_source_shortest_path_length(n0.network, ICP55)\n",
    "n0.neighbourhood_clusters = [\n",
    "    lib.cluster.neighbourhood_clusters(n0.mcl.clusters, shortest_path_lengths, path_length=1),\n",
    "    lib.cluster.neighbourhood_clusters(n0.mcl.clusters, shortest_path_lengths, path_length=2),\n",
    "    lib.cluster.neighbourhood_clusters(n0.mcl.clusters, shortest_path_lengths, path_length=3)\n",
    "]\n",
    "# I use this to overlay ICP55's cluster exclusively on top of graphs.\n",
    "n0.icp55_cluster = lib.cluster.get_complexes_containing_protein(n0.mcl.clusters, ICP55)[0]"
   ]
  },
  {
   "cell_type": "code",
   "execution_count": null,
   "metadata": {
    "pycharm": {
     "name": "#%%\n"
    }
   },
   "outputs": [],
   "source": [
    "n1 = lib.graph.read_STRING()\n",
    "n1 = lib.graph.remove_edges_below_threshold(n1, THRESHOLD)\n",
    "n1 = lib.graph.remove_nodes_with_degree_lte(n1, 0)\n",
    "n1 = lib.graph.get_largest_cc_with_node(n1, ICP55)\n",
    "n1 = NetworkWrapper(n1)\n",
    "\n",
    "n1.neighbourhoods = [\n",
    "    lib.graph.get_neighbourhood(n1.network, ICP55, path_length=1),\n",
    "    lib.graph.get_neighbourhood(n1.network, ICP55, path_length=2),\n",
    "    lib.graph.get_neighbourhood(n1.network, ICP55, path_length=3)\n",
    "]\n",
    "\n",
    "n1.mcl = lib.cluster.run_mcl(n1.network, inflation=MCL_INFLATION)\n",
    "\n",
    "shortest_path_lengths = nx.single_source_shortest_path_length(n1.network, ICP55)\n",
    "n1.neighbourhood_clusters = [\n",
    "    lib.cluster.neighbourhood_clusters(n1.mcl.clusters, shortest_path_lengths, path_length=1),\n",
    "    lib.cluster.neighbourhood_clusters(n1.mcl.clusters, shortest_path_lengths, path_length=2),\n",
    "    lib.cluster.neighbourhood_clusters(n1.mcl.clusters, shortest_path_lengths, path_length=3)\n",
    "]\n",
    "n1.icp55_cluster = lib.cluster.get_complexes_containing_protein(n1.mcl.clusters, ICP55)[\n",
    "    0]"
   ]
  },
  {
   "cell_type": "code",
   "execution_count": null,
   "metadata": {
    "pycharm": {
     "name": "#%%\n"
    }
   },
   "outputs": [],
   "source": [
    "\n",
    "# Generate a colour for each cluster. They are separated by Hue to make as large a visual diff as possible.\n",
    "colours = lib.plot.generate_n_colours(len(n0.neighbourhood_clusters[1]))\n",
    "colours_1 = lib.plot.generate_n_colours(len(n1.neighbourhood_clusters[1]))\n",
    "\n",
    "# Randomly shuffle colours so large clusters have visibly different colours.\n",
    "random.shuffle(colours)\n",
    "random.shuffle(colours_1)\n",
    "\n",
    "# Zip into tuples of (subgraph, colour)\n",
    "subgraphs_and_colours = list(zip(map(n0.network.subgraph, n0.neighbourhood_clusters[1]), colours))\n",
    "subgraphs_and_colours_1 = list(zip(map(n1.network.subgraph, n1.neighbourhood_clusters[1]), colours_1))\n",
    "\n",
    "# Add in the ICP55 cluster on top with a distinct colour\n",
    "subgraphs_and_colours += [(n0.network.subgraph(n0.icp55_cluster), 'brown')]\n",
    "subgraphs_and_colours_1 += [(n1.network.subgraph(n1.icp55_cluster), 'brown')]"
   ]
  },
  {
   "cell_type": "code",
   "execution_count": null,
   "metadata": {
    "pycharm": {
     "name": "#%%\n"
    }
   },
   "outputs": [],
   "source": [
    "print(n0.mcl.modularity)\n",
    "print(n1.mcl.modularity)"
   ]
  },
  {
   "cell_type": "markdown",
   "metadata": {
    "pycharm": {
     "name": "#%% md\n"
    }
   },
   "source": [
    "## ICP55 and inviable proteins\n",
    "We see ICP55 is not in the list of 'inviable' proteins."
   ]
  },
  {
   "cell_type": "code",
   "execution_count": null,
   "metadata": {
    "pycharm": {
     "name": "#%%\n"
    }
   },
   "outputs": [],
   "source": [
    "ICP55 in essential_proteins"
   ]
  },
  {
   "cell_type": "markdown",
   "metadata": {
    "pycharm": {
     "name": "#%% md\n"
    }
   },
   "source": [
    "However, many exist within 1, 2 and 3 neighbourhoods. Of particular note is YHC1, the inviable neighbour to ICP55 and the cluster of inviable proteins 2 away from ICP55.\n",
    "\n",
    "Questions for the biology students.\n",
    "- Is YHC1 known?\n",
    "- "
   ]
  },
  {
   "cell_type": "code",
   "execution_count": null,
   "metadata": {
    "pycharm": {
     "name": "#%%\n"
    }
   },
   "outputs": [],
   "source": [
    "figure = plt.figure(figsize=(30, 25))\n",
    "ax1 = figure.add_subplot(221)\n",
    "ax2 = figure.add_subplot(222)\n",
    "ax3 = figure.add_subplot(223)\n",
    "\n",
    "lib.plot.network_layers(cc, [\n",
    "    (neighbourhood_1, 'blue'),\n",
    "    (essential_proteins, 'red'),\n",
    "    (graph.subgraph(ICP55), 'yellow')\n",
    "], base=neighbourhood_1, ax=ax1)\n",
    "lib.plot.network_layers(cc, [\n",
    "    (neighbourhood_2, 'blue'),\n",
    "    (essential_proteins, 'red'),\n",
    "    (graph.subgraph(ICP55), 'yellow')\n",
    "], base=neighbourhood_2, ax=ax2)\n",
    "lib.plot.network_layers(cc, [\n",
    "    (neighbourhood_3, 'blue'),\n",
    "    (essential_proteins, 'red'),\n",
    "    (graph.subgraph(ICP55), 'yellow')\n",
    "], base=neighbourhood_3, ax=ax3)\n",
    "\n",
    "figure.show()\n",
    "# figure.savefig(lib.files.make_filepath_to_graphs('icp55-neighbourhoods-with-inviable-proteins-highlighted.png'))"
   ]
  },
  {
   "cell_type": "markdown",
   "metadata": {
    "pycharm": {
     "name": "#%% md\n"
    }
   },
   "source": [
    "## Markov Clustering\n",
    "We can cluster ICP55's largest connected component with ~4500 nodes and ~60000 edges."
   ]
  },
  {
   "cell_type": "code",
   "execution_count": null,
   "metadata": {
    "pycharm": {
     "name": "#%%\n"
    }
   },
   "outputs": [],
   "source": [
    "# Convert to sparse matrix to run the algorithm.\n",
    "matrix = nx.to_scipy_sparse_matrix(cc)\n",
    "result = mcl.run_mcl(matrix, inflation=2)\n",
    "clusters = mcl.get_clusters(result)\n",
    "mcl.draw_graph(matrix, clusters, node_size=50, with_labels=False)"
   ]
  },
  {
   "cell_type": "markdown",
   "metadata": {
    "pycharm": {
     "name": "#%% md\n"
    }
   },
   "source": [
    "Zooming in on ICP55 we see it does effectively bridge two clusters in the network. It itself exists in a cluster of size 2. However if we remove inviable proteins we lose this interesting bridging feature of ICP55."
   ]
  },
  {
   "cell_type": "code",
   "execution_count": null,
   "metadata": {
    "pycharm": {
     "name": "#%%\n"
    }
   },
   "outputs": [],
   "source": [
    "figure = plt.figure(figsize=(30, 50))\n",
    "ax1 = figure.add_subplot(211)\n",
    "ax2 = figure.add_subplot(212)\n",
    "\n",
    "lib.plot.network_layers(cc, subgraphs_and_colours, base=neighbourhood_2, ax=ax1)\n",
    "lib.plot.network_layers(cc_no_inviable, subgraphs_and_colours_1, base=neighbourhood_2_no_inviable, ax=ax2)\n",
    "\n",
    "figure.show()"
   ]
  },
  {
   "cell_type": "code",
   "execution_count": null,
   "metadata": {
    "pycharm": {
     "name": "#%%\n"
    }
   },
   "outputs": [],
   "source": []
  }
 ],
 "metadata": {
  "interpreter": {
   "hash": "6466067c764c2694f1c40eca2655e6eecb7144d68186792bd40a1ffe2312ef24"
  },
  "kernelspec": {
   "display_name": "Python 3",
   "language": "python",
   "name": "python3"
  },
  "language_info": {
   "codemirror_mode": {
    "name": "ipython",
    "version": 3
   },
   "file_extension": ".py",
   "mimetype": "text/x-python",
   "name": "python",
   "nbconvert_exporter": "python",
   "pygments_lexer": "ipython3",
   "version": "3.9.5"
  }
 },
 "nbformat": 4,
 "nbformat_minor": 1
}
